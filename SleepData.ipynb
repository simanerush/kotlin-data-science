{
 "cells": [
  {
   "cell_type": "code",
   "execution_count": 1,
   "id": "3aa11318",
   "metadata": {},
   "outputs": [],
   "source": [
    "%use krangl"
   ]
  },
  {
   "cell_type": "code",
   "execution_count": 2,
   "id": "f4aa32fc",
   "metadata": {},
   "outputs": [
    {
     "data": {
      "text/html": [
       "<html><body><table><tr><th style=\"text-align:left\">name</th><th style=\"text-align:left\">genus</th><th style=\"text-align:left\">vore</th><th style=\"text-align:left\">order</th><th style=\"text-align:left\">conservation</th><th style=\"text-align:left\">sleep_total</th><th style=\"text-align:left\">sleep_rem</th><th style=\"text-align:left\">sleep_cycle</th><th style=\"text-align:left\">awake</th><th style=\"text-align:left\">brainwt</th><th style=\"text-align:left\">bodywt</th></tr><tr><td style=\"text-align:left\" title=\"Cheetah\">Cheetah</td><td style=\"text-align:left\" title=\"Acinonyx\">Acinonyx</td><td style=\"text-align:left\" title=\"carni\">carni</td><td style=\"text-align:left\" title=\"Carnivora\">Carnivora</td><td style=\"text-align:left\" title=\"lc\">lc</td><td style=\"text-align:left\" title=\"12.1\">12.1</td><td style=\"text-align:left\" title=\"null\">null</td><td style=\"text-align:left\" title=\"null\">null</td><td style=\"text-align:left\" title=\"11.9\">11.9</td><td style=\"text-align:left\" title=\"null\">null</td><td style=\"text-align:left\" title=\"50.0\">50.0</td></tr><tr><td style=\"text-align:left\" title=\"Owl monkey\">Owl monkey</td><td style=\"text-align:left\" title=\"Aotus\">Aotus</td><td style=\"text-align:left\" title=\"omni\">omni</td><td style=\"text-align:left\" title=\"Primates\">Primates</td><td style=\"text-align:left\" title=\"null\">null</td><td style=\"text-align:left\" title=\"17.0\">17.0</td><td style=\"text-align:left\" title=\"1.8\">1.8</td><td style=\"text-align:left\" title=\"null\">null</td><td style=\"text-align:left\" title=\"7.0\">7.0</td><td style=\"text-align:left\" title=\"0.0155\">0.0155</td><td style=\"text-align:left\" title=\"0.48\">0.48</td></tr><tr><td style=\"text-align:left\" title=\"Mountain beaver\">Mountain beaver</td><td style=\"text-align:left\" title=\"Aplodontia\">Aplodontia</td><td style=\"text-align:left\" title=\"herbi\">herbi</td><td style=\"text-align:left\" title=\"Rodentia\">Rodentia</td><td style=\"text-align:left\" title=\"nt\">nt</td><td style=\"text-align:left\" title=\"14.4\">14.4</td><td style=\"text-align:left\" title=\"2.4\">2.4</td><td style=\"text-align:left\" title=\"null\">null</td><td style=\"text-align:left\" title=\"9.6\">9.6</td><td style=\"text-align:left\" title=\"null\">null</td><td style=\"text-align:left\" title=\"1.35\">1.35</td></tr><tr><td style=\"text-align:left\" title=\"Greater short-tailed shrew\">Greater short-tailed shrew</td><td style=\"text-align:left\" title=\"Blarina\">Blarina</td><td style=\"text-align:left\" title=\"omni\">omni</td><td style=\"text-align:left\" title=\"Soricomorpha\">Soricomorpha</td><td style=\"text-align:left\" title=\"lc\">lc</td><td style=\"text-align:left\" title=\"14.9\">14.9</td><td style=\"text-align:left\" title=\"2.3\">2.3</td><td style=\"text-align:left\" title=\"0.133333333\">0.133333333</td><td style=\"text-align:left\" title=\"9.1\">9.1</td><td style=\"text-align:left\" title=\"2.9E-4\">2.9E-4</td><td style=\"text-align:left\" title=\"0.019\">0.019</td></tr><tr><td style=\"text-align:left\" title=\"Cow\">Cow</td><td style=\"text-align:left\" title=\"Bos\">Bos</td><td style=\"text-align:left\" title=\"herbi\">herbi</td><td style=\"text-align:left\" title=\"Artiodactyla\">Artiodactyla</td><td style=\"text-align:left\" title=\"domesticated\">domesticated</td><td style=\"text-align:left\" title=\"4.0\">4.0</td><td style=\"text-align:left\" title=\"0.7\">0.7</td><td style=\"text-align:left\" title=\"0.666666667\">0.666666667</td><td style=\"text-align:left\" title=\"20.0\">20.0</td><td style=\"text-align:left\" title=\"0.423\">0.423</td><td style=\"text-align:left\" title=\"600.0\">600.0</td></tr><tr><td style=\"text-align:left\" title=\"Three-toed sloth\">Three-toed sloth</td><td style=\"text-align:left\" title=\"Bradypus\">Bradypus</td><td style=\"text-align:left\" title=\"herbi\">herbi</td><td style=\"text-align:left\" title=\"Pilosa\">Pilosa</td><td style=\"text-align:left\" title=\"null\">null</td><td style=\"text-align:left\" title=\"14.4\">14.4</td><td style=\"text-align:left\" title=\"2.2\">2.2</td><td style=\"text-align:left\" title=\"0.766666667\">0.766666667</td><td style=\"text-align:left\" title=\"9.6\">9.6</td><td style=\"text-align:left\" title=\"null\">null</td><td style=\"text-align:left\" title=\"3.85\">3.85</td></tr></table><p>... with 77 more rows. Shape: 83 x 11. \n",
       "</p></body></html>"
      ]
     },
     "execution_count": 2,
     "metadata": {},
     "output_type": "execute_result"
    }
   ],
   "source": [
    "sleepData"
   ]
  },
  {
   "cell_type": "code",
   "execution_count": 3,
   "id": "9c5b8012",
   "metadata": {},
   "outputs": [
    {
     "data": {
      "text/html": [
       "<html><body><table><tr><th style=\"text-align:left\">name</th><th style=\"text-align:left\">genus</th><th style=\"text-align:left\">vore</th><th style=\"text-align:left\">order</th><th style=\"text-align:left\">conservation</th><th style=\"text-align:left\">sleep_total</th><th style=\"text-align:left\">sleep_rem</th><th style=\"text-align:left\">sleep_cycle</th><th style=\"text-align:left\">awake</th><th style=\"text-align:left\">brainwt</th><th style=\"text-align:left\">bodywt</th></tr><tr><td style=\"text-align:left\" title=\"Cheetah\">Cheetah</td><td style=\"text-align:left\" title=\"Acinonyx\">Acinonyx</td><td style=\"text-align:left\" title=\"carni\">carni</td><td style=\"text-align:left\" title=\"Carnivora\">Carnivora</td><td style=\"text-align:left\" title=\"lc\">lc</td><td style=\"text-align:left\" title=\"12.1\">12.1</td><td style=\"text-align:left\" title=\"null\">null</td><td style=\"text-align:left\" title=\"null\">null</td><td style=\"text-align:left\" title=\"11.9\">11.9</td><td style=\"text-align:left\" title=\"null\">null</td><td style=\"text-align:left\" title=\"50.0\">50.0</td></tr><tr><td style=\"text-align:left\" title=\"Owl monkey\">Owl monkey</td><td style=\"text-align:left\" title=\"Aotus\">Aotus</td><td style=\"text-align:left\" title=\"omni\">omni</td><td style=\"text-align:left\" title=\"Primates\">Primates</td><td style=\"text-align:left\" title=\"null\">null</td><td style=\"text-align:left\" title=\"17.0\">17.0</td><td style=\"text-align:left\" title=\"1.8\">1.8</td><td style=\"text-align:left\" title=\"null\">null</td><td style=\"text-align:left\" title=\"7.0\">7.0</td><td style=\"text-align:left\" title=\"0.0155\">0.0155</td><td style=\"text-align:left\" title=\"0.48\">0.48</td></tr><tr><td style=\"text-align:left\" title=\"Mountain beaver\">Mountain beaver</td><td style=\"text-align:left\" title=\"Aplodontia\">Aplodontia</td><td style=\"text-align:left\" title=\"herbi\">herbi</td><td style=\"text-align:left\" title=\"Rodentia\">Rodentia</td><td style=\"text-align:left\" title=\"nt\">nt</td><td style=\"text-align:left\" title=\"14.4\">14.4</td><td style=\"text-align:left\" title=\"2.4\">2.4</td><td style=\"text-align:left\" title=\"null\">null</td><td style=\"text-align:left\" title=\"9.6\">9.6</td><td style=\"text-align:left\" title=\"null\">null</td><td style=\"text-align:left\" title=\"1.35\">1.35</td></tr><tr><td style=\"text-align:left\" title=\"Greater short-tailed shrew\">Greater short-tailed shrew</td><td style=\"text-align:left\" title=\"Blarina\">Blarina</td><td style=\"text-align:left\" title=\"omni\">omni</td><td style=\"text-align:left\" title=\"Soricomorpha\">Soricomorpha</td><td style=\"text-align:left\" title=\"lc\">lc</td><td style=\"text-align:left\" title=\"14.9\">14.9</td><td style=\"text-align:left\" title=\"2.3\">2.3</td><td style=\"text-align:left\" title=\"0.133333333\">0.133333333</td><td style=\"text-align:left\" title=\"9.1\">9.1</td><td style=\"text-align:left\" title=\"2.9E-4\">2.9E-4</td><td style=\"text-align:left\" title=\"0.019\">0.019</td></tr><tr><td style=\"text-align:left\" title=\"Cow\">Cow</td><td style=\"text-align:left\" title=\"Bos\">Bos</td><td style=\"text-align:left\" title=\"herbi\">herbi</td><td style=\"text-align:left\" title=\"Artiodactyla\">Artiodactyla</td><td style=\"text-align:left\" title=\"domesticated\">domesticated</td><td style=\"text-align:left\" title=\"4.0\">4.0</td><td style=\"text-align:left\" title=\"0.7\">0.7</td><td style=\"text-align:left\" title=\"0.666666667\">0.666666667</td><td style=\"text-align:left\" title=\"20.0\">20.0</td><td style=\"text-align:left\" title=\"0.423\">0.423</td><td style=\"text-align:left\" title=\"600.0\">600.0</td></tr></table><p>Shape: 5 x 11. \n",
       "</p></body></html>"
      ]
     },
     "execution_count": 3,
     "metadata": {},
     "output_type": "execute_result"
    }
   ],
   "source": [
    "sleepData.head()"
   ]
  },
  {
   "cell_type": "code",
   "execution_count": 4,
   "id": "0882b409",
   "metadata": {
    "scrolled": true
   },
   "outputs": [
    {
     "data": {
      "text/html": [
       "<html><body><table><tr><th style=\"text-align:left\">name</th><th style=\"text-align:left\">genus</th><th style=\"text-align:left\">vore</th><th style=\"text-align:left\">order</th><th style=\"text-align:left\">conservation</th><th style=\"text-align:left\">sleep_total</th><th style=\"text-align:left\">sleep_rem</th><th style=\"text-align:left\">sleep_cycle</th><th style=\"text-align:left\">awake</th><th style=\"text-align:left\">brainwt</th><th style=\"text-align:left\">bodywt</th></tr><tr><td style=\"text-align:left\" title=\"Cheetah\">Cheetah</td><td style=\"text-align:left\" title=\"Acinonyx\">Acinonyx</td><td style=\"text-align:left\" title=\"carni\">carni</td><td style=\"text-align:left\" title=\"Carnivora\">Carnivora</td><td style=\"text-align:left\" title=\"lc\">lc</td><td style=\"text-align:left\" title=\"12.1\">12.1</td><td style=\"text-align:left\" title=\"null\">null</td><td style=\"text-align:left\" title=\"null\">null</td><td style=\"text-align:left\" title=\"11.9\">11.9</td><td style=\"text-align:left\" title=\"null\">null</td><td style=\"text-align:left\" title=\"50.0\">50.0</td></tr><tr><td style=\"text-align:left\" title=\"Owl monkey\">Owl monkey</td><td style=\"text-align:left\" title=\"Aotus\">Aotus</td><td style=\"text-align:left\" title=\"omni\">omni</td><td style=\"text-align:left\" title=\"Primates\">Primates</td><td style=\"text-align:left\" title=\"null\">null</td><td style=\"text-align:left\" title=\"17.0\">17.0</td><td style=\"text-align:left\" title=\"1.8\">1.8</td><td style=\"text-align:left\" title=\"null\">null</td><td style=\"text-align:left\" title=\"7.0\">7.0</td><td style=\"text-align:left\" title=\"0.0155\">0.0155</td><td style=\"text-align:left\" title=\"0.48\">0.48</td></tr><tr><td style=\"text-align:left\" title=\"Mountain beaver\">Mountain beaver</td><td style=\"text-align:left\" title=\"Aplodontia\">Aplodontia</td><td style=\"text-align:left\" title=\"herbi\">herbi</td><td style=\"text-align:left\" title=\"Rodentia\">Rodentia</td><td style=\"text-align:left\" title=\"nt\">nt</td><td style=\"text-align:left\" title=\"14.4\">14.4</td><td style=\"text-align:left\" title=\"2.4\">2.4</td><td style=\"text-align:left\" title=\"null\">null</td><td style=\"text-align:left\" title=\"9.6\">9.6</td><td style=\"text-align:left\" title=\"null\">null</td><td style=\"text-align:left\" title=\"1.35\">1.35</td></tr><tr><td style=\"text-align:left\" title=\"Greater short-tailed shrew\">Greater short-tailed shrew</td><td style=\"text-align:left\" title=\"Blarina\">Blarina</td><td style=\"text-align:left\" title=\"omni\">omni</td><td style=\"text-align:left\" title=\"Soricomorpha\">Soricomorpha</td><td style=\"text-align:left\" title=\"lc\">lc</td><td style=\"text-align:left\" title=\"14.9\">14.9</td><td style=\"text-align:left\" title=\"2.3\">2.3</td><td style=\"text-align:left\" title=\"0.133333333\">0.133333333</td><td style=\"text-align:left\" title=\"9.1\">9.1</td><td style=\"text-align:left\" title=\"2.9E-4\">2.9E-4</td><td style=\"text-align:left\" title=\"0.019\">0.019</td></tr><tr><td style=\"text-align:left\" title=\"Cow\">Cow</td><td style=\"text-align:left\" title=\"Bos\">Bos</td><td style=\"text-align:left\" title=\"herbi\">herbi</td><td style=\"text-align:left\" title=\"Artiodactyla\">Artiodactyla</td><td style=\"text-align:left\" title=\"domesticated\">domesticated</td><td style=\"text-align:left\" title=\"4.0\">4.0</td><td style=\"text-align:left\" title=\"0.7\">0.7</td><td style=\"text-align:left\" title=\"0.666666667\">0.666666667</td><td style=\"text-align:left\" title=\"20.0\">20.0</td><td style=\"text-align:left\" title=\"0.423\">0.423</td><td style=\"text-align:left\" title=\"600.0\">600.0</td></tr><tr><td style=\"text-align:left\" title=\"Three-toed sloth\">Three-toed sloth</td><td style=\"text-align:left\" title=\"Bradypus\">Bradypus</td><td style=\"text-align:left\" title=\"herbi\">herbi</td><td style=\"text-align:left\" title=\"Pilosa\">Pilosa</td><td style=\"text-align:left\" title=\"null\">null</td><td style=\"text-align:left\" title=\"14.4\">14.4</td><td style=\"text-align:left\" title=\"2.2\">2.2</td><td style=\"text-align:left\" title=\"0.766666667\">0.766666667</td><td style=\"text-align:left\" title=\"9.6\">9.6</td><td style=\"text-align:left\" title=\"null\">null</td><td style=\"text-align:left\" title=\"3.85\">3.85</td></tr></table><p>... with 14 more rows. Shape: 20 x 11. \n",
       "</p></body></html>"
      ]
     },
     "execution_count": 4,
     "metadata": {},
     "output_type": "execute_result"
    }
   ],
   "source": [
    "sleepData.head(20)"
   ]
  },
  {
   "cell_type": "code",
   "execution_count": 5,
   "id": "2ac30b8e",
   "metadata": {},
   "outputs": [
    {
     "data": {
      "text/html": [
       "<html><body><table><tr><th style=\"text-align:left\">name</th><th style=\"text-align:left\">genus</th><th style=\"text-align:left\">vore</th><th style=\"text-align:left\">order</th><th style=\"text-align:left\">conservation</th><th style=\"text-align:left\">sleep_total</th><th style=\"text-align:left\">sleep_rem</th><th style=\"text-align:left\">sleep_cycle</th><th style=\"text-align:left\">awake</th><th style=\"text-align:left\">brainwt</th><th style=\"text-align:left\">bodywt</th></tr><tr><td style=\"text-align:left\" title=\"Tree shrew\">Tree shrew</td><td style=\"text-align:left\" title=\"Tupaia\">Tupaia</td><td style=\"text-align:left\" title=\"omni\">omni</td><td style=\"text-align:left\" title=\"Scandentia\">Scandentia</td><td style=\"text-align:left\" title=\"null\">null</td><td style=\"text-align:left\" title=\"8.9\">8.9</td><td style=\"text-align:left\" title=\"2.6\">2.6</td><td style=\"text-align:left\" title=\"0.233333333\">0.233333333</td><td style=\"text-align:left\" title=\"15.1\">15.1</td><td style=\"text-align:left\" title=\"0.0025\">0.0025</td><td style=\"text-align:left\" title=\"0.104\">0.104</td></tr><tr><td style=\"text-align:left\" title=\"Bottle-nosed dolphin\">Bottle-nosed dolphin</td><td style=\"text-align:left\" title=\"Tursiops\">Tursiops</td><td style=\"text-align:left\" title=\"carni\">carni</td><td style=\"text-align:left\" title=\"Cetacea\">Cetacea</td><td style=\"text-align:left\" title=\"null\">null</td><td style=\"text-align:left\" title=\"5.2\">5.2</td><td style=\"text-align:left\" title=\"null\">null</td><td style=\"text-align:left\" title=\"null\">null</td><td style=\"text-align:left\" title=\"18.8\">18.8</td><td style=\"text-align:left\" title=\"null\">null</td><td style=\"text-align:left\" title=\"173.33\">173.33</td></tr><tr><td style=\"text-align:left\" title=\"Genet\">Genet</td><td style=\"text-align:left\" title=\"Genetta\">Genetta</td><td style=\"text-align:left\" title=\"carni\">carni</td><td style=\"text-align:left\" title=\"Carnivora\">Carnivora</td><td style=\"text-align:left\" title=\"null\">null</td><td style=\"text-align:left\" title=\"6.3\">6.3</td><td style=\"text-align:left\" title=\"1.3\">1.3</td><td style=\"text-align:left\" title=\"null\">null</td><td style=\"text-align:left\" title=\"17.7\">17.7</td><td style=\"text-align:left\" title=\"0.0175\">0.0175</td><td style=\"text-align:left\" title=\"2.0\">2.0</td></tr><tr><td style=\"text-align:left\" title=\"Arctic fox\">Arctic fox</td><td style=\"text-align:left\" title=\"Vulpes\">Vulpes</td><td style=\"text-align:left\" title=\"carni\">carni</td><td style=\"text-align:left\" title=\"Carnivora\">Carnivora</td><td style=\"text-align:left\" title=\"null\">null</td><td style=\"text-align:left\" title=\"12.5\">12.5</td><td style=\"text-align:left\" title=\"null\">null</td><td style=\"text-align:left\" title=\"null\">null</td><td style=\"text-align:left\" title=\"11.5\">11.5</td><td style=\"text-align:left\" title=\"0.0445\">0.0445</td><td style=\"text-align:left\" title=\"3.38\">3.38</td></tr><tr><td style=\"text-align:left\" title=\"Red fox\">Red fox</td><td style=\"text-align:left\" title=\"Vulpes\">Vulpes</td><td style=\"text-align:left\" title=\"carni\">carni</td><td style=\"text-align:left\" title=\"Carnivora\">Carnivora</td><td style=\"text-align:left\" title=\"null\">null</td><td style=\"text-align:left\" title=\"9.8\">9.8</td><td style=\"text-align:left\" title=\"2.4\">2.4</td><td style=\"text-align:left\" title=\"0.35\">0.35</td><td style=\"text-align:left\" title=\"14.2\">14.2</td><td style=\"text-align:left\" title=\"0.0504\">0.0504</td><td style=\"text-align:left\" title=\"4.23\">4.23</td></tr></table><p>Shape: 5 x 11. \n",
       "</p></body></html>"
      ]
     },
     "execution_count": 5,
     "metadata": {},
     "output_type": "execute_result"
    }
   ],
   "source": [
    "val lastFew = sleepData.tail()\n",
    "lastFew"
   ]
  },
  {
   "cell_type": "code",
   "execution_count": 6,
   "id": "fc08e6dd",
   "metadata": {},
   "outputs": [
    {
     "data": {
      "text/html": [
       "<html><body><table><tr><th style=\"text-align:left\">name</th><th style=\"text-align:left\">genus</th><th style=\"text-align:left\">vore</th><th style=\"text-align:left\">order</th><th style=\"text-align:left\">conservation</th><th style=\"text-align:left\">sleep_total</th><th style=\"text-align:left\">sleep_rem</th><th style=\"text-align:left\">sleep_cycle</th><th style=\"text-align:left\">awake</th><th style=\"text-align:left\">brainwt</th><th style=\"text-align:left\">bodywt</th></tr><tr><td style=\"text-align:left\" title=\"Giraffe\">Giraffe</td><td style=\"text-align:left\" title=\"Giraffa\">Giraffa</td><td style=\"text-align:left\" title=\"herbi\">herbi</td><td style=\"text-align:left\" title=\"Artiodactyla\">Artiodactyla</td><td style=\"text-align:left\" title=\"cd\">cd</td><td style=\"text-align:left\" title=\"1.9\">1.9</td><td style=\"text-align:left\" title=\"0.4\">0.4</td><td style=\"text-align:left\" title=\"null\">null</td><td style=\"text-align:left\" title=\"22.1\">22.1</td><td style=\"text-align:left\" title=\"null\">null</td><td style=\"text-align:left\" title=\"899.995\">899.995</td></tr><tr><td style=\"text-align:left\" title=\"Pilot whale\">Pilot whale</td><td style=\"text-align:left\" title=\"Globicephalus\">Globicephalus</td><td style=\"text-align:left\" title=\"carni\">carni</td><td style=\"text-align:left\" title=\"Cetacea\">Cetacea</td><td style=\"text-align:left\" title=\"cd\">cd</td><td style=\"text-align:left\" title=\"2.7\">2.7</td><td style=\"text-align:left\" title=\"0.1\">0.1</td><td style=\"text-align:left\" title=\"null\">null</td><td style=\"text-align:left\" title=\"21.35\">21.35</td><td style=\"text-align:left\" title=\"null\">null</td><td style=\"text-align:left\" title=\"800.0\">800.0</td></tr><tr><td style=\"text-align:left\" title=\"Gray seal\">Gray seal</td><td style=\"text-align:left\" title=\"Haliochoerus\">Haliochoerus</td><td style=\"text-align:left\" title=\"carni\">carni</td><td style=\"text-align:left\" title=\"Carnivora\">Carnivora</td><td style=\"text-align:left\" title=\"lc\">lc</td><td style=\"text-align:left\" title=\"6.2\">6.2</td><td style=\"text-align:left\" title=\"1.5\">1.5</td><td style=\"text-align:left\" title=\"null\">null</td><td style=\"text-align:left\" title=\"17.8\">17.8</td><td style=\"text-align:left\" title=\"0.325\">0.325</td><td style=\"text-align:left\" title=\"85.0\">85.0</td></tr><tr><td style=\"text-align:left\" title=\"Gray hyrax\">Gray hyrax</td><td style=\"text-align:left\" title=\"Heterohyrax\">Heterohyrax</td><td style=\"text-align:left\" title=\"herbi\">herbi</td><td style=\"text-align:left\" title=\"Hyracoidea\">Hyracoidea</td><td style=\"text-align:left\" title=\"lc\">lc</td><td style=\"text-align:left\" title=\"6.3\">6.3</td><td style=\"text-align:left\" title=\"0.6\">0.6</td><td style=\"text-align:left\" title=\"null\">null</td><td style=\"text-align:left\" title=\"17.7\">17.7</td><td style=\"text-align:left\" title=\"0.01227\">0.01227</td><td style=\"text-align:left\" title=\"2.625\">2.625</td></tr><tr><td style=\"text-align:left\" title=\"Human\">Human</td><td style=\"text-align:left\" title=\"Homo\">Homo</td><td style=\"text-align:left\" title=\"omni\">omni</td><td style=\"text-align:left\" title=\"Primates\">Primates</td><td style=\"text-align:left\" title=\"null\">null</td><td style=\"text-align:left\" title=\"8.0\">8.0</td><td style=\"text-align:left\" title=\"1.9\">1.9</td><td style=\"text-align:left\" title=\"1.5\">1.5</td><td style=\"text-align:left\" title=\"16.0\">16.0</td><td style=\"text-align:left\" title=\"1.32\">1.32</td><td style=\"text-align:left\" title=\"62.0\">62.0</td></tr></table><p>Shape: 5 x 11. \n",
       "</p></body></html>"
      ]
     },
     "execution_count": 6,
     "metadata": {},
     "output_type": "execute_result"
    }
   ],
   "source": [
    "val selection = sleepData.slice(30..34)\n",
    "selection"
   ]
  },
  {
   "cell_type": "code",
   "execution_count": 7,
   "id": "b55c4d7b",
   "metadata": {},
   "outputs": [
    {
     "data": {
      "text/plain": [
       "{name=Cheetah, genus=Acinonyx, vore=carni, order=Carnivora, conservation=lc, sleep_total=12.1, sleep_rem=null, sleep_cycle=null, awake=11.9, brainwt=null, bodywt=50.0}"
      ]
     },
     "execution_count": 7,
     "metadata": {},
     "output_type": "execute_result"
    }
   ],
   "source": [
    "sleepData.rows.elementAt(0)"
   ]
  },
  {
   "cell_type": "code",
   "execution_count": 8,
   "id": "d73228d5",
   "metadata": {},
   "outputs": [
    {
     "data": {
      "text/html": [
       "<html><body><table><tr><th style=\"text-align:left\">name</th><th style=\"text-align:left\">genus</th><th style=\"text-align:left\">vore</th><th style=\"text-align:left\">order</th><th style=\"text-align:left\">conservation</th><th style=\"text-align:left\">sleep_total</th><th style=\"text-align:left\">sleep_rem</th><th style=\"text-align:left\">sleep_cycle</th><th style=\"text-align:left\">awake</th><th style=\"text-align:left\">brainwt</th><th style=\"text-align:left\">bodywt</th></tr></table><p>Shape: 0 x 11. \n",
       "</p></body></html>"
      ]
     },
     "execution_count": 8,
     "metadata": {},
     "output_type": "execute_result"
    }
   ],
   "source": [
    "sleepData.slice(0..0)"
   ]
  },
  {
   "cell_type": "code",
   "execution_count": 9,
   "id": "1d81c911",
   "metadata": {},
   "outputs": [
    {
     "data": {
      "text/html": [
       "<html><body><table><tr><th style=\"text-align:left\">name</th><th style=\"text-align:left\">genus</th><th style=\"text-align:left\">vore</th><th style=\"text-align:left\">order</th><th style=\"text-align:left\">conservation</th><th style=\"text-align:left\">sleep_total</th><th style=\"text-align:left\">sleep_rem</th><th style=\"text-align:left\">sleep_cycle</th><th style=\"text-align:left\">awake</th><th style=\"text-align:left\">brainwt</th><th style=\"text-align:left\">bodywt</th></tr><tr><td style=\"text-align:left\" title=\"Cheetah\">Cheetah</td><td style=\"text-align:left\" title=\"Acinonyx\">Acinonyx</td><td style=\"text-align:left\" title=\"carni\">carni</td><td style=\"text-align:left\" title=\"Carnivora\">Carnivora</td><td style=\"text-align:left\" title=\"lc\">lc</td><td style=\"text-align:left\" title=\"12.1\">12.1</td><td style=\"text-align:left\" title=\"null\">null</td><td style=\"text-align:left\" title=\"null\">null</td><td style=\"text-align:left\" title=\"11.9\">11.9</td><td style=\"text-align:left\" title=\"null\">null</td><td style=\"text-align:left\" title=\"50.0\">50.0</td></tr></table><p>Shape: 1 x 11. \n",
       "</p></body></html>"
      ]
     },
     "execution_count": 9,
     "metadata": {},
     "output_type": "execute_result"
    }
   ],
   "source": [
    "sleepData.slice(1..1)"
   ]
  },
  {
   "cell_type": "code",
   "execution_count": 10,
   "id": "6c4a6921",
   "metadata": {},
   "outputs": [
    {
     "data": {
      "text/html": [
       "<html><body><table><tr><th style=\"text-align:left\">name</th><th style=\"text-align:left\">genus</th><th style=\"text-align:left\">vore</th><th style=\"text-align:left\">order</th><th style=\"text-align:left\">conservation</th><th style=\"text-align:left\">sleep_total</th><th style=\"text-align:left\">sleep_rem</th><th style=\"text-align:left\">sleep_cycle</th><th style=\"text-align:left\">awake</th><th style=\"text-align:left\">brainwt</th><th style=\"text-align:left\">bodywt</th></tr><tr><td style=\"text-align:left\" title=\"Giraffe\">Giraffe</td><td style=\"text-align:left\" title=\"Giraffa\">Giraffa</td><td style=\"text-align:left\" title=\"herbi\">herbi</td><td style=\"text-align:left\" title=\"Artiodactyla\">Artiodactyla</td><td style=\"text-align:left\" title=\"cd\">cd</td><td style=\"text-align:left\" title=\"1.9\">1.9</td><td style=\"text-align:left\" title=\"0.4\">0.4</td><td style=\"text-align:left\" title=\"null\">null</td><td style=\"text-align:left\" title=\"22.1\">22.1</td><td style=\"text-align:left\" title=\"null\">null</td><td style=\"text-align:left\" title=\"899.995\">899.995</td></tr><tr><td style=\"text-align:left\" title=\"Pilot whale\">Pilot whale</td><td style=\"text-align:left\" title=\"Globicephalus\">Globicephalus</td><td style=\"text-align:left\" title=\"carni\">carni</td><td style=\"text-align:left\" title=\"Cetacea\">Cetacea</td><td style=\"text-align:left\" title=\"cd\">cd</td><td style=\"text-align:left\" title=\"2.7\">2.7</td><td style=\"text-align:left\" title=\"0.1\">0.1</td><td style=\"text-align:left\" title=\"null\">null</td><td style=\"text-align:left\" title=\"21.35\">21.35</td><td style=\"text-align:left\" title=\"null\">null</td><td style=\"text-align:left\" title=\"800.0\">800.0</td></tr><tr><td style=\"text-align:left\" title=\"Horse\">Horse</td><td style=\"text-align:left\" title=\"Equus\">Equus</td><td style=\"text-align:left\" title=\"herbi\">herbi</td><td style=\"text-align:left\" title=\"Perissodactyla\">Perissodactyla</td><td style=\"text-align:left\" title=\"domesticated\">domesticated</td><td style=\"text-align:left\" title=\"2.9\">2.9</td><td style=\"text-align:left\" title=\"0.6\">0.6</td><td style=\"text-align:left\" title=\"1.0\">1.0</td><td style=\"text-align:left\" title=\"21.1\">21.1</td><td style=\"text-align:left\" title=\"0.655\">0.655</td><td style=\"text-align:left\" title=\"521.0\">521.0</td></tr><tr><td style=\"text-align:left\" title=\"Roe deer\">Roe deer</td><td style=\"text-align:left\" title=\"Capreolus\">Capreolus</td><td style=\"text-align:left\" title=\"herbi\">herbi</td><td style=\"text-align:left\" title=\"Artiodactyla\">Artiodactyla</td><td style=\"text-align:left\" title=\"lc\">lc</td><td style=\"text-align:left\" title=\"3.0\">3.0</td><td style=\"text-align:left\" title=\"null\">null</td><td style=\"text-align:left\" title=\"null\">null</td><td style=\"text-align:left\" title=\"21.0\">21.0</td><td style=\"text-align:left\" title=\"0.0982\">0.0982</td><td style=\"text-align:left\" title=\"14.8\">14.8</td></tr><tr><td style=\"text-align:left\" title=\"Donkey\">Donkey</td><td style=\"text-align:left\" title=\"Equus\">Equus</td><td style=\"text-align:left\" title=\"herbi\">herbi</td><td style=\"text-align:left\" title=\"Perissodactyla\">Perissodactyla</td><td style=\"text-align:left\" title=\"domesticated\">domesticated</td><td style=\"text-align:left\" title=\"3.1\">3.1</td><td style=\"text-align:left\" title=\"0.4\">0.4</td><td style=\"text-align:left\" title=\"null\">null</td><td style=\"text-align:left\" title=\"20.9\">20.9</td><td style=\"text-align:left\" title=\"0.419\">0.419</td><td style=\"text-align:left\" title=\"187.0\">187.0</td></tr><tr><td style=\"text-align:left\" title=\"African elephant\">African elephant</td><td style=\"text-align:left\" title=\"Loxodonta\">Loxodonta</td><td style=\"text-align:left\" title=\"herbi\">herbi</td><td style=\"text-align:left\" title=\"Proboscidea\">Proboscidea</td><td style=\"text-align:left\" title=\"vu\">vu</td><td style=\"text-align:left\" title=\"3.3\">3.3</td><td style=\"text-align:left\" title=\"null\">null</td><td style=\"text-align:left\" title=\"null\">null</td><td style=\"text-align:left\" title=\"20.7\">20.7</td><td style=\"text-align:left\" title=\"5.712\">5.712</td><td style=\"text-align:left\" title=\"6654.0\">6654.0</td></tr></table><p>... with 77 more rows. Shape: 83 x 11. \n",
       "</p></body></html>"
      ]
     },
     "execution_count": 10,
     "metadata": {},
     "output_type": "execute_result"
    }
   ],
   "source": [
    "sleepData.sortedBy(\"sleep_total\")"
   ]
  },
  {
   "cell_type": "code",
   "execution_count": 11,
   "id": "491281e4",
   "metadata": {},
   "outputs": [
    {
     "data": {
      "text/html": [
       "<html><body><table><tr><th style=\"text-align:left\">name</th><th style=\"text-align:left\">genus</th><th style=\"text-align:left\">vore</th><th style=\"text-align:left\">order</th><th style=\"text-align:left\">conservation</th><th style=\"text-align:left\">sleep_total</th><th style=\"text-align:left\">sleep_rem</th><th style=\"text-align:left\">sleep_cycle</th><th style=\"text-align:left\">awake</th><th style=\"text-align:left\">brainwt</th><th style=\"text-align:left\">bodywt</th></tr><tr><td style=\"text-align:left\" title=\"Cow\">Cow</td><td style=\"text-align:left\" title=\"Bos\">Bos</td><td style=\"text-align:left\" title=\"herbi\">herbi</td><td style=\"text-align:left\" title=\"Artiodactyla\">Artiodactyla</td><td style=\"text-align:left\" title=\"domesticated\">domesticated</td><td style=\"text-align:left\" title=\"4.0\">4.0</td><td style=\"text-align:left\" title=\"0.7\">0.7</td><td style=\"text-align:left\" title=\"0.666666667\">0.666666667</td><td style=\"text-align:left\" title=\"20.0\">20.0</td><td style=\"text-align:left\" title=\"0.423\">0.423</td><td style=\"text-align:left\" title=\"600.0\">600.0</td></tr><tr><td style=\"text-align:left\" title=\"Brazilian tapir\">Brazilian tapir</td><td style=\"text-align:left\" title=\"Tapirus\">Tapirus</td><td style=\"text-align:left\" title=\"herbi\">herbi</td><td style=\"text-align:left\" title=\"Perissodactyla\">Perissodactyla</td><td style=\"text-align:left\" title=\"vu\">vu</td><td style=\"text-align:left\" title=\"4.4\">4.4</td><td style=\"text-align:left\" title=\"1.0\">1.0</td><td style=\"text-align:left\" title=\"0.9\">0.9</td><td style=\"text-align:left\" title=\"19.6\">19.6</td><td style=\"text-align:left\" title=\"0.169\">0.169</td><td style=\"text-align:left\" title=\"207.501\">207.501</td></tr><tr><td style=\"text-align:left\" title=\"Bottle-nosed dolphin\">Bottle-nosed dolphin</td><td style=\"text-align:left\" title=\"Tursiops\">Tursiops</td><td style=\"text-align:left\" title=\"carni\">carni</td><td style=\"text-align:left\" title=\"Cetacea\">Cetacea</td><td style=\"text-align:left\" title=\"null\">null</td><td style=\"text-align:left\" title=\"5.2\">5.2</td><td style=\"text-align:left\" title=\"null\">null</td><td style=\"text-align:left\" title=\"null\">null</td><td style=\"text-align:left\" title=\"18.8\">18.8</td><td style=\"text-align:left\" title=\"null\">null</td><td style=\"text-align:left\" title=\"173.33\">173.33</td></tr><tr><td style=\"text-align:left\" title=\"Goat\">Goat</td><td style=\"text-align:left\" title=\"Capri\">Capri</td><td style=\"text-align:left\" title=\"herbi\">herbi</td><td style=\"text-align:left\" title=\"Artiodactyla\">Artiodactyla</td><td style=\"text-align:left\" title=\"lc\">lc</td><td style=\"text-align:left\" title=\"5.3\">5.3</td><td style=\"text-align:left\" title=\"0.6\">0.6</td><td style=\"text-align:left\" title=\"null\">null</td><td style=\"text-align:left\" title=\"18.7\">18.7</td><td style=\"text-align:left\" title=\"0.115\">0.115</td><td style=\"text-align:left\" title=\"33.5\">33.5</td></tr><tr><td style=\"text-align:left\" title=\"Tree hyrax\">Tree hyrax</td><td style=\"text-align:left\" title=\"Dendrohyrax\">Dendrohyrax</td><td style=\"text-align:left\" title=\"herbi\">herbi</td><td style=\"text-align:left\" title=\"Hyracoidea\">Hyracoidea</td><td style=\"text-align:left\" title=\"lc\">lc</td><td style=\"text-align:left\" title=\"5.3\">5.3</td><td style=\"text-align:left\" title=\"0.5\">0.5</td><td style=\"text-align:left\" title=\"null\">null</td><td style=\"text-align:left\" title=\"18.7\">18.7</td><td style=\"text-align:left\" title=\"0.0123\">0.0123</td><td style=\"text-align:left\" title=\"2.95\">2.95</td></tr><tr><td style=\"text-align:left\" title=\"Rock hyrax\">Rock hyrax</td><td style=\"text-align:left\" title=\"Procavia\">Procavia</td><td style=\"text-align:left\" title=\"null\">null</td><td style=\"text-align:left\" title=\"Hyracoidea\">Hyracoidea</td><td style=\"text-align:left\" title=\"lc\">lc</td><td style=\"text-align:left\" title=\"5.4\">5.4</td><td style=\"text-align:left\" title=\"0.5\">0.5</td><td style=\"text-align:left\" title=\"null\">null</td><td style=\"text-align:left\" title=\"18.6\">18.6</td><td style=\"text-align:left\" title=\"0.021\">0.021</td><td style=\"text-align:left\" title=\"3.6\">3.6</td></tr></table><p>Shape: 6 x 11. \n",
       "</p></body></html>"
      ]
     },
     "execution_count": 11,
     "metadata": {},
     "output_type": "execute_result"
    }
   ],
   "source": [
    "sleepData.sortedBy(\"sleep_total\").slice(10..15)"
   ]
  },
  {
   "cell_type": "code",
   "execution_count": 12,
   "id": "0ab6802d",
   "metadata": {},
   "outputs": [
    {
     "data": {
      "text/html": [
       "<html><body><table><tr><th style=\"text-align:left\">name</th><th style=\"text-align:left\">genus</th><th style=\"text-align:left\">vore</th><th style=\"text-align:left\">order</th><th style=\"text-align:left\">conservation</th><th style=\"text-align:left\">sleep_total</th><th style=\"text-align:left\">sleep_rem</th><th style=\"text-align:left\">sleep_cycle</th><th style=\"text-align:left\">awake</th><th style=\"text-align:left\">brainwt</th><th style=\"text-align:left\">bodywt</th></tr><tr><td style=\"text-align:left\" title=\"Common porpoise\">Common porpoise</td><td style=\"text-align:left\" title=\"Phocoena\">Phocoena</td><td style=\"text-align:left\" title=\"carni\">carni</td><td style=\"text-align:left\" title=\"Cetacea\">Cetacea</td><td style=\"text-align:left\" title=\"vu\">vu</td><td style=\"text-align:left\" title=\"5.6\">5.6</td><td style=\"text-align:left\" title=\"null\">null</td><td style=\"text-align:left\" title=\"null\">null</td><td style=\"text-align:left\" title=\"18.45\">18.45</td><td style=\"text-align:left\" title=\"null\">null</td><td style=\"text-align:left\" title=\"53.18\">53.18</td></tr><tr><td style=\"text-align:left\" title=\"Gray seal\">Gray seal</td><td style=\"text-align:left\" title=\"Haliochoerus\">Haliochoerus</td><td style=\"text-align:left\" title=\"carni\">carni</td><td style=\"text-align:left\" title=\"Carnivora\">Carnivora</td><td style=\"text-align:left\" title=\"lc\">lc</td><td style=\"text-align:left\" title=\"6.2\">6.2</td><td style=\"text-align:left\" title=\"1.5\">1.5</td><td style=\"text-align:left\" title=\"null\">null</td><td style=\"text-align:left\" title=\"17.8\">17.8</td><td style=\"text-align:left\" title=\"0.325\">0.325</td><td style=\"text-align:left\" title=\"85.0\">85.0</td></tr><tr><td style=\"text-align:left\" title=\"Gray hyrax\">Gray hyrax</td><td style=\"text-align:left\" title=\"Heterohyrax\">Heterohyrax</td><td style=\"text-align:left\" title=\"herbi\">herbi</td><td style=\"text-align:left\" title=\"Hyracoidea\">Hyracoidea</td><td style=\"text-align:left\" title=\"lc\">lc</td><td style=\"text-align:left\" title=\"6.3\">6.3</td><td style=\"text-align:left\" title=\"0.6\">0.6</td><td style=\"text-align:left\" title=\"null\">null</td><td style=\"text-align:left\" title=\"17.7\">17.7</td><td style=\"text-align:left\" title=\"0.01227\">0.01227</td><td style=\"text-align:left\" title=\"2.625\">2.625</td></tr><tr><td style=\"text-align:left\" title=\"Genet\">Genet</td><td style=\"text-align:left\" title=\"Genetta\">Genetta</td><td style=\"text-align:left\" title=\"carni\">carni</td><td style=\"text-align:left\" title=\"Carnivora\">Carnivora</td><td style=\"text-align:left\" title=\"null\">null</td><td style=\"text-align:left\" title=\"6.3\">6.3</td><td style=\"text-align:left\" title=\"1.3\">1.3</td><td style=\"text-align:left\" title=\"null\">null</td><td style=\"text-align:left\" title=\"17.7\">17.7</td><td style=\"text-align:left\" title=\"0.0175\">0.0175</td><td style=\"text-align:left\" title=\"2.0\">2.0</td></tr><tr><td style=\"text-align:left\" title=\"Vesper mouse\">Vesper mouse</td><td style=\"text-align:left\" title=\"Calomys\">Calomys</td><td style=\"text-align:left\" title=\"null\">null</td><td style=\"text-align:left\" title=\"Rodentia\">Rodentia</td><td style=\"text-align:left\" title=\"null\">null</td><td style=\"text-align:left\" title=\"7.0\">7.0</td><td style=\"text-align:left\" title=\"null\">null</td><td style=\"text-align:left\" title=\"null\">null</td><td style=\"text-align:left\" title=\"17.0\">17.0</td><td style=\"text-align:left\" title=\"null\">null</td><td style=\"text-align:left\" title=\"0.045\">0.045</td></tr></table><p>Shape: 5 x 11. \n",
       "</p></body></html>"
      ]
     },
     "execution_count": 12,
     "metadata": {},
     "output_type": "execute_result"
    }
   ],
   "source": [
    "sleepData.sortedBy(\"sleep_total\").slice(16..20)"
   ]
  },
  {
   "cell_type": "code",
   "execution_count": 13,
   "id": "d7abbe69",
   "metadata": {},
   "outputs": [
    {
     "data": {
      "text/html": [
       "<html><body><table><tr><th style=\"text-align:left\">name</th><th style=\"text-align:left\">genus</th><th style=\"text-align:left\">vore</th><th style=\"text-align:left\">order</th><th style=\"text-align:left\">conservation</th><th style=\"text-align:left\">sleep_total</th><th style=\"text-align:left\">sleep_rem</th><th style=\"text-align:left\">sleep_cycle</th><th style=\"text-align:left\">awake</th><th style=\"text-align:left\">brainwt</th><th style=\"text-align:left\">bodywt</th></tr><tr><td style=\"text-align:left\" title=\"Giraffe\">Giraffe</td><td style=\"text-align:left\" title=\"Giraffa\">Giraffa</td><td style=\"text-align:left\" title=\"herbi\">herbi</td><td style=\"text-align:left\" title=\"Artiodactyla\">Artiodactyla</td><td style=\"text-align:left\" title=\"cd\">cd</td><td style=\"text-align:left\" title=\"1.9\">1.9</td><td style=\"text-align:left\" title=\"0.4\">0.4</td><td style=\"text-align:left\" title=\"null\">null</td><td style=\"text-align:left\" title=\"22.1\">22.1</td><td style=\"text-align:left\" title=\"null\">null</td><td style=\"text-align:left\" title=\"899.995\">899.995</td></tr><tr><td style=\"text-align:left\" title=\"Pilot whale\">Pilot whale</td><td style=\"text-align:left\" title=\"Globicephalus\">Globicephalus</td><td style=\"text-align:left\" title=\"carni\">carni</td><td style=\"text-align:left\" title=\"Cetacea\">Cetacea</td><td style=\"text-align:left\" title=\"cd\">cd</td><td style=\"text-align:left\" title=\"2.7\">2.7</td><td style=\"text-align:left\" title=\"0.1\">0.1</td><td style=\"text-align:left\" title=\"null\">null</td><td style=\"text-align:left\" title=\"21.35\">21.35</td><td style=\"text-align:left\" title=\"null\">null</td><td style=\"text-align:left\" title=\"800.0\">800.0</td></tr><tr><td style=\"text-align:left\" title=\"Horse\">Horse</td><td style=\"text-align:left\" title=\"Equus\">Equus</td><td style=\"text-align:left\" title=\"herbi\">herbi</td><td style=\"text-align:left\" title=\"Perissodactyla\">Perissodactyla</td><td style=\"text-align:left\" title=\"domesticated\">domesticated</td><td style=\"text-align:left\" title=\"2.9\">2.9</td><td style=\"text-align:left\" title=\"0.6\">0.6</td><td style=\"text-align:left\" title=\"1.0\">1.0</td><td style=\"text-align:left\" title=\"21.1\">21.1</td><td style=\"text-align:left\" title=\"0.655\">0.655</td><td style=\"text-align:left\" title=\"521.0\">521.0</td></tr><tr><td style=\"text-align:left\" title=\"Roe deer\">Roe deer</td><td style=\"text-align:left\" title=\"Capreolus\">Capreolus</td><td style=\"text-align:left\" title=\"herbi\">herbi</td><td style=\"text-align:left\" title=\"Artiodactyla\">Artiodactyla</td><td style=\"text-align:left\" title=\"lc\">lc</td><td style=\"text-align:left\" title=\"3.0\">3.0</td><td style=\"text-align:left\" title=\"null\">null</td><td style=\"text-align:left\" title=\"null\">null</td><td style=\"text-align:left\" title=\"21.0\">21.0</td><td style=\"text-align:left\" title=\"0.0982\">0.0982</td><td style=\"text-align:left\" title=\"14.8\">14.8</td></tr><tr><td style=\"text-align:left\" title=\"Donkey\">Donkey</td><td style=\"text-align:left\" title=\"Equus\">Equus</td><td style=\"text-align:left\" title=\"herbi\">herbi</td><td style=\"text-align:left\" title=\"Perissodactyla\">Perissodactyla</td><td style=\"text-align:left\" title=\"domesticated\">domesticated</td><td style=\"text-align:left\" title=\"3.1\">3.1</td><td style=\"text-align:left\" title=\"0.4\">0.4</td><td style=\"text-align:left\" title=\"null\">null</td><td style=\"text-align:left\" title=\"20.9\">20.9</td><td style=\"text-align:left\" title=\"0.419\">0.419</td><td style=\"text-align:left\" title=\"187.0\">187.0</td></tr><tr><td style=\"text-align:left\" title=\"African elephant\">African elephant</td><td style=\"text-align:left\" title=\"Loxodonta\">Loxodonta</td><td style=\"text-align:left\" title=\"herbi\">herbi</td><td style=\"text-align:left\" title=\"Proboscidea\">Proboscidea</td><td style=\"text-align:left\" title=\"vu\">vu</td><td style=\"text-align:left\" title=\"3.3\">3.3</td><td style=\"text-align:left\" title=\"null\">null</td><td style=\"text-align:left\" title=\"null\">null</td><td style=\"text-align:left\" title=\"20.7\">20.7</td><td style=\"text-align:left\" title=\"5.712\">5.712</td><td style=\"text-align:left\" title=\"6654.0\">6654.0</td></tr></table><p>... with 77 more rows. Shape: 83 x 11. \n",
       "</p></body></html>"
      ]
     },
     "execution_count": 13,
     "metadata": {},
     "output_type": "execute_result"
    }
   ],
   "source": [
    "sleepData.sortedBy(\"sleep_total\", \"bodywt\")"
   ]
  },
  {
   "cell_type": "code",
   "execution_count": 14,
   "id": "13e33933",
   "metadata": {},
   "outputs": [
    {
     "data": {
      "text/html": [
       "<html><body><table><tr><th style=\"text-align:left\">name</th><th style=\"text-align:left\">genus</th><th style=\"text-align:left\">vore</th><th style=\"text-align:left\">order</th><th style=\"text-align:left\">conservation</th><th style=\"text-align:left\">sleep_total</th><th style=\"text-align:left\">sleep_rem</th><th style=\"text-align:left\">sleep_cycle</th><th style=\"text-align:left\">awake</th><th style=\"text-align:left\">brainwt</th><th style=\"text-align:left\">bodywt</th></tr><tr><td style=\"text-align:left\" title=\"Little brown bat\">Little brown bat</td><td style=\"text-align:left\" title=\"Myotis\">Myotis</td><td style=\"text-align:left\" title=\"insecti\">insecti</td><td style=\"text-align:left\" title=\"Chiroptera\">Chiroptera</td><td style=\"text-align:left\" title=\"null\">null</td><td style=\"text-align:left\" title=\"19.9\">19.9</td><td style=\"text-align:left\" title=\"2.0\">2.0</td><td style=\"text-align:left\" title=\"0.2\">0.2</td><td style=\"text-align:left\" title=\"4.1\">4.1</td><td style=\"text-align:left\" title=\"2.5E-4\">2.5E-4</td><td style=\"text-align:left\" title=\"0.01\">0.01</td></tr><tr><td style=\"text-align:left\" title=\"Big brown bat\">Big brown bat</td><td style=\"text-align:left\" title=\"Eptesicus\">Eptesicus</td><td style=\"text-align:left\" title=\"insecti\">insecti</td><td style=\"text-align:left\" title=\"Chiroptera\">Chiroptera</td><td style=\"text-align:left\" title=\"lc\">lc</td><td style=\"text-align:left\" title=\"19.7\">19.7</td><td style=\"text-align:left\" title=\"3.9\">3.9</td><td style=\"text-align:left\" title=\"0.116666667\">0.116666667</td><td style=\"text-align:left\" title=\"4.3\">4.3</td><td style=\"text-align:left\" title=\"3.0E-4\">3.0E-4</td><td style=\"text-align:left\" title=\"0.023\">0.023</td></tr><tr><td style=\"text-align:left\" title=\"Thick-tailed opposum\">Thick-tailed opposum</td><td style=\"text-align:left\" title=\"Lutreolina\">Lutreolina</td><td style=\"text-align:left\" title=\"carni\">carni</td><td style=\"text-align:left\" title=\"Didelphimorphia\">Didelphimorphia</td><td style=\"text-align:left\" title=\"lc\">lc</td><td style=\"text-align:left\" title=\"19.4\">19.4</td><td style=\"text-align:left\" title=\"6.6\">6.6</td><td style=\"text-align:left\" title=\"null\">null</td><td style=\"text-align:left\" title=\"4.6\">4.6</td><td style=\"text-align:left\" title=\"null\">null</td><td style=\"text-align:left\" title=\"0.37\">0.37</td></tr><tr><td style=\"text-align:left\" title=\"Giant armadillo\">Giant armadillo</td><td style=\"text-align:left\" title=\"Priodontes\">Priodontes</td><td style=\"text-align:left\" title=\"insecti\">insecti</td><td style=\"text-align:left\" title=\"Cingulata\">Cingulata</td><td style=\"text-align:left\" title=\"en\">en</td><td style=\"text-align:left\" title=\"18.1\">18.1</td><td style=\"text-align:left\" title=\"6.1\">6.1</td><td style=\"text-align:left\" title=\"null\">null</td><td style=\"text-align:left\" title=\"5.9\">5.9</td><td style=\"text-align:left\" title=\"0.081\">0.081</td><td style=\"text-align:left\" title=\"60.0\">60.0</td></tr><tr><td style=\"text-align:left\" title=\"North American Opossum\">North American Opossum</td><td style=\"text-align:left\" title=\"Didelphis\">Didelphis</td><td style=\"text-align:left\" title=\"omni\">omni</td><td style=\"text-align:left\" title=\"Didelphimorphia\">Didelphimorphia</td><td style=\"text-align:left\" title=\"lc\">lc</td><td style=\"text-align:left\" title=\"18.0\">18.0</td><td style=\"text-align:left\" title=\"4.9\">4.9</td><td style=\"text-align:left\" title=\"0.333333333\">0.333333333</td><td style=\"text-align:left\" title=\"6.0\">6.0</td><td style=\"text-align:left\" title=\"0.0063\">0.0063</td><td style=\"text-align:left\" title=\"1.7\">1.7</td></tr><tr><td style=\"text-align:left\" title=\"Long-nosed armadillo\">Long-nosed armadillo</td><td style=\"text-align:left\" title=\"Dasypus\">Dasypus</td><td style=\"text-align:left\" title=\"carni\">carni</td><td style=\"text-align:left\" title=\"Cingulata\">Cingulata</td><td style=\"text-align:left\" title=\"lc\">lc</td><td style=\"text-align:left\" title=\"17.4\">17.4</td><td style=\"text-align:left\" title=\"3.1\">3.1</td><td style=\"text-align:left\" title=\"0.383333333\">0.383333333</td><td style=\"text-align:left\" title=\"6.6\">6.6</td><td style=\"text-align:left\" title=\"0.0108\">0.0108</td><td style=\"text-align:left\" title=\"3.5\">3.5</td></tr></table><p>... with 77 more rows. Shape: 83 x 11. \n",
       "</p></body></html>"
      ]
     },
     "execution_count": 14,
     "metadata": {},
     "output_type": "execute_result"
    }
   ],
   "source": [
    "sleepData.sortedByDescending(\"sleep_total\")"
   ]
  },
  {
   "cell_type": "code",
   "execution_count": 15,
   "id": "5bdccc9f",
   "metadata": {},
   "outputs": [
    {
     "name": "stdout",
     "output_type": "stream",
     "text": [
      "This dataset has 32 herbivores.\n"
     ]
    },
    {
     "data": {
      "text/html": [
       "<html><body><table><tr><th style=\"text-align:left\">name</th><th style=\"text-align:left\">genus</th><th style=\"text-align:left\">vore</th><th style=\"text-align:left\">order</th><th style=\"text-align:left\">conservation</th><th style=\"text-align:left\">sleep_total</th><th style=\"text-align:left\">sleep_rem</th><th style=\"text-align:left\">sleep_cycle</th><th style=\"text-align:left\">awake</th><th style=\"text-align:left\">brainwt</th><th style=\"text-align:left\">bodywt</th></tr><tr><td style=\"text-align:left\" title=\"Mountain beaver\">Mountain beaver</td><td style=\"text-align:left\" title=\"Aplodontia\">Aplodontia</td><td style=\"text-align:left\" title=\"herbi\">herbi</td><td style=\"text-align:left\" title=\"Rodentia\">Rodentia</td><td style=\"text-align:left\" title=\"nt\">nt</td><td style=\"text-align:left\" title=\"14.4\">14.4</td><td style=\"text-align:left\" title=\"2.4\">2.4</td><td style=\"text-align:left\" title=\"null\">null</td><td style=\"text-align:left\" title=\"9.6\">9.6</td><td style=\"text-align:left\" title=\"null\">null</td><td style=\"text-align:left\" title=\"1.35\">1.35</td></tr><tr><td style=\"text-align:left\" title=\"Cow\">Cow</td><td style=\"text-align:left\" title=\"Bos\">Bos</td><td style=\"text-align:left\" title=\"herbi\">herbi</td><td style=\"text-align:left\" title=\"Artiodactyla\">Artiodactyla</td><td style=\"text-align:left\" title=\"domesticated\">domesticated</td><td style=\"text-align:left\" title=\"4.0\">4.0</td><td style=\"text-align:left\" title=\"0.7\">0.7</td><td style=\"text-align:left\" title=\"0.666666667\">0.666666667</td><td style=\"text-align:left\" title=\"20.0\">20.0</td><td style=\"text-align:left\" title=\"0.423\">0.423</td><td style=\"text-align:left\" title=\"600.0\">600.0</td></tr><tr><td style=\"text-align:left\" title=\"Three-toed sloth\">Three-toed sloth</td><td style=\"text-align:left\" title=\"Bradypus\">Bradypus</td><td style=\"text-align:left\" title=\"herbi\">herbi</td><td style=\"text-align:left\" title=\"Pilosa\">Pilosa</td><td style=\"text-align:left\" title=\"null\">null</td><td style=\"text-align:left\" title=\"14.4\">14.4</td><td style=\"text-align:left\" title=\"2.2\">2.2</td><td style=\"text-align:left\" title=\"0.766666667\">0.766666667</td><td style=\"text-align:left\" title=\"9.6\">9.6</td><td style=\"text-align:left\" title=\"null\">null</td><td style=\"text-align:left\" title=\"3.85\">3.85</td></tr><tr><td style=\"text-align:left\" title=\"Roe deer\">Roe deer</td><td style=\"text-align:left\" title=\"Capreolus\">Capreolus</td><td style=\"text-align:left\" title=\"herbi\">herbi</td><td style=\"text-align:left\" title=\"Artiodactyla\">Artiodactyla</td><td style=\"text-align:left\" title=\"lc\">lc</td><td style=\"text-align:left\" title=\"3.0\">3.0</td><td style=\"text-align:left\" title=\"null\">null</td><td style=\"text-align:left\" title=\"null\">null</td><td style=\"text-align:left\" title=\"21.0\">21.0</td><td style=\"text-align:left\" title=\"0.0982\">0.0982</td><td style=\"text-align:left\" title=\"14.8\">14.8</td></tr><tr><td style=\"text-align:left\" title=\"Goat\">Goat</td><td style=\"text-align:left\" title=\"Capri\">Capri</td><td style=\"text-align:left\" title=\"herbi\">herbi</td><td style=\"text-align:left\" title=\"Artiodactyla\">Artiodactyla</td><td style=\"text-align:left\" title=\"lc\">lc</td><td style=\"text-align:left\" title=\"5.3\">5.3</td><td style=\"text-align:left\" title=\"0.6\">0.6</td><td style=\"text-align:left\" title=\"null\">null</td><td style=\"text-align:left\" title=\"18.7\">18.7</td><td style=\"text-align:left\" title=\"0.115\">0.115</td><td style=\"text-align:left\" title=\"33.5\">33.5</td></tr><tr><td style=\"text-align:left\" title=\"Guinea pig\">Guinea pig</td><td style=\"text-align:left\" title=\"Cavis\">Cavis</td><td style=\"text-align:left\" title=\"herbi\">herbi</td><td style=\"text-align:left\" title=\"Rodentia\">Rodentia</td><td style=\"text-align:left\" title=\"domesticated\">domesticated</td><td style=\"text-align:left\" title=\"9.4\">9.4</td><td style=\"text-align:left\" title=\"0.8\">0.8</td><td style=\"text-align:left\" title=\"0.216666667\">0.216666667</td><td style=\"text-align:left\" title=\"14.6\">14.6</td><td style=\"text-align:left\" title=\"0.0055\">0.0055</td><td style=\"text-align:left\" title=\"0.728\">0.728</td></tr></table><p>... with 26 more rows. Shape: 32 x 11. \n",
       "</p></body></html>"
      ]
     },
     "execution_count": 15,
     "metadata": {},
     "output_type": "execute_result"
    }
   ],
   "source": [
    "val herbivores = sleepData.filter { it[\"vore\"] isEqualTo \"herbi\" }\n",
    "println(\"This dataset has ${herbivores.nrow} herbivores.\")\n",
    "herbivores"
   ]
  },
  {
   "cell_type": "code",
   "execution_count": 16,
   "id": "15e11e46",
   "metadata": {},
   "outputs": [
    {
     "data": {
      "text/html": [
       "<html><body><table><tr><th style=\"text-align:left\">name</th><th style=\"text-align:left\">genus</th><th style=\"text-align:left\">vore</th><th style=\"text-align:left\">order</th><th style=\"text-align:left\">conservation</th><th style=\"text-align:left\">sleep_total</th><th style=\"text-align:left\">sleep_rem</th><th style=\"text-align:left\">sleep_cycle</th><th style=\"text-align:left\">awake</th><th style=\"text-align:left\">brainwt</th><th style=\"text-align:left\">bodywt</th></tr><tr><td style=\"text-align:left\" title=\"Cow\">Cow</td><td style=\"text-align:left\" title=\"Bos\">Bos</td><td style=\"text-align:left\" title=\"herbi\">herbi</td><td style=\"text-align:left\" title=\"Artiodactyla\">Artiodactyla</td><td style=\"text-align:left\" title=\"domesticated\">domesticated</td><td style=\"text-align:left\" title=\"4.0\">4.0</td><td style=\"text-align:left\" title=\"0.7\">0.7</td><td style=\"text-align:left\" title=\"0.666666667\">0.666666667</td><td style=\"text-align:left\" title=\"20.0\">20.0</td><td style=\"text-align:left\" title=\"0.423\">0.423</td><td style=\"text-align:left\" title=\"600.0\">600.0</td></tr><tr><td style=\"text-align:left\" title=\"Asian elephant\">Asian elephant</td><td style=\"text-align:left\" title=\"Elephas\">Elephas</td><td style=\"text-align:left\" title=\"herbi\">herbi</td><td style=\"text-align:left\" title=\"Proboscidea\">Proboscidea</td><td style=\"text-align:left\" title=\"en\">en</td><td style=\"text-align:left\" title=\"3.9\">3.9</td><td style=\"text-align:left\" title=\"null\">null</td><td style=\"text-align:left\" title=\"null\">null</td><td style=\"text-align:left\" title=\"20.1\">20.1</td><td style=\"text-align:left\" title=\"4.603\">4.603</td><td style=\"text-align:left\" title=\"2547.0\">2547.0</td></tr><tr><td style=\"text-align:left\" title=\"Horse\">Horse</td><td style=\"text-align:left\" title=\"Equus\">Equus</td><td style=\"text-align:left\" title=\"herbi\">herbi</td><td style=\"text-align:left\" title=\"Perissodactyla\">Perissodactyla</td><td style=\"text-align:left\" title=\"domesticated\">domesticated</td><td style=\"text-align:left\" title=\"2.9\">2.9</td><td style=\"text-align:left\" title=\"0.6\">0.6</td><td style=\"text-align:left\" title=\"1.0\">1.0</td><td style=\"text-align:left\" title=\"21.1\">21.1</td><td style=\"text-align:left\" title=\"0.655\">0.655</td><td style=\"text-align:left\" title=\"521.0\">521.0</td></tr><tr><td style=\"text-align:left\" title=\"Giraffe\">Giraffe</td><td style=\"text-align:left\" title=\"Giraffa\">Giraffa</td><td style=\"text-align:left\" title=\"herbi\">herbi</td><td style=\"text-align:left\" title=\"Artiodactyla\">Artiodactyla</td><td style=\"text-align:left\" title=\"cd\">cd</td><td style=\"text-align:left\" title=\"1.9\">1.9</td><td style=\"text-align:left\" title=\"0.4\">0.4</td><td style=\"text-align:left\" title=\"null\">null</td><td style=\"text-align:left\" title=\"22.1\">22.1</td><td style=\"text-align:left\" title=\"null\">null</td><td style=\"text-align:left\" title=\"899.995\">899.995</td></tr><tr><td style=\"text-align:left\" title=\"African elephant\">African elephant</td><td style=\"text-align:left\" title=\"Loxodonta\">Loxodonta</td><td style=\"text-align:left\" title=\"herbi\">herbi</td><td style=\"text-align:left\" title=\"Proboscidea\">Proboscidea</td><td style=\"text-align:left\" title=\"vu\">vu</td><td style=\"text-align:left\" title=\"3.3\">3.3</td><td style=\"text-align:left\" title=\"null\">null</td><td style=\"text-align:left\" title=\"null\">null</td><td style=\"text-align:left\" title=\"20.7\">20.7</td><td style=\"text-align:left\" title=\"5.712\">5.712</td><td style=\"text-align:left\" title=\"6654.0\">6654.0</td></tr><tr><td style=\"text-align:left\" title=\"Brazilian tapir\">Brazilian tapir</td><td style=\"text-align:left\" title=\"Tapirus\">Tapirus</td><td style=\"text-align:left\" title=\"herbi\">herbi</td><td style=\"text-align:left\" title=\"Perissodactyla\">Perissodactyla</td><td style=\"text-align:left\" title=\"vu\">vu</td><td style=\"text-align:left\" title=\"4.4\">4.4</td><td style=\"text-align:left\" title=\"1.0\">1.0</td><td style=\"text-align:left\" title=\"0.9\">0.9</td><td style=\"text-align:left\" title=\"19.6\">19.6</td><td style=\"text-align:left\" title=\"0.169\">0.169</td><td style=\"text-align:left\" title=\"207.501\">207.501</td></tr></table><p>Shape: 6 x 11. \n",
       "</p></body></html>"
      ]
     },
     "execution_count": 16,
     "metadata": {},
     "output_type": "execute_result"
    }
   ],
   "source": [
    "val heavyHerbivores = herbivores.filter { it[\"bodywt\"] ge 200 }\n",
    "heavyHerbivores"
   ]
  },
  {
   "cell_type": "code",
   "execution_count": 17,
   "id": "737e302d",
   "metadata": {},
   "outputs": [
    {
     "data": {
      "text/html": [
       "<html><body><table><tr><th style=\"text-align:left\">name</th><th style=\"text-align:left\">genus</th><th style=\"text-align:left\">vore</th><th style=\"text-align:left\">order</th><th style=\"text-align:left\">conservation</th><th style=\"text-align:left\">sleep_total</th><th style=\"text-align:left\">sleep_rem</th><th style=\"text-align:left\">sleep_cycle</th><th style=\"text-align:left\">awake</th><th style=\"text-align:left\">brainwt</th><th style=\"text-align:left\">bodywt</th></tr><tr><td style=\"text-align:left\" title=\"Cheetah\">Cheetah</td><td style=\"text-align:left\" title=\"Acinonyx\">Acinonyx</td><td style=\"text-align:left\" title=\"carni\">carni</td><td style=\"text-align:left\" title=\"Carnivora\">Carnivora</td><td style=\"text-align:left\" title=\"lc\">lc</td><td style=\"text-align:left\" title=\"12.1\">12.1</td><td style=\"text-align:left\" title=\"null\">null</td><td style=\"text-align:left\" title=\"null\">null</td><td style=\"text-align:left\" title=\"11.9\">11.9</td><td style=\"text-align:left\" title=\"null\">null</td><td style=\"text-align:left\" title=\"50.0\">50.0</td></tr><tr><td style=\"text-align:left\" title=\"Owl monkey\">Owl monkey</td><td style=\"text-align:left\" title=\"Aotus\">Aotus</td><td style=\"text-align:left\" title=\"omni\">omni</td><td style=\"text-align:left\" title=\"Primates\">Primates</td><td style=\"text-align:left\" title=\"null\">null</td><td style=\"text-align:left\" title=\"17.0\">17.0</td><td style=\"text-align:left\" title=\"1.8\">1.8</td><td style=\"text-align:left\" title=\"null\">null</td><td style=\"text-align:left\" title=\"7.0\">7.0</td><td style=\"text-align:left\" title=\"0.0155\">0.0155</td><td style=\"text-align:left\" title=\"0.48\">0.48</td></tr><tr><td style=\"text-align:left\" title=\"Greater short-tailed shrew\">Greater short-tailed shrew</td><td style=\"text-align:left\" title=\"Blarina\">Blarina</td><td style=\"text-align:left\" title=\"omni\">omni</td><td style=\"text-align:left\" title=\"Soricomorpha\">Soricomorpha</td><td style=\"text-align:left\" title=\"lc\">lc</td><td style=\"text-align:left\" title=\"14.9\">14.9</td><td style=\"text-align:left\" title=\"2.3\">2.3</td><td style=\"text-align:left\" title=\"0.133333333\">0.133333333</td><td style=\"text-align:left\" title=\"9.1\">9.1</td><td style=\"text-align:left\" title=\"2.9E-4\">2.9E-4</td><td style=\"text-align:left\" title=\"0.019\">0.019</td></tr><tr><td style=\"text-align:left\" title=\"Northern fur seal\">Northern fur seal</td><td style=\"text-align:left\" title=\"Callorhinus\">Callorhinus</td><td style=\"text-align:left\" title=\"carni\">carni</td><td style=\"text-align:left\" title=\"Carnivora\">Carnivora</td><td style=\"text-align:left\" title=\"vu\">vu</td><td style=\"text-align:left\" title=\"8.7\">8.7</td><td style=\"text-align:left\" title=\"1.4\">1.4</td><td style=\"text-align:left\" title=\"0.383333333\">0.383333333</td><td style=\"text-align:left\" title=\"15.3\">15.3</td><td style=\"text-align:left\" title=\"null\">null</td><td style=\"text-align:left\" title=\"20.49\">20.49</td></tr><tr><td style=\"text-align:left\" title=\"Vesper mouse\">Vesper mouse</td><td style=\"text-align:left\" title=\"Calomys\">Calomys</td><td style=\"text-align:left\" title=\"null\">null</td><td style=\"text-align:left\" title=\"Rodentia\">Rodentia</td><td style=\"text-align:left\" title=\"null\">null</td><td style=\"text-align:left\" title=\"7.0\">7.0</td><td style=\"text-align:left\" title=\"null\">null</td><td style=\"text-align:left\" title=\"null\">null</td><td style=\"text-align:left\" title=\"17.0\">17.0</td><td style=\"text-align:left\" title=\"null\">null</td><td style=\"text-align:left\" title=\"0.045\">0.045</td></tr><tr><td style=\"text-align:left\" title=\"Dog\">Dog</td><td style=\"text-align:left\" title=\"Canis\">Canis</td><td style=\"text-align:left\" title=\"carni\">carni</td><td style=\"text-align:left\" title=\"Carnivora\">Carnivora</td><td style=\"text-align:left\" title=\"domesticated\">domesticated</td><td style=\"text-align:left\" title=\"10.1\">10.1</td><td style=\"text-align:left\" title=\"2.9\">2.9</td><td style=\"text-align:left\" title=\"0.333333333\">0.333333333</td><td style=\"text-align:left\" title=\"13.9\">13.9</td><td style=\"text-align:left\" title=\"0.07\">0.07</td><td style=\"text-align:left\" title=\"14.0\">14.0</td></tr></table><p>... with 45 more rows. Shape: 51 x 11. \n",
       "</p></body></html>"
      ]
     },
     "execution_count": 17,
     "metadata": {},
     "output_type": "execute_result"
    }
   ],
   "source": [
    "val nonHerbivores = sleepData.filter { (it[\"vore\"] eq \"herbi\").not() }\n",
    "nonHerbivores"
   ]
  },
  {
   "cell_type": "code",
   "execution_count": 18,
   "id": "fa505b65",
   "metadata": {},
   "outputs": [
    {
     "data": {
      "text/html": [
       "<html><body><table><tr><th style=\"text-align:left\">name</th><th style=\"text-align:left\">genus</th><th style=\"text-align:left\">vore</th><th style=\"text-align:left\">order</th><th style=\"text-align:left\">conservation</th><th style=\"text-align:left\">sleep_total</th><th style=\"text-align:left\">sleep_rem</th><th style=\"text-align:left\">sleep_cycle</th><th style=\"text-align:left\">awake</th><th style=\"text-align:left\">brainwt</th><th style=\"text-align:left\">bodywt</th></tr><tr><td style=\"text-align:left\" title=\"Cow\">Cow</td><td style=\"text-align:left\" title=\"Bos\">Bos</td><td style=\"text-align:left\" title=\"herbi\">herbi</td><td style=\"text-align:left\" title=\"Artiodactyla\">Artiodactyla</td><td style=\"text-align:left\" title=\"domesticated\">domesticated</td><td style=\"text-align:left\" title=\"4.0\">4.0</td><td style=\"text-align:left\" title=\"0.7\">0.7</td><td style=\"text-align:left\" title=\"0.666666667\">0.666666667</td><td style=\"text-align:left\" title=\"20.0\">20.0</td><td style=\"text-align:left\" title=\"0.423\">0.423</td><td style=\"text-align:left\" title=\"600.0\">600.0</td></tr><tr><td style=\"text-align:left\" title=\"Goat\">Goat</td><td style=\"text-align:left\" title=\"Capri\">Capri</td><td style=\"text-align:left\" title=\"herbi\">herbi</td><td style=\"text-align:left\" title=\"Artiodactyla\">Artiodactyla</td><td style=\"text-align:left\" title=\"lc\">lc</td><td style=\"text-align:left\" title=\"5.3\">5.3</td><td style=\"text-align:left\" title=\"0.6\">0.6</td><td style=\"text-align:left\" title=\"null\">null</td><td style=\"text-align:left\" title=\"18.7\">18.7</td><td style=\"text-align:left\" title=\"0.115\">0.115</td><td style=\"text-align:left\" title=\"33.5\">33.5</td></tr><tr><td style=\"text-align:left\" title=\"Asian elephant\">Asian elephant</td><td style=\"text-align:left\" title=\"Elephas\">Elephas</td><td style=\"text-align:left\" title=\"herbi\">herbi</td><td style=\"text-align:left\" title=\"Proboscidea\">Proboscidea</td><td style=\"text-align:left\" title=\"en\">en</td><td style=\"text-align:left\" title=\"3.9\">3.9</td><td style=\"text-align:left\" title=\"null\">null</td><td style=\"text-align:left\" title=\"null\">null</td><td style=\"text-align:left\" title=\"20.1\">20.1</td><td style=\"text-align:left\" title=\"4.603\">4.603</td><td style=\"text-align:left\" title=\"2547.0\">2547.0</td></tr><tr><td style=\"text-align:left\" title=\"Horse\">Horse</td><td style=\"text-align:left\" title=\"Equus\">Equus</td><td style=\"text-align:left\" title=\"herbi\">herbi</td><td style=\"text-align:left\" title=\"Perissodactyla\">Perissodactyla</td><td style=\"text-align:left\" title=\"domesticated\">domesticated</td><td style=\"text-align:left\" title=\"2.9\">2.9</td><td style=\"text-align:left\" title=\"0.6\">0.6</td><td style=\"text-align:left\" title=\"1.0\">1.0</td><td style=\"text-align:left\" title=\"21.1\">21.1</td><td style=\"text-align:left\" title=\"0.655\">0.655</td><td style=\"text-align:left\" title=\"521.0\">521.0</td></tr><tr><td style=\"text-align:left\" title=\"Donkey\">Donkey</td><td style=\"text-align:left\" title=\"Equus\">Equus</td><td style=\"text-align:left\" title=\"herbi\">herbi</td><td style=\"text-align:left\" title=\"Perissodactyla\">Perissodactyla</td><td style=\"text-align:left\" title=\"domesticated\">domesticated</td><td style=\"text-align:left\" title=\"3.1\">3.1</td><td style=\"text-align:left\" title=\"0.4\">0.4</td><td style=\"text-align:left\" title=\"null\">null</td><td style=\"text-align:left\" title=\"20.9\">20.9</td><td style=\"text-align:left\" title=\"0.419\">0.419</td><td style=\"text-align:left\" title=\"187.0\">187.0</td></tr><tr><td style=\"text-align:left\" title=\"Giraffe\">Giraffe</td><td style=\"text-align:left\" title=\"Giraffa\">Giraffa</td><td style=\"text-align:left\" title=\"herbi\">herbi</td><td style=\"text-align:left\" title=\"Artiodactyla\">Artiodactyla</td><td style=\"text-align:left\" title=\"cd\">cd</td><td style=\"text-align:left\" title=\"1.9\">1.9</td><td style=\"text-align:left\" title=\"0.4\">0.4</td><td style=\"text-align:left\" title=\"null\">null</td><td style=\"text-align:left\" title=\"22.1\">22.1</td><td style=\"text-align:left\" title=\"null\">null</td><td style=\"text-align:left\" title=\"899.995\">899.995</td></tr></table><p>... with 3 more rows. Shape: 9 x 11. \n",
       "</p></body></html>"
      ]
     },
     "execution_count": 18,
     "metadata": {},
     "output_type": "execute_result"
    }
   ],
   "source": [
    "val alsoHeavyHerbivores = sleepData\n",
    " .filter { \n",
    " (it[\"vore\"] eq \"herbi\") AND \n",
    " (it[\"bodywt\"] gt 30) \n",
    " }\n",
    "alsoHeavyHerbivores"
   ]
  },
  {
   "cell_type": "code",
   "execution_count": 20,
   "id": "28bdce7a",
   "metadata": {},
   "outputs": [
    {
     "data": {
      "text/html": [
       "<html><body><table><tr><th style=\"text-align:left\">name</th><th style=\"text-align:left\">genus</th><th style=\"text-align:left\">vore</th><th style=\"text-align:left\">order</th><th style=\"text-align:left\">conservation</th><th style=\"text-align:left\">sleep_total</th><th style=\"text-align:left\">sleep_rem</th><th style=\"text-align:left\">sleep_cycle</th><th style=\"text-align:left\">awake</th><th style=\"text-align:left\">brainwt</th><th style=\"text-align:left\">bodywt</th></tr><tr><td style=\"text-align:left\" title=\"Owl monkey\">Owl monkey</td><td style=\"text-align:left\" title=\"Aotus\">Aotus</td><td style=\"text-align:left\" title=\"omni\">omni</td><td style=\"text-align:left\" title=\"Primates\">Primates</td><td style=\"text-align:left\" title=\"null\">null</td><td style=\"text-align:left\" title=\"17.0\">17.0</td><td style=\"text-align:left\" title=\"1.8\">1.8</td><td style=\"text-align:left\" title=\"null\">null</td><td style=\"text-align:left\" title=\"7.0\">7.0</td><td style=\"text-align:left\" title=\"0.0155\">0.0155</td><td style=\"text-align:left\" title=\"0.48\">0.48</td></tr><tr><td style=\"text-align:left\" title=\"Patas monkey\">Patas monkey</td><td style=\"text-align:left\" title=\"Erythrocebus\">Erythrocebus</td><td style=\"text-align:left\" title=\"omni\">omni</td><td style=\"text-align:left\" title=\"Primates\">Primates</td><td style=\"text-align:left\" title=\"lc\">lc</td><td style=\"text-align:left\" title=\"10.9\">10.9</td><td style=\"text-align:left\" title=\"1.1\">1.1</td><td style=\"text-align:left\" title=\"null\">null</td><td style=\"text-align:left\" title=\"13.1\">13.1</td><td style=\"text-align:left\" title=\"0.115\">0.115</td><td style=\"text-align:left\" title=\"10.0\">10.0</td></tr><tr><td style=\"text-align:left\" title=\"Squirrel monkey\">Squirrel monkey</td><td style=\"text-align:left\" title=\"Saimiri\">Saimiri</td><td style=\"text-align:left\" title=\"omni\">omni</td><td style=\"text-align:left\" title=\"Primates\">Primates</td><td style=\"text-align:left\" title=\"null\">null</td><td style=\"text-align:left\" title=\"9.6\">9.6</td><td style=\"text-align:left\" title=\"1.4\">1.4</td><td style=\"text-align:left\" title=\"null\">null</td><td style=\"text-align:left\" title=\"14.4\">14.4</td><td style=\"text-align:left\" title=\"0.02\">0.02</td><td style=\"text-align:left\" title=\"0.743\">0.743</td></tr></table><p>Shape: 3 x 11. \n",
       "</p></body></html>"
      ]
     },
     "execution_count": 20,
     "metadata": {},
     "output_type": "execute_result"
    }
   ],
   "source": [
    "val monkeys = sleepData.filter {it[\"name\"].isMatching<String> { contains(\"monkey\")}}\n",
    "monkeys"
   ]
  },
  {
   "cell_type": "code",
   "execution_count": 21,
   "id": "5fba6e13",
   "metadata": {},
   "outputs": [
    {
     "data": {
      "text/html": [
       "<html><body><table><tr><th style=\"text-align:left\">name</th><th style=\"text-align:left\">vore</th><th style=\"text-align:left\">sleep_total</th><th style=\"text-align:left\">sleep_rem</th></tr><tr><td style=\"text-align:left\" title=\"Cheetah\">Cheetah</td><td style=\"text-align:left\" title=\"carni\">carni</td><td style=\"text-align:left\" title=\"12.1\">12.1</td><td style=\"text-align:left\" title=\"null\">null</td></tr><tr><td style=\"text-align:left\" title=\"Owl monkey\">Owl monkey</td><td style=\"text-align:left\" title=\"omni\">omni</td><td style=\"text-align:left\" title=\"17.0\">17.0</td><td style=\"text-align:left\" title=\"1.8\">1.8</td></tr><tr><td style=\"text-align:left\" title=\"Mountain beaver\">Mountain beaver</td><td style=\"text-align:left\" title=\"herbi\">herbi</td><td style=\"text-align:left\" title=\"14.4\">14.4</td><td style=\"text-align:left\" title=\"2.4\">2.4</td></tr><tr><td style=\"text-align:left\" title=\"Greater short-tailed shrew\">Greater short-tailed shrew</td><td style=\"text-align:left\" title=\"omni\">omni</td><td style=\"text-align:left\" title=\"14.9\">14.9</td><td style=\"text-align:left\" title=\"2.3\">2.3</td></tr><tr><td style=\"text-align:left\" title=\"Cow\">Cow</td><td style=\"text-align:left\" title=\"herbi\">herbi</td><td style=\"text-align:left\" title=\"4.0\">4.0</td><td style=\"text-align:left\" title=\"0.7\">0.7</td></tr><tr><td style=\"text-align:left\" title=\"Three-toed sloth\">Three-toed sloth</td><td style=\"text-align:left\" title=\"herbi\">herbi</td><td style=\"text-align:left\" title=\"14.4\">14.4</td><td style=\"text-align:left\" title=\"2.2\">2.2</td></tr></table><p>... with 77 more rows. Shape: 83 x 4. \n",
       "</p></body></html>"
      ]
     },
     "execution_count": 21,
     "metadata": {},
     "output_type": "execute_result"
    }
   ],
   "source": [
    "val simplifiedSleepData = sleepData.select(\"name\", \"vore\", \"sleep_total\", \"sleep_rem\")\n",
    "simplifiedSleepData"
   ]
  },
  {
   "cell_type": "code",
   "execution_count": 22,
   "id": "ee72dd5f",
   "metadata": {},
   "outputs": [
    {
     "data": {
      "text/html": [
       "<html><body><table><tr><th style=\"text-align:left\">name</th><th style=\"text-align:left\">vore</th><th style=\"text-align:left\">sleep_total</th></tr><tr><td style=\"text-align:left\" title=\"Cheetah\">Cheetah</td><td style=\"text-align:left\" title=\"carni\">carni</td><td style=\"text-align:left\" title=\"12.1\">12.1</td></tr><tr><td style=\"text-align:left\" title=\"Owl monkey\">Owl monkey</td><td style=\"text-align:left\" title=\"omni\">omni</td><td style=\"text-align:left\" title=\"17.0\">17.0</td></tr><tr><td style=\"text-align:left\" title=\"Mountain beaver\">Mountain beaver</td><td style=\"text-align:left\" title=\"herbi\">herbi</td><td style=\"text-align:left\" title=\"14.4\">14.4</td></tr><tr><td style=\"text-align:left\" title=\"Greater short-tailed shrew\">Greater short-tailed shrew</td><td style=\"text-align:left\" title=\"omni\">omni</td><td style=\"text-align:left\" title=\"14.9\">14.9</td></tr><tr><td style=\"text-align:left\" title=\"Cow\">Cow</td><td style=\"text-align:left\" title=\"herbi\">herbi</td><td style=\"text-align:left\" title=\"4.0\">4.0</td></tr><tr><td style=\"text-align:left\" title=\"Three-toed sloth\">Three-toed sloth</td><td style=\"text-align:left\" title=\"herbi\">herbi</td><td style=\"text-align:left\" title=\"14.4\">14.4</td></tr></table><p>... with 77 more rows. Shape: 83 x 3. \n",
       "</p></body></html>"
      ]
     },
     "execution_count": 22,
     "metadata": {},
     "output_type": "execute_result"
    }
   ],
   "source": [
    "val evenSimplerSleepData = simplifiedSleepData.remove(\"sleep_rem\")\n",
    "evenSimplerSleepData"
   ]
  },
  {
   "cell_type": "code",
   "execution_count": 23,
   "id": "5919a3b0",
   "metadata": {},
   "outputs": [
    {
     "name": "stdout",
     "output_type": "stream",
     "text": [
      "The mean sleep period is 10.433734939759033 hours.\n",
      "The median sleep period is 10.1 hours.\n",
      "The standard deviation for the sleep periods is 4.423466369819464 hours.\n",
      "The shortest sleep period is 1.9 hours.\n",
      "The longest sleep period is 19.9 hours.\n"
     ]
    }
   ],
   "source": [
    "val sleepCol = sleepData[\"sleep_total\"]\n",
    "println(\"The mean sleep period is ${sleepCol.mean(removeNA=true)} hours.\")\n",
    "println(\"The median sleep period is ${sleepCol.median(removeNA=true)} hours.\")\n",
    "println(\"The standard deviation for the sleep periods is ${sleepCol.sd(removeNA=true)} hours.\")\n",
    "println(\"The shortest sleep period is ${sleepCol.min(removeNA=true)} hours.\")\n",
    "println(\"The longest sleep period is ${sleepCol.max(removeNA=true)} hours.\")"
   ]
  },
  {
   "cell_type": "code",
   "execution_count": 25,
   "id": "44e93987",
   "metadata": {},
   "outputs": [
    {
     "data": {
      "text/html": [
       "<html><body><table><tr><th style=\"text-align:left\">name</th><th style=\"text-align:left\">genus</th><th style=\"text-align:left\">vore</th><th style=\"text-align:left\">order</th><th style=\"text-align:left\">conservation</th><th style=\"text-align:left\">sleep_total</th><th style=\"text-align:left\">sleep_rem</th><th style=\"text-align:left\">sleep_cycle</th><th style=\"text-align:left\">awake</th><th style=\"text-align:left\">brainwt</th><th style=\"text-align:left\">bodywt</th></tr><tr><td style=\"text-align:left\" title=\"Cheetah\">Cheetah</td><td style=\"text-align:left\" title=\"Acinonyx\">Acinonyx</td><td style=\"text-align:left\" title=\"carni\">carni</td><td style=\"text-align:left\" title=\"Carnivora\">Carnivora</td><td style=\"text-align:left\" title=\"lc\">lc</td><td style=\"text-align:left\" title=\"12.1\">12.1</td><td style=\"text-align:left\" title=\"null\">null</td><td style=\"text-align:left\" title=\"null\">null</td><td style=\"text-align:left\" title=\"11.9\">11.9</td><td style=\"text-align:left\" title=\"null\">null</td><td style=\"text-align:left\" title=\"50.0\">50.0</td></tr><tr><td style=\"text-align:left\" title=\"Northern fur seal\">Northern fur seal</td><td style=\"text-align:left\" title=\"Callorhinus\">Callorhinus</td><td style=\"text-align:left\" title=\"carni\">carni</td><td style=\"text-align:left\" title=\"Carnivora\">Carnivora</td><td style=\"text-align:left\" title=\"vu\">vu</td><td style=\"text-align:left\" title=\"8.7\">8.7</td><td style=\"text-align:left\" title=\"1.4\">1.4</td><td style=\"text-align:left\" title=\"0.383333333\">0.383333333</td><td style=\"text-align:left\" title=\"15.3\">15.3</td><td style=\"text-align:left\" title=\"null\">null</td><td style=\"text-align:left\" title=\"20.49\">20.49</td></tr><tr><td style=\"text-align:left\" title=\"Dog\">Dog</td><td style=\"text-align:left\" title=\"Canis\">Canis</td><td style=\"text-align:left\" title=\"carni\">carni</td><td style=\"text-align:left\" title=\"Carnivora\">Carnivora</td><td style=\"text-align:left\" title=\"domesticated\">domesticated</td><td style=\"text-align:left\" title=\"10.1\">10.1</td><td style=\"text-align:left\" title=\"2.9\">2.9</td><td style=\"text-align:left\" title=\"0.333333333\">0.333333333</td><td style=\"text-align:left\" title=\"13.9\">13.9</td><td style=\"text-align:left\" title=\"0.07\">0.07</td><td style=\"text-align:left\" title=\"14.0\">14.0</td></tr><tr><td style=\"text-align:left\" title=\"Long-nosed armadillo\">Long-nosed armadillo</td><td style=\"text-align:left\" title=\"Dasypus\">Dasypus</td><td style=\"text-align:left\" title=\"carni\">carni</td><td style=\"text-align:left\" title=\"Cingulata\">Cingulata</td><td style=\"text-align:left\" title=\"lc\">lc</td><td style=\"text-align:left\" title=\"17.4\">17.4</td><td style=\"text-align:left\" title=\"3.1\">3.1</td><td style=\"text-align:left\" title=\"0.383333333\">0.383333333</td><td style=\"text-align:left\" title=\"6.6\">6.6</td><td style=\"text-align:left\" title=\"0.0108\">0.0108</td><td style=\"text-align:left\" title=\"3.5\">3.5</td></tr><tr><td style=\"text-align:left\" title=\"Domestic cat\">Domestic cat</td><td style=\"text-align:left\" title=\"Felis\">Felis</td><td style=\"text-align:left\" title=\"carni\">carni</td><td style=\"text-align:left\" title=\"Carnivora\">Carnivora</td><td style=\"text-align:left\" title=\"domesticated\">domesticated</td><td style=\"text-align:left\" title=\"12.5\">12.5</td><td style=\"text-align:left\" title=\"3.2\">3.2</td><td style=\"text-align:left\" title=\"0.416666667\">0.416666667</td><td style=\"text-align:left\" title=\"11.5\">11.5</td><td style=\"text-align:left\" title=\"0.0256\">0.0256</td><td style=\"text-align:left\" title=\"3.3\">3.3</td></tr><tr><td style=\"text-align:left\" title=\"Pilot whale\">Pilot whale</td><td style=\"text-align:left\" title=\"Globicephalus\">Globicephalus</td><td style=\"text-align:left\" title=\"carni\">carni</td><td style=\"text-align:left\" title=\"Cetacea\">Cetacea</td><td style=\"text-align:left\" title=\"cd\">cd</td><td style=\"text-align:left\" title=\"2.7\">2.7</td><td style=\"text-align:left\" title=\"0.1\">0.1</td><td style=\"text-align:left\" title=\"null\">null</td><td style=\"text-align:left\" title=\"21.35\">21.35</td><td style=\"text-align:left\" title=\"null\">null</td><td style=\"text-align:left\" title=\"800.0\">800.0</td></tr></table><p>... with 77 more rows. Shape: 83 x 11. \n",
       "Grouped by vore [5]\n",
       "</p></body></html>"
      ]
     },
     "execution_count": 25,
     "metadata": {},
     "output_type": "execute_result"
    }
   ],
   "source": [
    "val groupedData = sleepData.groupBy(\"vore\")\n",
    "groupedData"
   ]
  },
  {
   "cell_type": "code",
   "execution_count": 26,
   "id": "96392165",
   "metadata": {},
   "outputs": [
    {
     "data": {
      "text/plain": [
       "[A DataFrame: 19 x 11\n",
       "                           name           genus    vore             order   conservation\n",
       " 1                      Cheetah        Acinonyx   carni         Carnivora             lc\n",
       " 2            Northern fur seal     Callorhinus   carni         Carnivora             vu\n",
       " 3                          Dog           Canis   carni         Carnivora   domesticated\n",
       " 4         Long-nosed armadillo         Dasypus   carni         Cingulata             lc\n",
       " 5                 Domestic cat           Felis   carni         Carnivora   domesticated\n",
       " 6                  Pilot whale   Globicephalus   carni           Cetacea             cd\n",
       " 7                    Gray seal    Haliochoerus   carni         Carnivora             lc\n",
       " 8         Thick-tailed opposum      Lutreolina   carni   Didelphimorphia             lc\n",
       " 9                   Slow loris       Nyctibeus   carni          Primates           <NA>\n",
       "10   Northern grasshopper mouse       Onychomys   carni          Rodentia             lc\n",
       "and 9 more rows, and and 6 more variables: sleep_rem, sleep_cycle, awake, brainwt, bodywt, A DataFrame: 20 x 11\n",
       "                           name           genus   vore             order   conservation\n",
       " 1                   Owl monkey           Aotus   omni          Primates           <NA>\n",
       " 2   Greater short-tailed shrew         Blarina   omni      Soricomorpha             lc\n",
       " 3                       Grivet   Cercopithecus   omni          Primates             lc\n",
       " 4              Star-nosed mole       Condylura   omni      Soricomorpha             lc\n",
       " 5    African giant pouched rat      Cricetomys   omni          Rodentia           <NA>\n",
       " 6    Lesser short-tailed shrew       Cryptotis   omni      Soricomorpha             lc\n",
       " 7       North American Opossum       Didelphis   omni   Didelphimorphia             lc\n",
       " 8            European hedgehog       Erinaceus   omni    Erinaceomorpha             lc\n",
       " 9                 Patas monkey    Erythrocebus   omni          Primates             lc\n",
       "10                       Galago          Galago   omni          Primates           <NA>\n",
       "and 10 more rows, and and 6 more variables: sleep_rem, sleep_cycle, awake, brainwt, bodywt, A DataFrame: 32 x 11\n",
       "                 name         genus    vore            order   conservation   sleep_total\n",
       " 1    Mountain beaver    Aplodontia   herbi         Rodentia             nt          14.4\n",
       " 2                Cow           Bos   herbi     Artiodactyla   domesticated             4\n",
       " 3   Three-toed sloth      Bradypus   herbi           Pilosa           <NA>          14.4\n",
       " 4           Roe deer     Capreolus   herbi     Artiodactyla             lc             3\n",
       " 5               Goat         Capri   herbi     Artiodactyla             lc           5.3\n",
       " 6         Guinea pig         Cavis   herbi         Rodentia   domesticated           9.4\n",
       " 7         Chinchilla    Chinchilla   herbi         Rodentia   domesticated          12.5\n",
       " 8         Tree hyrax   Dendrohyrax   herbi       Hyracoidea             lc           5.3\n",
       " 9     Asian elephant       Elephas   herbi      Proboscidea             en           3.9\n",
       "10              Horse         Equus   herbi   Perissodactyla   domesticated           2.9\n",
       "and 22 more rows, and and 5 more variables: sleep_cycle, awake, brainwt, bodywt, A DataFrame: 7 x 11\n",
       "               name         genus   vore            order   conservation   sleep_total   sleep_rem\n",
       "1      Vesper mouse       Calomys   <NA>         Rodentia           <NA>             7        <NA>\n",
       "2   Desert hedgehog   Paraechinus   <NA>   Erinaceomorpha             lc          10.3         2.7\n",
       "3        Deer mouse    Peromyscus   <NA>         Rodentia           <NA>          11.5        <NA>\n",
       "4         Phalanger     Phalanger   <NA>    Diprotodontia           <NA>          13.7         1.8\n",
       "5        Rock hyrax      Procavia   <NA>       Hyracoidea             lc           5.4         0.5\n",
       "6          Mole rat        Spalax   <NA>         Rodentia           <NA>          10.6         2.4\n",
       "7        Musk shrew        Suncus   <NA>     Soricomorpha           <NA>          12.8           2\n",
       "and 4 more variables: awake, brainwt, bodywt, A DataFrame: 5 x 11\n",
       "                     name          genus      vore          order   conservation   sleep_total\n",
       "1           Big brown bat      Eptesicus   insecti     Chiroptera             lc          19.7\n",
       "2        Little brown bat         Myotis   insecti     Chiroptera           <NA>          19.9\n",
       "3         Giant armadillo     Priodontes   insecti      Cingulata             en          18.1\n",
       "4   Eastern american mole       Scalopus   insecti   Soricomorpha             lc           8.4\n",
       "5     Short-nosed echidna   Tachyglossus   insecti    Monotremata           <NA>           8.6\n",
       "and 5 more variables: sleep_cycle, awake, brainwt, bodywt]"
      ]
     },
     "execution_count": 26,
     "metadata": {},
     "output_type": "execute_result"
    }
   ],
   "source": [
    "groupedData.groups()"
   ]
  },
  {
   "cell_type": "code",
   "execution_count": 27,
   "id": "c2943592",
   "metadata": {},
   "outputs": [
    {
     "data": {
      "text/html": [
       "<html><body><table><tr><th style=\"text-align:left\">vore</th><th style=\"text-align:left\">n</th></tr><tr><td style=\"text-align:left\" title=\"carni\">carni</td><td style=\"text-align:left\" title=\"19\">19</td></tr><tr><td style=\"text-align:left\" title=\"omni\">omni</td><td style=\"text-align:left\" title=\"20\">20</td></tr><tr><td style=\"text-align:left\" title=\"herbi\">herbi</td><td style=\"text-align:left\" title=\"32\">32</td></tr><tr><td style=\"text-align:left\" title=\"null\">null</td><td style=\"text-align:left\" title=\"7\">7</td></tr><tr><td style=\"text-align:left\" title=\"insecti\">insecti</td><td style=\"text-align:left\" title=\"5\">5</td></tr></table><p>Shape: 5 x 2. \n",
       "</p></body></html>"
      ]
     },
     "execution_count": 27,
     "metadata": {},
     "output_type": "execute_result"
    }
   ],
   "source": [
    "groupedData.count()"
   ]
  },
  {
   "cell_type": "code",
   "execution_count": 29,
   "id": "e81308a4",
   "metadata": {},
   "outputs": [
    {
     "data": {
      "text/html": [
       "<html><body><table><tr><th style=\"text-align:left\">n</th></tr><tr><td style=\"text-align:left\" title=\"83\">83</td></tr></table><p>Shape: 1 x 1. \n",
       "</p></body></html>"
      ]
     },
     "execution_count": 29,
     "metadata": {},
     "output_type": "execute_result"
    }
   ],
   "source": [
    "sleepData.count() // Test"
   ]
  },
  {
   "cell_type": "code",
   "execution_count": 30,
   "id": "af12c72a",
   "metadata": {},
   "outputs": [
    {
     "data": {
      "text/plain": [
       "[A DataFrame: 19 x 11\n",
       "                     name          genus    vore       order   conservation   sleep_total\n",
       " 1             Arctic fox         Vulpes   carni   Carnivora           <NA>          12.5\n",
       " 2   Bottle-nosed dolphin       Tursiops   carni     Cetacea           <NA>           5.2\n",
       " 3           Caspian seal          Phoca   carni   Carnivora             vu           3.5\n",
       " 4                Cheetah       Acinonyx   carni   Carnivora             lc          12.1\n",
       " 5        Common porpoise       Phocoena   carni     Cetacea             vu           5.6\n",
       " 6                    Dog          Canis   carni   Carnivora   domesticated          10.1\n",
       " 7           Domestic cat          Felis   carni   Carnivora   domesticated          12.5\n",
       " 8                  Genet        Genetta   carni   Carnivora           <NA>           6.3\n",
       " 9              Gray seal   Haliochoerus   carni   Carnivora             lc           6.2\n",
       "10                 Jaguar       Panthera   carni   Carnivora             nt          10.4\n",
       "and 9 more rows, and and 5 more variables: sleep_cycle, awake, brainwt, bodywt, A DataFrame: 20 x 11\n",
       "                           name           genus   vore            order   conservation\n",
       " 1    African giant pouched rat      Cricetomys   omni         Rodentia           <NA>\n",
       " 2        African striped mouse       Rhabdomys   omni         Rodentia           <NA>\n",
       " 3                       Baboon           Papio   omni         Primates           <NA>\n",
       " 4                   Chimpanzee             Pan   omni         Primates           <NA>\n",
       " 5            European hedgehog       Erinaceus   omni   Erinaceomorpha             lc\n",
       " 6                       Galago          Galago   omni         Primates           <NA>\n",
       " 7   Greater short-tailed shrew         Blarina   omni     Soricomorpha             lc\n",
       " 8                       Grivet   Cercopithecus   omni         Primates             lc\n",
       " 9                        Human            Homo   omni         Primates           <NA>\n",
       "10    Lesser short-tailed shrew       Cryptotis   omni     Soricomorpha             lc\n",
       "and 10 more rows, and and 6 more variables: sleep_rem, sleep_cycle, awake, brainwt, bodywt, A DataFrame: 32 x 11\n",
       "                          name          genus    vore            order   conservation   sleep_total\n",
       " 1            African elephant      Loxodonta   herbi      Proboscidea             vu           3.3\n",
       " 2      Arctic ground squirrel   Spermophilus   herbi         Rodentia             lc          16.6\n",
       " 3              Asian elephant        Elephas   herbi      Proboscidea             en           3.9\n",
       " 4             Brazilian tapir        Tapirus   herbi   Perissodactyla             vu           4.4\n",
       " 5                  Chinchilla     Chinchilla   herbi         Rodentia   domesticated          12.5\n",
       " 6                  Cotton rat       Sigmodon   herbi         Rodentia           <NA>          11.3\n",
       " 7                         Cow            Bos   herbi     Artiodactyla   domesticated             4\n",
       " 8                        Degu        Octodon   herbi         Rodentia             lc           7.7\n",
       " 9                      Donkey          Equus   herbi   Perissodactyla   domesticated           3.1\n",
       "10   Eastern american chipmunk         Tamias   herbi         Rodentia           <NA>          15.8\n",
       "and 22 more rows, and and 5 more variables: sleep_cycle, awake, brainwt, bodywt, A DataFrame: 7 x 11\n",
       "               name         genus   vore            order   conservation   sleep_total   sleep_rem\n",
       "1        Deer mouse    Peromyscus   <NA>         Rodentia           <NA>          11.5        <NA>\n",
       "2   Desert hedgehog   Paraechinus   <NA>   Erinaceomorpha             lc          10.3         2.7\n",
       "3          Mole rat        Spalax   <NA>         Rodentia           <NA>          10.6         2.4\n",
       "4        Musk shrew        Suncus   <NA>     Soricomorpha           <NA>          12.8           2\n",
       "5         Phalanger     Phalanger   <NA>    Diprotodontia           <NA>          13.7         1.8\n",
       "6        Rock hyrax      Procavia   <NA>       Hyracoidea             lc           5.4         0.5\n",
       "7      Vesper mouse       Calomys   <NA>         Rodentia           <NA>             7        <NA>\n",
       "and 4 more variables: awake, brainwt, bodywt, A DataFrame: 5 x 11\n",
       "                     name          genus      vore          order   conservation   sleep_total\n",
       "1           Big brown bat      Eptesicus   insecti     Chiroptera             lc          19.7\n",
       "2   Eastern american mole       Scalopus   insecti   Soricomorpha             lc           8.4\n",
       "3         Giant armadillo     Priodontes   insecti      Cingulata             en          18.1\n",
       "4        Little brown bat         Myotis   insecti     Chiroptera           <NA>          19.9\n",
       "5     Short-nosed echidna   Tachyglossus   insecti    Monotremata           <NA>           8.6\n",
       "and 5 more variables: sleep_cycle, awake, brainwt, bodywt]"
      ]
     },
     "execution_count": 30,
     "metadata": {},
     "output_type": "execute_result"
    }
   ],
   "source": [
    "val sortedGroupedData = groupedData.sortedBy(\"name\")\n",
    "sortedGroupedData.groups()"
   ]
  },
  {
   "cell_type": "code",
   "execution_count": 31,
   "id": "0c8e3f15",
   "metadata": {},
   "outputs": [
    {
     "data": {
      "text/html": [
       "<html><body><table><tr><th style=\"text-align:left\">vore</th><th style=\"text-align:left\">Mean daily total sleep (hours)</th><th style=\"text-align:left\">Mean daily REM sleep (hours)</th></tr><tr><td style=\"text-align:left\" title=\"carni\">carni</td><td style=\"text-align:left\" title=\"10.378947368421054\">10.378947368421054</td><td style=\"text-align:left\" title=\"2.29\">2.29</td></tr><tr><td style=\"text-align:left\" title=\"omni\">omni</td><td style=\"text-align:left\" title=\"10.924999999999999\">10.924999999999999</td><td style=\"text-align:left\" title=\"1.9555555555555553\">1.9555555555555553</td></tr><tr><td style=\"text-align:left\" title=\"herbi\">herbi</td><td style=\"text-align:left\" title=\"9.509375\">9.509375</td><td style=\"text-align:left\" title=\"1.3666666666666665\">1.3666666666666665</td></tr><tr><td style=\"text-align:left\" title=\"null\">null</td><td style=\"text-align:left\" title=\"10.185714285714285\">10.185714285714285</td><td style=\"text-align:left\" title=\"1.8800000000000001\">1.8800000000000001</td></tr><tr><td style=\"text-align:left\" title=\"insecti\">insecti</td><td style=\"text-align:left\" title=\"14.939999999999998\">14.939999999999998</td><td style=\"text-align:left\" title=\"3.525\">3.525</td></tr></table><p>Shape: 5 x 3. \n",
       "</p></body></html>"
      ]
     },
     "execution_count": 31,
     "metadata": {},
     "output_type": "execute_result"
    }
   ],
   "source": [
    "groupedData\n",
    " .summarize(\n",
    " \"Mean daily total sleep (hours)\" to { it[\"sleep_total\"].mean(removeNA=true) },\n",
    " \"Mean daily REM sleep (hours)\" to { it[\"sleep_rem\"].mean(removeNA=true) }\n",
    " )"
   ]
  },
  {
   "cell_type": "code",
   "execution_count": null,
   "id": "c58cb670",
   "metadata": {},
   "outputs": [],
   "source": [
    "groupedData // Sort by number of hours\n",
    " .summarize(\n",
    " \"Mean daily total sleep (hours)\" to { it[\"sleep_total\"].mean(removeNA=true) },\n",
    " \"Mean daily REM sleep (hours)\" to { it[\"sleep_rem\"].mean(removeNA=true) }\n",
    " )\n",
    " .sortedBy(\"Mean daily total sleep (hours)\")"
   ]
  }
 ],
 "metadata": {
  "kernelspec": {
   "display_name": "Kotlin",
   "language": "kotlin",
   "name": "kotlin"
  },
  "language_info": {
   "codemirror_mode": "text/x-kotlin",
   "file_extension": ".kt",
   "mimetype": "text/x-kotlin",
   "name": "kotlin",
   "nbconvert_exporter": "",
   "pygments_lexer": "kotlin",
   "version": "1.7.0-dev-1825"
  }
 },
 "nbformat": 4,
 "nbformat_minor": 5
}
