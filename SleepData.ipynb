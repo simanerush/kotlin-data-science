{
 "cells": [
  {
   "cell_type": "code",
   "execution_count": 1,
   "id": "3aa11318",
   "metadata": {},
   "outputs": [],
   "source": [
    "%use krangl"
   ]
  },
  {
   "cell_type": "code",
   "execution_count": 2,
   "id": "f4aa32fc",
   "metadata": {},
   "outputs": [
    {
     "data": {
      "text/html": [
       "<html><body><table><tr><th style=\"text-align:left\">name</th><th style=\"text-align:left\">genus</th><th style=\"text-align:left\">vore</th><th style=\"text-align:left\">order</th><th style=\"text-align:left\">conservation</th><th style=\"text-align:left\">sleep_total</th><th style=\"text-align:left\">sleep_rem</th><th style=\"text-align:left\">sleep_cycle</th><th style=\"text-align:left\">awake</th><th style=\"text-align:left\">brainwt</th><th style=\"text-align:left\">bodywt</th></tr><tr><td style=\"text-align:left\" title=\"Cheetah\">Cheetah</td><td style=\"text-align:left\" title=\"Acinonyx\">Acinonyx</td><td style=\"text-align:left\" title=\"carni\">carni</td><td style=\"text-align:left\" title=\"Carnivora\">Carnivora</td><td style=\"text-align:left\" title=\"lc\">lc</td><td style=\"text-align:left\" title=\"12.1\">12.1</td><td style=\"text-align:left\" title=\"null\">null</td><td style=\"text-align:left\" title=\"null\">null</td><td style=\"text-align:left\" title=\"11.9\">11.9</td><td style=\"text-align:left\" title=\"null\">null</td><td style=\"text-align:left\" title=\"50.0\">50.0</td></tr><tr><td style=\"text-align:left\" title=\"Owl monkey\">Owl monkey</td><td style=\"text-align:left\" title=\"Aotus\">Aotus</td><td style=\"text-align:left\" title=\"omni\">omni</td><td style=\"text-align:left\" title=\"Primates\">Primates</td><td style=\"text-align:left\" title=\"null\">null</td><td style=\"text-align:left\" title=\"17.0\">17.0</td><td style=\"text-align:left\" title=\"1.8\">1.8</td><td style=\"text-align:left\" title=\"null\">null</td><td style=\"text-align:left\" title=\"7.0\">7.0</td><td style=\"text-align:left\" title=\"0.0155\">0.0155</td><td style=\"text-align:left\" title=\"0.48\">0.48</td></tr><tr><td style=\"text-align:left\" title=\"Mountain beaver\">Mountain beaver</td><td style=\"text-align:left\" title=\"Aplodontia\">Aplodontia</td><td style=\"text-align:left\" title=\"herbi\">herbi</td><td style=\"text-align:left\" title=\"Rodentia\">Rodentia</td><td style=\"text-align:left\" title=\"nt\">nt</td><td style=\"text-align:left\" title=\"14.4\">14.4</td><td style=\"text-align:left\" title=\"2.4\">2.4</td><td style=\"text-align:left\" title=\"null\">null</td><td style=\"text-align:left\" title=\"9.6\">9.6</td><td style=\"text-align:left\" title=\"null\">null</td><td style=\"text-align:left\" title=\"1.35\">1.35</td></tr><tr><td style=\"text-align:left\" title=\"Greater short-tailed shrew\">Greater short-tailed shrew</td><td style=\"text-align:left\" title=\"Blarina\">Blarina</td><td style=\"text-align:left\" title=\"omni\">omni</td><td style=\"text-align:left\" title=\"Soricomorpha\">Soricomorpha</td><td style=\"text-align:left\" title=\"lc\">lc</td><td style=\"text-align:left\" title=\"14.9\">14.9</td><td style=\"text-align:left\" title=\"2.3\">2.3</td><td style=\"text-align:left\" title=\"0.133333333\">0.133333333</td><td style=\"text-align:left\" title=\"9.1\">9.1</td><td style=\"text-align:left\" title=\"2.9E-4\">2.9E-4</td><td style=\"text-align:left\" title=\"0.019\">0.019</td></tr><tr><td style=\"text-align:left\" title=\"Cow\">Cow</td><td style=\"text-align:left\" title=\"Bos\">Bos</td><td style=\"text-align:left\" title=\"herbi\">herbi</td><td style=\"text-align:left\" title=\"Artiodactyla\">Artiodactyla</td><td style=\"text-align:left\" title=\"domesticated\">domesticated</td><td style=\"text-align:left\" title=\"4.0\">4.0</td><td style=\"text-align:left\" title=\"0.7\">0.7</td><td style=\"text-align:left\" title=\"0.666666667\">0.666666667</td><td style=\"text-align:left\" title=\"20.0\">20.0</td><td style=\"text-align:left\" title=\"0.423\">0.423</td><td style=\"text-align:left\" title=\"600.0\">600.0</td></tr><tr><td style=\"text-align:left\" title=\"Three-toed sloth\">Three-toed sloth</td><td style=\"text-align:left\" title=\"Bradypus\">Bradypus</td><td style=\"text-align:left\" title=\"herbi\">herbi</td><td style=\"text-align:left\" title=\"Pilosa\">Pilosa</td><td style=\"text-align:left\" title=\"null\">null</td><td style=\"text-align:left\" title=\"14.4\">14.4</td><td style=\"text-align:left\" title=\"2.2\">2.2</td><td style=\"text-align:left\" title=\"0.766666667\">0.766666667</td><td style=\"text-align:left\" title=\"9.6\">9.6</td><td style=\"text-align:left\" title=\"null\">null</td><td style=\"text-align:left\" title=\"3.85\">3.85</td></tr></table><p>... with 77 more rows. Shape: 83 x 11. \n",
       "</p></body></html>"
      ]
     },
     "execution_count": 2,
     "metadata": {},
     "output_type": "execute_result"
    }
   ],
   "source": [
    "sleepData"
   ]
  },
  {
   "cell_type": "code",
   "execution_count": 4,
   "id": "9c5b8012",
   "metadata": {},
   "outputs": [
    {
     "data": {
      "text/html": [
       "<html><body><table><tr><th style=\"text-align:left\">name</th><th style=\"text-align:left\">genus</th><th style=\"text-align:left\">vore</th><th style=\"text-align:left\">order</th><th style=\"text-align:left\">conservation</th><th style=\"text-align:left\">sleep_total</th><th style=\"text-align:left\">sleep_rem</th><th style=\"text-align:left\">sleep_cycle</th><th style=\"text-align:left\">awake</th><th style=\"text-align:left\">brainwt</th><th style=\"text-align:left\">bodywt</th></tr><tr><td style=\"text-align:left\" title=\"Cheetah\">Cheetah</td><td style=\"text-align:left\" title=\"Acinonyx\">Acinonyx</td><td style=\"text-align:left\" title=\"carni\">carni</td><td style=\"text-align:left\" title=\"Carnivora\">Carnivora</td><td style=\"text-align:left\" title=\"lc\">lc</td><td style=\"text-align:left\" title=\"12.1\">12.1</td><td style=\"text-align:left\" title=\"null\">null</td><td style=\"text-align:left\" title=\"null\">null</td><td style=\"text-align:left\" title=\"11.9\">11.9</td><td style=\"text-align:left\" title=\"null\">null</td><td style=\"text-align:left\" title=\"50.0\">50.0</td></tr><tr><td style=\"text-align:left\" title=\"Owl monkey\">Owl monkey</td><td style=\"text-align:left\" title=\"Aotus\">Aotus</td><td style=\"text-align:left\" title=\"omni\">omni</td><td style=\"text-align:left\" title=\"Primates\">Primates</td><td style=\"text-align:left\" title=\"null\">null</td><td style=\"text-align:left\" title=\"17.0\">17.0</td><td style=\"text-align:left\" title=\"1.8\">1.8</td><td style=\"text-align:left\" title=\"null\">null</td><td style=\"text-align:left\" title=\"7.0\">7.0</td><td style=\"text-align:left\" title=\"0.0155\">0.0155</td><td style=\"text-align:left\" title=\"0.48\">0.48</td></tr><tr><td style=\"text-align:left\" title=\"Mountain beaver\">Mountain beaver</td><td style=\"text-align:left\" title=\"Aplodontia\">Aplodontia</td><td style=\"text-align:left\" title=\"herbi\">herbi</td><td style=\"text-align:left\" title=\"Rodentia\">Rodentia</td><td style=\"text-align:left\" title=\"nt\">nt</td><td style=\"text-align:left\" title=\"14.4\">14.4</td><td style=\"text-align:left\" title=\"2.4\">2.4</td><td style=\"text-align:left\" title=\"null\">null</td><td style=\"text-align:left\" title=\"9.6\">9.6</td><td style=\"text-align:left\" title=\"null\">null</td><td style=\"text-align:left\" title=\"1.35\">1.35</td></tr><tr><td style=\"text-align:left\" title=\"Greater short-tailed shrew\">Greater short-tailed shrew</td><td style=\"text-align:left\" title=\"Blarina\">Blarina</td><td style=\"text-align:left\" title=\"omni\">omni</td><td style=\"text-align:left\" title=\"Soricomorpha\">Soricomorpha</td><td style=\"text-align:left\" title=\"lc\">lc</td><td style=\"text-align:left\" title=\"14.9\">14.9</td><td style=\"text-align:left\" title=\"2.3\">2.3</td><td style=\"text-align:left\" title=\"0.133333333\">0.133333333</td><td style=\"text-align:left\" title=\"9.1\">9.1</td><td style=\"text-align:left\" title=\"2.9E-4\">2.9E-4</td><td style=\"text-align:left\" title=\"0.019\">0.019</td></tr><tr><td style=\"text-align:left\" title=\"Cow\">Cow</td><td style=\"text-align:left\" title=\"Bos\">Bos</td><td style=\"text-align:left\" title=\"herbi\">herbi</td><td style=\"text-align:left\" title=\"Artiodactyla\">Artiodactyla</td><td style=\"text-align:left\" title=\"domesticated\">domesticated</td><td style=\"text-align:left\" title=\"4.0\">4.0</td><td style=\"text-align:left\" title=\"0.7\">0.7</td><td style=\"text-align:left\" title=\"0.666666667\">0.666666667</td><td style=\"text-align:left\" title=\"20.0\">20.0</td><td style=\"text-align:left\" title=\"0.423\">0.423</td><td style=\"text-align:left\" title=\"600.0\">600.0</td></tr></table><p>Shape: 5 x 11. \n",
       "</p></body></html>"
      ]
     },
     "execution_count": 4,
     "metadata": {},
     "output_type": "execute_result"
    }
   ],
   "source": [
    "sleepData.head()"
   ]
  },
  {
   "cell_type": "code",
   "execution_count": 5,
   "id": "0882b409",
   "metadata": {
    "scrolled": true
   },
   "outputs": [
    {
     "data": {
      "text/html": [
       "<html><body><table><tr><th style=\"text-align:left\">name</th><th style=\"text-align:left\">genus</th><th style=\"text-align:left\">vore</th><th style=\"text-align:left\">order</th><th style=\"text-align:left\">conservation</th><th style=\"text-align:left\">sleep_total</th><th style=\"text-align:left\">sleep_rem</th><th style=\"text-align:left\">sleep_cycle</th><th style=\"text-align:left\">awake</th><th style=\"text-align:left\">brainwt</th><th style=\"text-align:left\">bodywt</th></tr><tr><td style=\"text-align:left\" title=\"Cheetah\">Cheetah</td><td style=\"text-align:left\" title=\"Acinonyx\">Acinonyx</td><td style=\"text-align:left\" title=\"carni\">carni</td><td style=\"text-align:left\" title=\"Carnivora\">Carnivora</td><td style=\"text-align:left\" title=\"lc\">lc</td><td style=\"text-align:left\" title=\"12.1\">12.1</td><td style=\"text-align:left\" title=\"null\">null</td><td style=\"text-align:left\" title=\"null\">null</td><td style=\"text-align:left\" title=\"11.9\">11.9</td><td style=\"text-align:left\" title=\"null\">null</td><td style=\"text-align:left\" title=\"50.0\">50.0</td></tr><tr><td style=\"text-align:left\" title=\"Owl monkey\">Owl monkey</td><td style=\"text-align:left\" title=\"Aotus\">Aotus</td><td style=\"text-align:left\" title=\"omni\">omni</td><td style=\"text-align:left\" title=\"Primates\">Primates</td><td style=\"text-align:left\" title=\"null\">null</td><td style=\"text-align:left\" title=\"17.0\">17.0</td><td style=\"text-align:left\" title=\"1.8\">1.8</td><td style=\"text-align:left\" title=\"null\">null</td><td style=\"text-align:left\" title=\"7.0\">7.0</td><td style=\"text-align:left\" title=\"0.0155\">0.0155</td><td style=\"text-align:left\" title=\"0.48\">0.48</td></tr><tr><td style=\"text-align:left\" title=\"Mountain beaver\">Mountain beaver</td><td style=\"text-align:left\" title=\"Aplodontia\">Aplodontia</td><td style=\"text-align:left\" title=\"herbi\">herbi</td><td style=\"text-align:left\" title=\"Rodentia\">Rodentia</td><td style=\"text-align:left\" title=\"nt\">nt</td><td style=\"text-align:left\" title=\"14.4\">14.4</td><td style=\"text-align:left\" title=\"2.4\">2.4</td><td style=\"text-align:left\" title=\"null\">null</td><td style=\"text-align:left\" title=\"9.6\">9.6</td><td style=\"text-align:left\" title=\"null\">null</td><td style=\"text-align:left\" title=\"1.35\">1.35</td></tr><tr><td style=\"text-align:left\" title=\"Greater short-tailed shrew\">Greater short-tailed shrew</td><td style=\"text-align:left\" title=\"Blarina\">Blarina</td><td style=\"text-align:left\" title=\"omni\">omni</td><td style=\"text-align:left\" title=\"Soricomorpha\">Soricomorpha</td><td style=\"text-align:left\" title=\"lc\">lc</td><td style=\"text-align:left\" title=\"14.9\">14.9</td><td style=\"text-align:left\" title=\"2.3\">2.3</td><td style=\"text-align:left\" title=\"0.133333333\">0.133333333</td><td style=\"text-align:left\" title=\"9.1\">9.1</td><td style=\"text-align:left\" title=\"2.9E-4\">2.9E-4</td><td style=\"text-align:left\" title=\"0.019\">0.019</td></tr><tr><td style=\"text-align:left\" title=\"Cow\">Cow</td><td style=\"text-align:left\" title=\"Bos\">Bos</td><td style=\"text-align:left\" title=\"herbi\">herbi</td><td style=\"text-align:left\" title=\"Artiodactyla\">Artiodactyla</td><td style=\"text-align:left\" title=\"domesticated\">domesticated</td><td style=\"text-align:left\" title=\"4.0\">4.0</td><td style=\"text-align:left\" title=\"0.7\">0.7</td><td style=\"text-align:left\" title=\"0.666666667\">0.666666667</td><td style=\"text-align:left\" title=\"20.0\">20.0</td><td style=\"text-align:left\" title=\"0.423\">0.423</td><td style=\"text-align:left\" title=\"600.0\">600.0</td></tr><tr><td style=\"text-align:left\" title=\"Three-toed sloth\">Three-toed sloth</td><td style=\"text-align:left\" title=\"Bradypus\">Bradypus</td><td style=\"text-align:left\" title=\"herbi\">herbi</td><td style=\"text-align:left\" title=\"Pilosa\">Pilosa</td><td style=\"text-align:left\" title=\"null\">null</td><td style=\"text-align:left\" title=\"14.4\">14.4</td><td style=\"text-align:left\" title=\"2.2\">2.2</td><td style=\"text-align:left\" title=\"0.766666667\">0.766666667</td><td style=\"text-align:left\" title=\"9.6\">9.6</td><td style=\"text-align:left\" title=\"null\">null</td><td style=\"text-align:left\" title=\"3.85\">3.85</td></tr></table><p>... with 14 more rows. Shape: 20 x 11. \n",
       "</p></body></html>"
      ]
     },
     "execution_count": 5,
     "metadata": {},
     "output_type": "execute_result"
    }
   ],
   "source": [
    "sleepData.head(20)"
   ]
  },
  {
   "cell_type": "code",
   "execution_count": 6,
   "id": "2ac30b8e",
   "metadata": {},
   "outputs": [
    {
     "data": {
      "text/html": [
       "<html><body><table><tr><th style=\"text-align:left\">name</th><th style=\"text-align:left\">genus</th><th style=\"text-align:left\">vore</th><th style=\"text-align:left\">order</th><th style=\"text-align:left\">conservation</th><th style=\"text-align:left\">sleep_total</th><th style=\"text-align:left\">sleep_rem</th><th style=\"text-align:left\">sleep_cycle</th><th style=\"text-align:left\">awake</th><th style=\"text-align:left\">brainwt</th><th style=\"text-align:left\">bodywt</th></tr><tr><td style=\"text-align:left\" title=\"Tree shrew\">Tree shrew</td><td style=\"text-align:left\" title=\"Tupaia\">Tupaia</td><td style=\"text-align:left\" title=\"omni\">omni</td><td style=\"text-align:left\" title=\"Scandentia\">Scandentia</td><td style=\"text-align:left\" title=\"null\">null</td><td style=\"text-align:left\" title=\"8.9\">8.9</td><td style=\"text-align:left\" title=\"2.6\">2.6</td><td style=\"text-align:left\" title=\"0.233333333\">0.233333333</td><td style=\"text-align:left\" title=\"15.1\">15.1</td><td style=\"text-align:left\" title=\"0.0025\">0.0025</td><td style=\"text-align:left\" title=\"0.104\">0.104</td></tr><tr><td style=\"text-align:left\" title=\"Bottle-nosed dolphin\">Bottle-nosed dolphin</td><td style=\"text-align:left\" title=\"Tursiops\">Tursiops</td><td style=\"text-align:left\" title=\"carni\">carni</td><td style=\"text-align:left\" title=\"Cetacea\">Cetacea</td><td style=\"text-align:left\" title=\"null\">null</td><td style=\"text-align:left\" title=\"5.2\">5.2</td><td style=\"text-align:left\" title=\"null\">null</td><td style=\"text-align:left\" title=\"null\">null</td><td style=\"text-align:left\" title=\"18.8\">18.8</td><td style=\"text-align:left\" title=\"null\">null</td><td style=\"text-align:left\" title=\"173.33\">173.33</td></tr><tr><td style=\"text-align:left\" title=\"Genet\">Genet</td><td style=\"text-align:left\" title=\"Genetta\">Genetta</td><td style=\"text-align:left\" title=\"carni\">carni</td><td style=\"text-align:left\" title=\"Carnivora\">Carnivora</td><td style=\"text-align:left\" title=\"null\">null</td><td style=\"text-align:left\" title=\"6.3\">6.3</td><td style=\"text-align:left\" title=\"1.3\">1.3</td><td style=\"text-align:left\" title=\"null\">null</td><td style=\"text-align:left\" title=\"17.7\">17.7</td><td style=\"text-align:left\" title=\"0.0175\">0.0175</td><td style=\"text-align:left\" title=\"2.0\">2.0</td></tr><tr><td style=\"text-align:left\" title=\"Arctic fox\">Arctic fox</td><td style=\"text-align:left\" title=\"Vulpes\">Vulpes</td><td style=\"text-align:left\" title=\"carni\">carni</td><td style=\"text-align:left\" title=\"Carnivora\">Carnivora</td><td style=\"text-align:left\" title=\"null\">null</td><td style=\"text-align:left\" title=\"12.5\">12.5</td><td style=\"text-align:left\" title=\"null\">null</td><td style=\"text-align:left\" title=\"null\">null</td><td style=\"text-align:left\" title=\"11.5\">11.5</td><td style=\"text-align:left\" title=\"0.0445\">0.0445</td><td style=\"text-align:left\" title=\"3.38\">3.38</td></tr><tr><td style=\"text-align:left\" title=\"Red fox\">Red fox</td><td style=\"text-align:left\" title=\"Vulpes\">Vulpes</td><td style=\"text-align:left\" title=\"carni\">carni</td><td style=\"text-align:left\" title=\"Carnivora\">Carnivora</td><td style=\"text-align:left\" title=\"null\">null</td><td style=\"text-align:left\" title=\"9.8\">9.8</td><td style=\"text-align:left\" title=\"2.4\">2.4</td><td style=\"text-align:left\" title=\"0.35\">0.35</td><td style=\"text-align:left\" title=\"14.2\">14.2</td><td style=\"text-align:left\" title=\"0.0504\">0.0504</td><td style=\"text-align:left\" title=\"4.23\">4.23</td></tr></table><p>Shape: 5 x 11. \n",
       "</p></body></html>"
      ]
     },
     "execution_count": 6,
     "metadata": {},
     "output_type": "execute_result"
    }
   ],
   "source": [
    "val lastFew = sleepData.tail()\n",
    "lastFew"
   ]
  },
  {
   "cell_type": "code",
   "execution_count": 7,
   "id": "fc08e6dd",
   "metadata": {},
   "outputs": [
    {
     "data": {
      "text/html": [
       "<html><body><table><tr><th style=\"text-align:left\">name</th><th style=\"text-align:left\">genus</th><th style=\"text-align:left\">vore</th><th style=\"text-align:left\">order</th><th style=\"text-align:left\">conservation</th><th style=\"text-align:left\">sleep_total</th><th style=\"text-align:left\">sleep_rem</th><th style=\"text-align:left\">sleep_cycle</th><th style=\"text-align:left\">awake</th><th style=\"text-align:left\">brainwt</th><th style=\"text-align:left\">bodywt</th></tr><tr><td style=\"text-align:left\" title=\"Giraffe\">Giraffe</td><td style=\"text-align:left\" title=\"Giraffa\">Giraffa</td><td style=\"text-align:left\" title=\"herbi\">herbi</td><td style=\"text-align:left\" title=\"Artiodactyla\">Artiodactyla</td><td style=\"text-align:left\" title=\"cd\">cd</td><td style=\"text-align:left\" title=\"1.9\">1.9</td><td style=\"text-align:left\" title=\"0.4\">0.4</td><td style=\"text-align:left\" title=\"null\">null</td><td style=\"text-align:left\" title=\"22.1\">22.1</td><td style=\"text-align:left\" title=\"null\">null</td><td style=\"text-align:left\" title=\"899.995\">899.995</td></tr><tr><td style=\"text-align:left\" title=\"Pilot whale\">Pilot whale</td><td style=\"text-align:left\" title=\"Globicephalus\">Globicephalus</td><td style=\"text-align:left\" title=\"carni\">carni</td><td style=\"text-align:left\" title=\"Cetacea\">Cetacea</td><td style=\"text-align:left\" title=\"cd\">cd</td><td style=\"text-align:left\" title=\"2.7\">2.7</td><td style=\"text-align:left\" title=\"0.1\">0.1</td><td style=\"text-align:left\" title=\"null\">null</td><td style=\"text-align:left\" title=\"21.35\">21.35</td><td style=\"text-align:left\" title=\"null\">null</td><td style=\"text-align:left\" title=\"800.0\">800.0</td></tr><tr><td style=\"text-align:left\" title=\"Gray seal\">Gray seal</td><td style=\"text-align:left\" title=\"Haliochoerus\">Haliochoerus</td><td style=\"text-align:left\" title=\"carni\">carni</td><td style=\"text-align:left\" title=\"Carnivora\">Carnivora</td><td style=\"text-align:left\" title=\"lc\">lc</td><td style=\"text-align:left\" title=\"6.2\">6.2</td><td style=\"text-align:left\" title=\"1.5\">1.5</td><td style=\"text-align:left\" title=\"null\">null</td><td style=\"text-align:left\" title=\"17.8\">17.8</td><td style=\"text-align:left\" title=\"0.325\">0.325</td><td style=\"text-align:left\" title=\"85.0\">85.0</td></tr><tr><td style=\"text-align:left\" title=\"Gray hyrax\">Gray hyrax</td><td style=\"text-align:left\" title=\"Heterohyrax\">Heterohyrax</td><td style=\"text-align:left\" title=\"herbi\">herbi</td><td style=\"text-align:left\" title=\"Hyracoidea\">Hyracoidea</td><td style=\"text-align:left\" title=\"lc\">lc</td><td style=\"text-align:left\" title=\"6.3\">6.3</td><td style=\"text-align:left\" title=\"0.6\">0.6</td><td style=\"text-align:left\" title=\"null\">null</td><td style=\"text-align:left\" title=\"17.7\">17.7</td><td style=\"text-align:left\" title=\"0.01227\">0.01227</td><td style=\"text-align:left\" title=\"2.625\">2.625</td></tr><tr><td style=\"text-align:left\" title=\"Human\">Human</td><td style=\"text-align:left\" title=\"Homo\">Homo</td><td style=\"text-align:left\" title=\"omni\">omni</td><td style=\"text-align:left\" title=\"Primates\">Primates</td><td style=\"text-align:left\" title=\"null\">null</td><td style=\"text-align:left\" title=\"8.0\">8.0</td><td style=\"text-align:left\" title=\"1.9\">1.9</td><td style=\"text-align:left\" title=\"1.5\">1.5</td><td style=\"text-align:left\" title=\"16.0\">16.0</td><td style=\"text-align:left\" title=\"1.32\">1.32</td><td style=\"text-align:left\" title=\"62.0\">62.0</td></tr></table><p>Shape: 5 x 11. \n",
       "</p></body></html>"
      ]
     },
     "execution_count": 7,
     "metadata": {},
     "output_type": "execute_result"
    }
   ],
   "source": [
    "val selection = sleepData.slice(30..34)\n",
    "selection"
   ]
  },
  {
   "cell_type": "code",
   "execution_count": 8,
   "id": "b55c4d7b",
   "metadata": {},
   "outputs": [
    {
     "data": {
      "text/plain": [
       "{name=Cheetah, genus=Acinonyx, vore=carni, order=Carnivora, conservation=lc, sleep_total=12.1, sleep_rem=null, sleep_cycle=null, awake=11.9, brainwt=null, bodywt=50.0}"
      ]
     },
     "execution_count": 8,
     "metadata": {},
     "output_type": "execute_result"
    }
   ],
   "source": [
    "sleepData.rows.elementAt(0)"
   ]
  },
  {
   "cell_type": "code",
   "execution_count": 9,
   "id": "d73228d5",
   "metadata": {},
   "outputs": [
    {
     "data": {
      "text/html": [
       "<html><body><table><tr><th style=\"text-align:left\">name</th><th style=\"text-align:left\">genus</th><th style=\"text-align:left\">vore</th><th style=\"text-align:left\">order</th><th style=\"text-align:left\">conservation</th><th style=\"text-align:left\">sleep_total</th><th style=\"text-align:left\">sleep_rem</th><th style=\"text-align:left\">sleep_cycle</th><th style=\"text-align:left\">awake</th><th style=\"text-align:left\">brainwt</th><th style=\"text-align:left\">bodywt</th></tr></table><p>Shape: 0 x 11. \n",
       "</p></body></html>"
      ]
     },
     "execution_count": 9,
     "metadata": {},
     "output_type": "execute_result"
    }
   ],
   "source": [
    "sleepData.slice(0..0)"
   ]
  },
  {
   "cell_type": "code",
   "execution_count": 10,
   "id": "1d81c911",
   "metadata": {},
   "outputs": [
    {
     "data": {
      "text/html": [
       "<html><body><table><tr><th style=\"text-align:left\">name</th><th style=\"text-align:left\">genus</th><th style=\"text-align:left\">vore</th><th style=\"text-align:left\">order</th><th style=\"text-align:left\">conservation</th><th style=\"text-align:left\">sleep_total</th><th style=\"text-align:left\">sleep_rem</th><th style=\"text-align:left\">sleep_cycle</th><th style=\"text-align:left\">awake</th><th style=\"text-align:left\">brainwt</th><th style=\"text-align:left\">bodywt</th></tr><tr><td style=\"text-align:left\" title=\"Cheetah\">Cheetah</td><td style=\"text-align:left\" title=\"Acinonyx\">Acinonyx</td><td style=\"text-align:left\" title=\"carni\">carni</td><td style=\"text-align:left\" title=\"Carnivora\">Carnivora</td><td style=\"text-align:left\" title=\"lc\">lc</td><td style=\"text-align:left\" title=\"12.1\">12.1</td><td style=\"text-align:left\" title=\"null\">null</td><td style=\"text-align:left\" title=\"null\">null</td><td style=\"text-align:left\" title=\"11.9\">11.9</td><td style=\"text-align:left\" title=\"null\">null</td><td style=\"text-align:left\" title=\"50.0\">50.0</td></tr></table><p>Shape: 1 x 11. \n",
       "</p></body></html>"
      ]
     },
     "execution_count": 10,
     "metadata": {},
     "output_type": "execute_result"
    }
   ],
   "source": [
    "sleepData.slice(1..1)"
   ]
  },
  {
   "cell_type": "code",
   "execution_count": null,
   "id": "8c3865db",
   "metadata": {},
   "outputs": [],
   "source": []
  }
 ],
 "metadata": {
  "kernelspec": {
   "display_name": "Kotlin",
   "language": "kotlin",
   "name": "kotlin"
  },
  "language_info": {
   "codemirror_mode": "text/x-kotlin",
   "file_extension": ".kt",
   "mimetype": "text/x-kotlin",
   "name": "kotlin",
   "nbconvert_exporter": "",
   "pygments_lexer": "kotlin",
   "version": "1.7.0-dev-1825"
  }
 },
 "nbformat": 4,
 "nbformat_minor": 5
}
