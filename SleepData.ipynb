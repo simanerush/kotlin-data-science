{
 "cells": [
  {
   "cell_type": "code",
   "execution_count": 1,
   "id": "3aa11318",
   "metadata": {},
   "outputs": [],
   "source": [
    "%use krangl"
   ]
  },
  {
   "cell_type": "code",
   "execution_count": 2,
   "id": "f4aa32fc",
   "metadata": {},
   "outputs": [
    {
     "data": {
      "text/html": [
       "<html><body><table><tr><th style=\"text-align:left\">name</th><th style=\"text-align:left\">genus</th><th style=\"text-align:left\">vore</th><th style=\"text-align:left\">order</th><th style=\"text-align:left\">conservation</th><th style=\"text-align:left\">sleep_total</th><th style=\"text-align:left\">sleep_rem</th><th style=\"text-align:left\">sleep_cycle</th><th style=\"text-align:left\">awake</th><th style=\"text-align:left\">brainwt</th><th style=\"text-align:left\">bodywt</th></tr><tr><td style=\"text-align:left\" title=\"Cheetah\">Cheetah</td><td style=\"text-align:left\" title=\"Acinonyx\">Acinonyx</td><td style=\"text-align:left\" title=\"carni\">carni</td><td style=\"text-align:left\" title=\"Carnivora\">Carnivora</td><td style=\"text-align:left\" title=\"lc\">lc</td><td style=\"text-align:left\" title=\"12.1\">12.1</td><td style=\"text-align:left\" title=\"null\">null</td><td style=\"text-align:left\" title=\"null\">null</td><td style=\"text-align:left\" title=\"11.9\">11.9</td><td style=\"text-align:left\" title=\"null\">null</td><td style=\"text-align:left\" title=\"50.0\">50.0</td></tr><tr><td style=\"text-align:left\" title=\"Owl monkey\">Owl monkey</td><td style=\"text-align:left\" title=\"Aotus\">Aotus</td><td style=\"text-align:left\" title=\"omni\">omni</td><td style=\"text-align:left\" title=\"Primates\">Primates</td><td style=\"text-align:left\" title=\"null\">null</td><td style=\"text-align:left\" title=\"17.0\">17.0</td><td style=\"text-align:left\" title=\"1.8\">1.8</td><td style=\"text-align:left\" title=\"null\">null</td><td style=\"text-align:left\" title=\"7.0\">7.0</td><td style=\"text-align:left\" title=\"0.0155\">0.0155</td><td style=\"text-align:left\" title=\"0.48\">0.48</td></tr><tr><td style=\"text-align:left\" title=\"Mountain beaver\">Mountain beaver</td><td style=\"text-align:left\" title=\"Aplodontia\">Aplodontia</td><td style=\"text-align:left\" title=\"herbi\">herbi</td><td style=\"text-align:left\" title=\"Rodentia\">Rodentia</td><td style=\"text-align:left\" title=\"nt\">nt</td><td style=\"text-align:left\" title=\"14.4\">14.4</td><td style=\"text-align:left\" title=\"2.4\">2.4</td><td style=\"text-align:left\" title=\"null\">null</td><td style=\"text-align:left\" title=\"9.6\">9.6</td><td style=\"text-align:left\" title=\"null\">null</td><td style=\"text-align:left\" title=\"1.35\">1.35</td></tr><tr><td style=\"text-align:left\" title=\"Greater short-tailed shrew\">Greater short-tailed shrew</td><td style=\"text-align:left\" title=\"Blarina\">Blarina</td><td style=\"text-align:left\" title=\"omni\">omni</td><td style=\"text-align:left\" title=\"Soricomorpha\">Soricomorpha</td><td style=\"text-align:left\" title=\"lc\">lc</td><td style=\"text-align:left\" title=\"14.9\">14.9</td><td style=\"text-align:left\" title=\"2.3\">2.3</td><td style=\"text-align:left\" title=\"0.133333333\">0.133333333</td><td style=\"text-align:left\" title=\"9.1\">9.1</td><td style=\"text-align:left\" title=\"2.9E-4\">2.9E-4</td><td style=\"text-align:left\" title=\"0.019\">0.019</td></tr><tr><td style=\"text-align:left\" title=\"Cow\">Cow</td><td style=\"text-align:left\" title=\"Bos\">Bos</td><td style=\"text-align:left\" title=\"herbi\">herbi</td><td style=\"text-align:left\" title=\"Artiodactyla\">Artiodactyla</td><td style=\"text-align:left\" title=\"domesticated\">domesticated</td><td style=\"text-align:left\" title=\"4.0\">4.0</td><td style=\"text-align:left\" title=\"0.7\">0.7</td><td style=\"text-align:left\" title=\"0.666666667\">0.666666667</td><td style=\"text-align:left\" title=\"20.0\">20.0</td><td style=\"text-align:left\" title=\"0.423\">0.423</td><td style=\"text-align:left\" title=\"600.0\">600.0</td></tr><tr><td style=\"text-align:left\" title=\"Three-toed sloth\">Three-toed sloth</td><td style=\"text-align:left\" title=\"Bradypus\">Bradypus</td><td style=\"text-align:left\" title=\"herbi\">herbi</td><td style=\"text-align:left\" title=\"Pilosa\">Pilosa</td><td style=\"text-align:left\" title=\"null\">null</td><td style=\"text-align:left\" title=\"14.4\">14.4</td><td style=\"text-align:left\" title=\"2.2\">2.2</td><td style=\"text-align:left\" title=\"0.766666667\">0.766666667</td><td style=\"text-align:left\" title=\"9.6\">9.6</td><td style=\"text-align:left\" title=\"null\">null</td><td style=\"text-align:left\" title=\"3.85\">3.85</td></tr></table><p>... with 77 more rows. Shape: 83 x 11. \n",
       "</p></body></html>"
      ]
     },
     "execution_count": 2,
     "metadata": {},
     "output_type": "execute_result"
    }
   ],
   "source": [
    "sleepData"
   ]
  },
  {
   "cell_type": "code",
   "execution_count": 3,
   "id": "9c5b8012",
   "metadata": {},
   "outputs": [
    {
     "data": {
      "text/html": [
       "<html><body><table><tr><th style=\"text-align:left\">name</th><th style=\"text-align:left\">genus</th><th style=\"text-align:left\">vore</th><th style=\"text-align:left\">order</th><th style=\"text-align:left\">conservation</th><th style=\"text-align:left\">sleep_total</th><th style=\"text-align:left\">sleep_rem</th><th style=\"text-align:left\">sleep_cycle</th><th style=\"text-align:left\">awake</th><th style=\"text-align:left\">brainwt</th><th style=\"text-align:left\">bodywt</th></tr><tr><td style=\"text-align:left\" title=\"Cheetah\">Cheetah</td><td style=\"text-align:left\" title=\"Acinonyx\">Acinonyx</td><td style=\"text-align:left\" title=\"carni\">carni</td><td style=\"text-align:left\" title=\"Carnivora\">Carnivora</td><td style=\"text-align:left\" title=\"lc\">lc</td><td style=\"text-align:left\" title=\"12.1\">12.1</td><td style=\"text-align:left\" title=\"null\">null</td><td style=\"text-align:left\" title=\"null\">null</td><td style=\"text-align:left\" title=\"11.9\">11.9</td><td style=\"text-align:left\" title=\"null\">null</td><td style=\"text-align:left\" title=\"50.0\">50.0</td></tr><tr><td style=\"text-align:left\" title=\"Owl monkey\">Owl monkey</td><td style=\"text-align:left\" title=\"Aotus\">Aotus</td><td style=\"text-align:left\" title=\"omni\">omni</td><td style=\"text-align:left\" title=\"Primates\">Primates</td><td style=\"text-align:left\" title=\"null\">null</td><td style=\"text-align:left\" title=\"17.0\">17.0</td><td style=\"text-align:left\" title=\"1.8\">1.8</td><td style=\"text-align:left\" title=\"null\">null</td><td style=\"text-align:left\" title=\"7.0\">7.0</td><td style=\"text-align:left\" title=\"0.0155\">0.0155</td><td style=\"text-align:left\" title=\"0.48\">0.48</td></tr><tr><td style=\"text-align:left\" title=\"Mountain beaver\">Mountain beaver</td><td style=\"text-align:left\" title=\"Aplodontia\">Aplodontia</td><td style=\"text-align:left\" title=\"herbi\">herbi</td><td style=\"text-align:left\" title=\"Rodentia\">Rodentia</td><td style=\"text-align:left\" title=\"nt\">nt</td><td style=\"text-align:left\" title=\"14.4\">14.4</td><td style=\"text-align:left\" title=\"2.4\">2.4</td><td style=\"text-align:left\" title=\"null\">null</td><td style=\"text-align:left\" title=\"9.6\">9.6</td><td style=\"text-align:left\" title=\"null\">null</td><td style=\"text-align:left\" title=\"1.35\">1.35</td></tr><tr><td style=\"text-align:left\" title=\"Greater short-tailed shrew\">Greater short-tailed shrew</td><td style=\"text-align:left\" title=\"Blarina\">Blarina</td><td style=\"text-align:left\" title=\"omni\">omni</td><td style=\"text-align:left\" title=\"Soricomorpha\">Soricomorpha</td><td style=\"text-align:left\" title=\"lc\">lc</td><td style=\"text-align:left\" title=\"14.9\">14.9</td><td style=\"text-align:left\" title=\"2.3\">2.3</td><td style=\"text-align:left\" title=\"0.133333333\">0.133333333</td><td style=\"text-align:left\" title=\"9.1\">9.1</td><td style=\"text-align:left\" title=\"2.9E-4\">2.9E-4</td><td style=\"text-align:left\" title=\"0.019\">0.019</td></tr><tr><td style=\"text-align:left\" title=\"Cow\">Cow</td><td style=\"text-align:left\" title=\"Bos\">Bos</td><td style=\"text-align:left\" title=\"herbi\">herbi</td><td style=\"text-align:left\" title=\"Artiodactyla\">Artiodactyla</td><td style=\"text-align:left\" title=\"domesticated\">domesticated</td><td style=\"text-align:left\" title=\"4.0\">4.0</td><td style=\"text-align:left\" title=\"0.7\">0.7</td><td style=\"text-align:left\" title=\"0.666666667\">0.666666667</td><td style=\"text-align:left\" title=\"20.0\">20.0</td><td style=\"text-align:left\" title=\"0.423\">0.423</td><td style=\"text-align:left\" title=\"600.0\">600.0</td></tr></table><p>Shape: 5 x 11. \n",
       "</p></body></html>"
      ]
     },
     "execution_count": 3,
     "metadata": {},
     "output_type": "execute_result"
    }
   ],
   "source": [
    "sleepData.head()"
   ]
  },
  {
   "cell_type": "code",
   "execution_count": 4,
   "id": "0882b409",
   "metadata": {
    "scrolled": true
   },
   "outputs": [
    {
     "data": {
      "text/html": [
       "<html><body><table><tr><th style=\"text-align:left\">name</th><th style=\"text-align:left\">genus</th><th style=\"text-align:left\">vore</th><th style=\"text-align:left\">order</th><th style=\"text-align:left\">conservation</th><th style=\"text-align:left\">sleep_total</th><th style=\"text-align:left\">sleep_rem</th><th style=\"text-align:left\">sleep_cycle</th><th style=\"text-align:left\">awake</th><th style=\"text-align:left\">brainwt</th><th style=\"text-align:left\">bodywt</th></tr><tr><td style=\"text-align:left\" title=\"Cheetah\">Cheetah</td><td style=\"text-align:left\" title=\"Acinonyx\">Acinonyx</td><td style=\"text-align:left\" title=\"carni\">carni</td><td style=\"text-align:left\" title=\"Carnivora\">Carnivora</td><td style=\"text-align:left\" title=\"lc\">lc</td><td style=\"text-align:left\" title=\"12.1\">12.1</td><td style=\"text-align:left\" title=\"null\">null</td><td style=\"text-align:left\" title=\"null\">null</td><td style=\"text-align:left\" title=\"11.9\">11.9</td><td style=\"text-align:left\" title=\"null\">null</td><td style=\"text-align:left\" title=\"50.0\">50.0</td></tr><tr><td style=\"text-align:left\" title=\"Owl monkey\">Owl monkey</td><td style=\"text-align:left\" title=\"Aotus\">Aotus</td><td style=\"text-align:left\" title=\"omni\">omni</td><td style=\"text-align:left\" title=\"Primates\">Primates</td><td style=\"text-align:left\" title=\"null\">null</td><td style=\"text-align:left\" title=\"17.0\">17.0</td><td style=\"text-align:left\" title=\"1.8\">1.8</td><td style=\"text-align:left\" title=\"null\">null</td><td style=\"text-align:left\" title=\"7.0\">7.0</td><td style=\"text-align:left\" title=\"0.0155\">0.0155</td><td style=\"text-align:left\" title=\"0.48\">0.48</td></tr><tr><td style=\"text-align:left\" title=\"Mountain beaver\">Mountain beaver</td><td style=\"text-align:left\" title=\"Aplodontia\">Aplodontia</td><td style=\"text-align:left\" title=\"herbi\">herbi</td><td style=\"text-align:left\" title=\"Rodentia\">Rodentia</td><td style=\"text-align:left\" title=\"nt\">nt</td><td style=\"text-align:left\" title=\"14.4\">14.4</td><td style=\"text-align:left\" title=\"2.4\">2.4</td><td style=\"text-align:left\" title=\"null\">null</td><td style=\"text-align:left\" title=\"9.6\">9.6</td><td style=\"text-align:left\" title=\"null\">null</td><td style=\"text-align:left\" title=\"1.35\">1.35</td></tr><tr><td style=\"text-align:left\" title=\"Greater short-tailed shrew\">Greater short-tailed shrew</td><td style=\"text-align:left\" title=\"Blarina\">Blarina</td><td style=\"text-align:left\" title=\"omni\">omni</td><td style=\"text-align:left\" title=\"Soricomorpha\">Soricomorpha</td><td style=\"text-align:left\" title=\"lc\">lc</td><td style=\"text-align:left\" title=\"14.9\">14.9</td><td style=\"text-align:left\" title=\"2.3\">2.3</td><td style=\"text-align:left\" title=\"0.133333333\">0.133333333</td><td style=\"text-align:left\" title=\"9.1\">9.1</td><td style=\"text-align:left\" title=\"2.9E-4\">2.9E-4</td><td style=\"text-align:left\" title=\"0.019\">0.019</td></tr><tr><td style=\"text-align:left\" title=\"Cow\">Cow</td><td style=\"text-align:left\" title=\"Bos\">Bos</td><td style=\"text-align:left\" title=\"herbi\">herbi</td><td style=\"text-align:left\" title=\"Artiodactyla\">Artiodactyla</td><td style=\"text-align:left\" title=\"domesticated\">domesticated</td><td style=\"text-align:left\" title=\"4.0\">4.0</td><td style=\"text-align:left\" title=\"0.7\">0.7</td><td style=\"text-align:left\" title=\"0.666666667\">0.666666667</td><td style=\"text-align:left\" title=\"20.0\">20.0</td><td style=\"text-align:left\" title=\"0.423\">0.423</td><td style=\"text-align:left\" title=\"600.0\">600.0</td></tr><tr><td style=\"text-align:left\" title=\"Three-toed sloth\">Three-toed sloth</td><td style=\"text-align:left\" title=\"Bradypus\">Bradypus</td><td style=\"text-align:left\" title=\"herbi\">herbi</td><td style=\"text-align:left\" title=\"Pilosa\">Pilosa</td><td style=\"text-align:left\" title=\"null\">null</td><td style=\"text-align:left\" title=\"14.4\">14.4</td><td style=\"text-align:left\" title=\"2.2\">2.2</td><td style=\"text-align:left\" title=\"0.766666667\">0.766666667</td><td style=\"text-align:left\" title=\"9.6\">9.6</td><td style=\"text-align:left\" title=\"null\">null</td><td style=\"text-align:left\" title=\"3.85\">3.85</td></tr></table><p>... with 14 more rows. Shape: 20 x 11. \n",
       "</p></body></html>"
      ]
     },
     "execution_count": 4,
     "metadata": {},
     "output_type": "execute_result"
    }
   ],
   "source": [
    "sleepData.head(20)"
   ]
  },
  {
   "cell_type": "code",
   "execution_count": 5,
   "id": "2ac30b8e",
   "metadata": {},
   "outputs": [
    {
     "data": {
      "text/html": [
       "<html><body><table><tr><th style=\"text-align:left\">name</th><th style=\"text-align:left\">genus</th><th style=\"text-align:left\">vore</th><th style=\"text-align:left\">order</th><th style=\"text-align:left\">conservation</th><th style=\"text-align:left\">sleep_total</th><th style=\"text-align:left\">sleep_rem</th><th style=\"text-align:left\">sleep_cycle</th><th style=\"text-align:left\">awake</th><th style=\"text-align:left\">brainwt</th><th style=\"text-align:left\">bodywt</th></tr><tr><td style=\"text-align:left\" title=\"Tree shrew\">Tree shrew</td><td style=\"text-align:left\" title=\"Tupaia\">Tupaia</td><td style=\"text-align:left\" title=\"omni\">omni</td><td style=\"text-align:left\" title=\"Scandentia\">Scandentia</td><td style=\"text-align:left\" title=\"null\">null</td><td style=\"text-align:left\" title=\"8.9\">8.9</td><td style=\"text-align:left\" title=\"2.6\">2.6</td><td style=\"text-align:left\" title=\"0.233333333\">0.233333333</td><td style=\"text-align:left\" title=\"15.1\">15.1</td><td style=\"text-align:left\" title=\"0.0025\">0.0025</td><td style=\"text-align:left\" title=\"0.104\">0.104</td></tr><tr><td style=\"text-align:left\" title=\"Bottle-nosed dolphin\">Bottle-nosed dolphin</td><td style=\"text-align:left\" title=\"Tursiops\">Tursiops</td><td style=\"text-align:left\" title=\"carni\">carni</td><td style=\"text-align:left\" title=\"Cetacea\">Cetacea</td><td style=\"text-align:left\" title=\"null\">null</td><td style=\"text-align:left\" title=\"5.2\">5.2</td><td style=\"text-align:left\" title=\"null\">null</td><td style=\"text-align:left\" title=\"null\">null</td><td style=\"text-align:left\" title=\"18.8\">18.8</td><td style=\"text-align:left\" title=\"null\">null</td><td style=\"text-align:left\" title=\"173.33\">173.33</td></tr><tr><td style=\"text-align:left\" title=\"Genet\">Genet</td><td style=\"text-align:left\" title=\"Genetta\">Genetta</td><td style=\"text-align:left\" title=\"carni\">carni</td><td style=\"text-align:left\" title=\"Carnivora\">Carnivora</td><td style=\"text-align:left\" title=\"null\">null</td><td style=\"text-align:left\" title=\"6.3\">6.3</td><td style=\"text-align:left\" title=\"1.3\">1.3</td><td style=\"text-align:left\" title=\"null\">null</td><td style=\"text-align:left\" title=\"17.7\">17.7</td><td style=\"text-align:left\" title=\"0.0175\">0.0175</td><td style=\"text-align:left\" title=\"2.0\">2.0</td></tr><tr><td style=\"text-align:left\" title=\"Arctic fox\">Arctic fox</td><td style=\"text-align:left\" title=\"Vulpes\">Vulpes</td><td style=\"text-align:left\" title=\"carni\">carni</td><td style=\"text-align:left\" title=\"Carnivora\">Carnivora</td><td style=\"text-align:left\" title=\"null\">null</td><td style=\"text-align:left\" title=\"12.5\">12.5</td><td style=\"text-align:left\" title=\"null\">null</td><td style=\"text-align:left\" title=\"null\">null</td><td style=\"text-align:left\" title=\"11.5\">11.5</td><td style=\"text-align:left\" title=\"0.0445\">0.0445</td><td style=\"text-align:left\" title=\"3.38\">3.38</td></tr><tr><td style=\"text-align:left\" title=\"Red fox\">Red fox</td><td style=\"text-align:left\" title=\"Vulpes\">Vulpes</td><td style=\"text-align:left\" title=\"carni\">carni</td><td style=\"text-align:left\" title=\"Carnivora\">Carnivora</td><td style=\"text-align:left\" title=\"null\">null</td><td style=\"text-align:left\" title=\"9.8\">9.8</td><td style=\"text-align:left\" title=\"2.4\">2.4</td><td style=\"text-align:left\" title=\"0.35\">0.35</td><td style=\"text-align:left\" title=\"14.2\">14.2</td><td style=\"text-align:left\" title=\"0.0504\">0.0504</td><td style=\"text-align:left\" title=\"4.23\">4.23</td></tr></table><p>Shape: 5 x 11. \n",
       "</p></body></html>"
      ]
     },
     "execution_count": 5,
     "metadata": {},
     "output_type": "execute_result"
    }
   ],
   "source": [
    "val lastFew = sleepData.tail()\n",
    "lastFew"
   ]
  },
  {
   "cell_type": "code",
   "execution_count": 6,
   "id": "fc08e6dd",
   "metadata": {},
   "outputs": [
    {
     "data": {
      "text/html": [
       "<html><body><table><tr><th style=\"text-align:left\">name</th><th style=\"text-align:left\">genus</th><th style=\"text-align:left\">vore</th><th style=\"text-align:left\">order</th><th style=\"text-align:left\">conservation</th><th style=\"text-align:left\">sleep_total</th><th style=\"text-align:left\">sleep_rem</th><th style=\"text-align:left\">sleep_cycle</th><th style=\"text-align:left\">awake</th><th style=\"text-align:left\">brainwt</th><th style=\"text-align:left\">bodywt</th></tr><tr><td style=\"text-align:left\" title=\"Giraffe\">Giraffe</td><td style=\"text-align:left\" title=\"Giraffa\">Giraffa</td><td style=\"text-align:left\" title=\"herbi\">herbi</td><td style=\"text-align:left\" title=\"Artiodactyla\">Artiodactyla</td><td style=\"text-align:left\" title=\"cd\">cd</td><td style=\"text-align:left\" title=\"1.9\">1.9</td><td style=\"text-align:left\" title=\"0.4\">0.4</td><td style=\"text-align:left\" title=\"null\">null</td><td style=\"text-align:left\" title=\"22.1\">22.1</td><td style=\"text-align:left\" title=\"null\">null</td><td style=\"text-align:left\" title=\"899.995\">899.995</td></tr><tr><td style=\"text-align:left\" title=\"Pilot whale\">Pilot whale</td><td style=\"text-align:left\" title=\"Globicephalus\">Globicephalus</td><td style=\"text-align:left\" title=\"carni\">carni</td><td style=\"text-align:left\" title=\"Cetacea\">Cetacea</td><td style=\"text-align:left\" title=\"cd\">cd</td><td style=\"text-align:left\" title=\"2.7\">2.7</td><td style=\"text-align:left\" title=\"0.1\">0.1</td><td style=\"text-align:left\" title=\"null\">null</td><td style=\"text-align:left\" title=\"21.35\">21.35</td><td style=\"text-align:left\" title=\"null\">null</td><td style=\"text-align:left\" title=\"800.0\">800.0</td></tr><tr><td style=\"text-align:left\" title=\"Gray seal\">Gray seal</td><td style=\"text-align:left\" title=\"Haliochoerus\">Haliochoerus</td><td style=\"text-align:left\" title=\"carni\">carni</td><td style=\"text-align:left\" title=\"Carnivora\">Carnivora</td><td style=\"text-align:left\" title=\"lc\">lc</td><td style=\"text-align:left\" title=\"6.2\">6.2</td><td style=\"text-align:left\" title=\"1.5\">1.5</td><td style=\"text-align:left\" title=\"null\">null</td><td style=\"text-align:left\" title=\"17.8\">17.8</td><td style=\"text-align:left\" title=\"0.325\">0.325</td><td style=\"text-align:left\" title=\"85.0\">85.0</td></tr><tr><td style=\"text-align:left\" title=\"Gray hyrax\">Gray hyrax</td><td style=\"text-align:left\" title=\"Heterohyrax\">Heterohyrax</td><td style=\"text-align:left\" title=\"herbi\">herbi</td><td style=\"text-align:left\" title=\"Hyracoidea\">Hyracoidea</td><td style=\"text-align:left\" title=\"lc\">lc</td><td style=\"text-align:left\" title=\"6.3\">6.3</td><td style=\"text-align:left\" title=\"0.6\">0.6</td><td style=\"text-align:left\" title=\"null\">null</td><td style=\"text-align:left\" title=\"17.7\">17.7</td><td style=\"text-align:left\" title=\"0.01227\">0.01227</td><td style=\"text-align:left\" title=\"2.625\">2.625</td></tr><tr><td style=\"text-align:left\" title=\"Human\">Human</td><td style=\"text-align:left\" title=\"Homo\">Homo</td><td style=\"text-align:left\" title=\"omni\">omni</td><td style=\"text-align:left\" title=\"Primates\">Primates</td><td style=\"text-align:left\" title=\"null\">null</td><td style=\"text-align:left\" title=\"8.0\">8.0</td><td style=\"text-align:left\" title=\"1.9\">1.9</td><td style=\"text-align:left\" title=\"1.5\">1.5</td><td style=\"text-align:left\" title=\"16.0\">16.0</td><td style=\"text-align:left\" title=\"1.32\">1.32</td><td style=\"text-align:left\" title=\"62.0\">62.0</td></tr></table><p>Shape: 5 x 11. \n",
       "</p></body></html>"
      ]
     },
     "execution_count": 6,
     "metadata": {},
     "output_type": "execute_result"
    }
   ],
   "source": [
    "val selection = sleepData.slice(30..34)\n",
    "selection"
   ]
  },
  {
   "cell_type": "code",
   "execution_count": 7,
   "id": "b55c4d7b",
   "metadata": {},
   "outputs": [
    {
     "data": {
      "text/plain": [
       "{name=Cheetah, genus=Acinonyx, vore=carni, order=Carnivora, conservation=lc, sleep_total=12.1, sleep_rem=null, sleep_cycle=null, awake=11.9, brainwt=null, bodywt=50.0}"
      ]
     },
     "execution_count": 7,
     "metadata": {},
     "output_type": "execute_result"
    }
   ],
   "source": [
    "sleepData.rows.elementAt(0)"
   ]
  },
  {
   "cell_type": "code",
   "execution_count": 8,
   "id": "d73228d5",
   "metadata": {},
   "outputs": [
    {
     "data": {
      "text/html": [
       "<html><body><table><tr><th style=\"text-align:left\">name</th><th style=\"text-align:left\">genus</th><th style=\"text-align:left\">vore</th><th style=\"text-align:left\">order</th><th style=\"text-align:left\">conservation</th><th style=\"text-align:left\">sleep_total</th><th style=\"text-align:left\">sleep_rem</th><th style=\"text-align:left\">sleep_cycle</th><th style=\"text-align:left\">awake</th><th style=\"text-align:left\">brainwt</th><th style=\"text-align:left\">bodywt</th></tr></table><p>Shape: 0 x 11. \n",
       "</p></body></html>"
      ]
     },
     "execution_count": 8,
     "metadata": {},
     "output_type": "execute_result"
    }
   ],
   "source": [
    "sleepData.slice(0..0)"
   ]
  },
  {
   "cell_type": "code",
   "execution_count": 9,
   "id": "1d81c911",
   "metadata": {},
   "outputs": [
    {
     "data": {
      "text/html": [
       "<html><body><table><tr><th style=\"text-align:left\">name</th><th style=\"text-align:left\">genus</th><th style=\"text-align:left\">vore</th><th style=\"text-align:left\">order</th><th style=\"text-align:left\">conservation</th><th style=\"text-align:left\">sleep_total</th><th style=\"text-align:left\">sleep_rem</th><th style=\"text-align:left\">sleep_cycle</th><th style=\"text-align:left\">awake</th><th style=\"text-align:left\">brainwt</th><th style=\"text-align:left\">bodywt</th></tr><tr><td style=\"text-align:left\" title=\"Cheetah\">Cheetah</td><td style=\"text-align:left\" title=\"Acinonyx\">Acinonyx</td><td style=\"text-align:left\" title=\"carni\">carni</td><td style=\"text-align:left\" title=\"Carnivora\">Carnivora</td><td style=\"text-align:left\" title=\"lc\">lc</td><td style=\"text-align:left\" title=\"12.1\">12.1</td><td style=\"text-align:left\" title=\"null\">null</td><td style=\"text-align:left\" title=\"null\">null</td><td style=\"text-align:left\" title=\"11.9\">11.9</td><td style=\"text-align:left\" title=\"null\">null</td><td style=\"text-align:left\" title=\"50.0\">50.0</td></tr></table><p>Shape: 1 x 11. \n",
       "</p></body></html>"
      ]
     },
     "execution_count": 9,
     "metadata": {},
     "output_type": "execute_result"
    }
   ],
   "source": [
    "sleepData.slice(1..1)"
   ]
  },
  {
   "cell_type": "code",
   "execution_count": 10,
   "id": "6c4a6921",
   "metadata": {},
   "outputs": [
    {
     "data": {
      "text/html": [
       "<html><body><table><tr><th style=\"text-align:left\">name</th><th style=\"text-align:left\">genus</th><th style=\"text-align:left\">vore</th><th style=\"text-align:left\">order</th><th style=\"text-align:left\">conservation</th><th style=\"text-align:left\">sleep_total</th><th style=\"text-align:left\">sleep_rem</th><th style=\"text-align:left\">sleep_cycle</th><th style=\"text-align:left\">awake</th><th style=\"text-align:left\">brainwt</th><th style=\"text-align:left\">bodywt</th></tr><tr><td style=\"text-align:left\" title=\"Giraffe\">Giraffe</td><td style=\"text-align:left\" title=\"Giraffa\">Giraffa</td><td style=\"text-align:left\" title=\"herbi\">herbi</td><td style=\"text-align:left\" title=\"Artiodactyla\">Artiodactyla</td><td style=\"text-align:left\" title=\"cd\">cd</td><td style=\"text-align:left\" title=\"1.9\">1.9</td><td style=\"text-align:left\" title=\"0.4\">0.4</td><td style=\"text-align:left\" title=\"null\">null</td><td style=\"text-align:left\" title=\"22.1\">22.1</td><td style=\"text-align:left\" title=\"null\">null</td><td style=\"text-align:left\" title=\"899.995\">899.995</td></tr><tr><td style=\"text-align:left\" title=\"Pilot whale\">Pilot whale</td><td style=\"text-align:left\" title=\"Globicephalus\">Globicephalus</td><td style=\"text-align:left\" title=\"carni\">carni</td><td style=\"text-align:left\" title=\"Cetacea\">Cetacea</td><td style=\"text-align:left\" title=\"cd\">cd</td><td style=\"text-align:left\" title=\"2.7\">2.7</td><td style=\"text-align:left\" title=\"0.1\">0.1</td><td style=\"text-align:left\" title=\"null\">null</td><td style=\"text-align:left\" title=\"21.35\">21.35</td><td style=\"text-align:left\" title=\"null\">null</td><td style=\"text-align:left\" title=\"800.0\">800.0</td></tr><tr><td style=\"text-align:left\" title=\"Horse\">Horse</td><td style=\"text-align:left\" title=\"Equus\">Equus</td><td style=\"text-align:left\" title=\"herbi\">herbi</td><td style=\"text-align:left\" title=\"Perissodactyla\">Perissodactyla</td><td style=\"text-align:left\" title=\"domesticated\">domesticated</td><td style=\"text-align:left\" title=\"2.9\">2.9</td><td style=\"text-align:left\" title=\"0.6\">0.6</td><td style=\"text-align:left\" title=\"1.0\">1.0</td><td style=\"text-align:left\" title=\"21.1\">21.1</td><td style=\"text-align:left\" title=\"0.655\">0.655</td><td style=\"text-align:left\" title=\"521.0\">521.0</td></tr><tr><td style=\"text-align:left\" title=\"Roe deer\">Roe deer</td><td style=\"text-align:left\" title=\"Capreolus\">Capreolus</td><td style=\"text-align:left\" title=\"herbi\">herbi</td><td style=\"text-align:left\" title=\"Artiodactyla\">Artiodactyla</td><td style=\"text-align:left\" title=\"lc\">lc</td><td style=\"text-align:left\" title=\"3.0\">3.0</td><td style=\"text-align:left\" title=\"null\">null</td><td style=\"text-align:left\" title=\"null\">null</td><td style=\"text-align:left\" title=\"21.0\">21.0</td><td style=\"text-align:left\" title=\"0.0982\">0.0982</td><td style=\"text-align:left\" title=\"14.8\">14.8</td></tr><tr><td style=\"text-align:left\" title=\"Donkey\">Donkey</td><td style=\"text-align:left\" title=\"Equus\">Equus</td><td style=\"text-align:left\" title=\"herbi\">herbi</td><td style=\"text-align:left\" title=\"Perissodactyla\">Perissodactyla</td><td style=\"text-align:left\" title=\"domesticated\">domesticated</td><td style=\"text-align:left\" title=\"3.1\">3.1</td><td style=\"text-align:left\" title=\"0.4\">0.4</td><td style=\"text-align:left\" title=\"null\">null</td><td style=\"text-align:left\" title=\"20.9\">20.9</td><td style=\"text-align:left\" title=\"0.419\">0.419</td><td style=\"text-align:left\" title=\"187.0\">187.0</td></tr><tr><td style=\"text-align:left\" title=\"African elephant\">African elephant</td><td style=\"text-align:left\" title=\"Loxodonta\">Loxodonta</td><td style=\"text-align:left\" title=\"herbi\">herbi</td><td style=\"text-align:left\" title=\"Proboscidea\">Proboscidea</td><td style=\"text-align:left\" title=\"vu\">vu</td><td style=\"text-align:left\" title=\"3.3\">3.3</td><td style=\"text-align:left\" title=\"null\">null</td><td style=\"text-align:left\" title=\"null\">null</td><td style=\"text-align:left\" title=\"20.7\">20.7</td><td style=\"text-align:left\" title=\"5.712\">5.712</td><td style=\"text-align:left\" title=\"6654.0\">6654.0</td></tr></table><p>... with 77 more rows. Shape: 83 x 11. \n",
       "</p></body></html>"
      ]
     },
     "execution_count": 10,
     "metadata": {},
     "output_type": "execute_result"
    }
   ],
   "source": [
    "sleepData.sortedBy(\"sleep_total\")"
   ]
  },
  {
   "cell_type": "code",
   "execution_count": 11,
   "id": "491281e4",
   "metadata": {},
   "outputs": [
    {
     "data": {
      "text/html": [
       "<html><body><table><tr><th style=\"text-align:left\">name</th><th style=\"text-align:left\">genus</th><th style=\"text-align:left\">vore</th><th style=\"text-align:left\">order</th><th style=\"text-align:left\">conservation</th><th style=\"text-align:left\">sleep_total</th><th style=\"text-align:left\">sleep_rem</th><th style=\"text-align:left\">sleep_cycle</th><th style=\"text-align:left\">awake</th><th style=\"text-align:left\">brainwt</th><th style=\"text-align:left\">bodywt</th></tr><tr><td style=\"text-align:left\" title=\"Cow\">Cow</td><td style=\"text-align:left\" title=\"Bos\">Bos</td><td style=\"text-align:left\" title=\"herbi\">herbi</td><td style=\"text-align:left\" title=\"Artiodactyla\">Artiodactyla</td><td style=\"text-align:left\" title=\"domesticated\">domesticated</td><td style=\"text-align:left\" title=\"4.0\">4.0</td><td style=\"text-align:left\" title=\"0.7\">0.7</td><td style=\"text-align:left\" title=\"0.666666667\">0.666666667</td><td style=\"text-align:left\" title=\"20.0\">20.0</td><td style=\"text-align:left\" title=\"0.423\">0.423</td><td style=\"text-align:left\" title=\"600.0\">600.0</td></tr><tr><td style=\"text-align:left\" title=\"Brazilian tapir\">Brazilian tapir</td><td style=\"text-align:left\" title=\"Tapirus\">Tapirus</td><td style=\"text-align:left\" title=\"herbi\">herbi</td><td style=\"text-align:left\" title=\"Perissodactyla\">Perissodactyla</td><td style=\"text-align:left\" title=\"vu\">vu</td><td style=\"text-align:left\" title=\"4.4\">4.4</td><td style=\"text-align:left\" title=\"1.0\">1.0</td><td style=\"text-align:left\" title=\"0.9\">0.9</td><td style=\"text-align:left\" title=\"19.6\">19.6</td><td style=\"text-align:left\" title=\"0.169\">0.169</td><td style=\"text-align:left\" title=\"207.501\">207.501</td></tr><tr><td style=\"text-align:left\" title=\"Bottle-nosed dolphin\">Bottle-nosed dolphin</td><td style=\"text-align:left\" title=\"Tursiops\">Tursiops</td><td style=\"text-align:left\" title=\"carni\">carni</td><td style=\"text-align:left\" title=\"Cetacea\">Cetacea</td><td style=\"text-align:left\" title=\"null\">null</td><td style=\"text-align:left\" title=\"5.2\">5.2</td><td style=\"text-align:left\" title=\"null\">null</td><td style=\"text-align:left\" title=\"null\">null</td><td style=\"text-align:left\" title=\"18.8\">18.8</td><td style=\"text-align:left\" title=\"null\">null</td><td style=\"text-align:left\" title=\"173.33\">173.33</td></tr><tr><td style=\"text-align:left\" title=\"Goat\">Goat</td><td style=\"text-align:left\" title=\"Capri\">Capri</td><td style=\"text-align:left\" title=\"herbi\">herbi</td><td style=\"text-align:left\" title=\"Artiodactyla\">Artiodactyla</td><td style=\"text-align:left\" title=\"lc\">lc</td><td style=\"text-align:left\" title=\"5.3\">5.3</td><td style=\"text-align:left\" title=\"0.6\">0.6</td><td style=\"text-align:left\" title=\"null\">null</td><td style=\"text-align:left\" title=\"18.7\">18.7</td><td style=\"text-align:left\" title=\"0.115\">0.115</td><td style=\"text-align:left\" title=\"33.5\">33.5</td></tr><tr><td style=\"text-align:left\" title=\"Tree hyrax\">Tree hyrax</td><td style=\"text-align:left\" title=\"Dendrohyrax\">Dendrohyrax</td><td style=\"text-align:left\" title=\"herbi\">herbi</td><td style=\"text-align:left\" title=\"Hyracoidea\">Hyracoidea</td><td style=\"text-align:left\" title=\"lc\">lc</td><td style=\"text-align:left\" title=\"5.3\">5.3</td><td style=\"text-align:left\" title=\"0.5\">0.5</td><td style=\"text-align:left\" title=\"null\">null</td><td style=\"text-align:left\" title=\"18.7\">18.7</td><td style=\"text-align:left\" title=\"0.0123\">0.0123</td><td style=\"text-align:left\" title=\"2.95\">2.95</td></tr><tr><td style=\"text-align:left\" title=\"Rock hyrax\">Rock hyrax</td><td style=\"text-align:left\" title=\"Procavia\">Procavia</td><td style=\"text-align:left\" title=\"null\">null</td><td style=\"text-align:left\" title=\"Hyracoidea\">Hyracoidea</td><td style=\"text-align:left\" title=\"lc\">lc</td><td style=\"text-align:left\" title=\"5.4\">5.4</td><td style=\"text-align:left\" title=\"0.5\">0.5</td><td style=\"text-align:left\" title=\"null\">null</td><td style=\"text-align:left\" title=\"18.6\">18.6</td><td style=\"text-align:left\" title=\"0.021\">0.021</td><td style=\"text-align:left\" title=\"3.6\">3.6</td></tr></table><p>Shape: 6 x 11. \n",
       "</p></body></html>"
      ]
     },
     "execution_count": 11,
     "metadata": {},
     "output_type": "execute_result"
    }
   ],
   "source": [
    "sleepData.sortedBy(\"sleep_total\").slice(10..15)"
   ]
  },
  {
   "cell_type": "code",
   "execution_count": 12,
   "id": "0ab6802d",
   "metadata": {},
   "outputs": [
    {
     "data": {
      "text/html": [
       "<html><body><table><tr><th style=\"text-align:left\">name</th><th style=\"text-align:left\">genus</th><th style=\"text-align:left\">vore</th><th style=\"text-align:left\">order</th><th style=\"text-align:left\">conservation</th><th style=\"text-align:left\">sleep_total</th><th style=\"text-align:left\">sleep_rem</th><th style=\"text-align:left\">sleep_cycle</th><th style=\"text-align:left\">awake</th><th style=\"text-align:left\">brainwt</th><th style=\"text-align:left\">bodywt</th></tr><tr><td style=\"text-align:left\" title=\"Common porpoise\">Common porpoise</td><td style=\"text-align:left\" title=\"Phocoena\">Phocoena</td><td style=\"text-align:left\" title=\"carni\">carni</td><td style=\"text-align:left\" title=\"Cetacea\">Cetacea</td><td style=\"text-align:left\" title=\"vu\">vu</td><td style=\"text-align:left\" title=\"5.6\">5.6</td><td style=\"text-align:left\" title=\"null\">null</td><td style=\"text-align:left\" title=\"null\">null</td><td style=\"text-align:left\" title=\"18.45\">18.45</td><td style=\"text-align:left\" title=\"null\">null</td><td style=\"text-align:left\" title=\"53.18\">53.18</td></tr><tr><td style=\"text-align:left\" title=\"Gray seal\">Gray seal</td><td style=\"text-align:left\" title=\"Haliochoerus\">Haliochoerus</td><td style=\"text-align:left\" title=\"carni\">carni</td><td style=\"text-align:left\" title=\"Carnivora\">Carnivora</td><td style=\"text-align:left\" title=\"lc\">lc</td><td style=\"text-align:left\" title=\"6.2\">6.2</td><td style=\"text-align:left\" title=\"1.5\">1.5</td><td style=\"text-align:left\" title=\"null\">null</td><td style=\"text-align:left\" title=\"17.8\">17.8</td><td style=\"text-align:left\" title=\"0.325\">0.325</td><td style=\"text-align:left\" title=\"85.0\">85.0</td></tr><tr><td style=\"text-align:left\" title=\"Gray hyrax\">Gray hyrax</td><td style=\"text-align:left\" title=\"Heterohyrax\">Heterohyrax</td><td style=\"text-align:left\" title=\"herbi\">herbi</td><td style=\"text-align:left\" title=\"Hyracoidea\">Hyracoidea</td><td style=\"text-align:left\" title=\"lc\">lc</td><td style=\"text-align:left\" title=\"6.3\">6.3</td><td style=\"text-align:left\" title=\"0.6\">0.6</td><td style=\"text-align:left\" title=\"null\">null</td><td style=\"text-align:left\" title=\"17.7\">17.7</td><td style=\"text-align:left\" title=\"0.01227\">0.01227</td><td style=\"text-align:left\" title=\"2.625\">2.625</td></tr><tr><td style=\"text-align:left\" title=\"Genet\">Genet</td><td style=\"text-align:left\" title=\"Genetta\">Genetta</td><td style=\"text-align:left\" title=\"carni\">carni</td><td style=\"text-align:left\" title=\"Carnivora\">Carnivora</td><td style=\"text-align:left\" title=\"null\">null</td><td style=\"text-align:left\" title=\"6.3\">6.3</td><td style=\"text-align:left\" title=\"1.3\">1.3</td><td style=\"text-align:left\" title=\"null\">null</td><td style=\"text-align:left\" title=\"17.7\">17.7</td><td style=\"text-align:left\" title=\"0.0175\">0.0175</td><td style=\"text-align:left\" title=\"2.0\">2.0</td></tr><tr><td style=\"text-align:left\" title=\"Vesper mouse\">Vesper mouse</td><td style=\"text-align:left\" title=\"Calomys\">Calomys</td><td style=\"text-align:left\" title=\"null\">null</td><td style=\"text-align:left\" title=\"Rodentia\">Rodentia</td><td style=\"text-align:left\" title=\"null\">null</td><td style=\"text-align:left\" title=\"7.0\">7.0</td><td style=\"text-align:left\" title=\"null\">null</td><td style=\"text-align:left\" title=\"null\">null</td><td style=\"text-align:left\" title=\"17.0\">17.0</td><td style=\"text-align:left\" title=\"null\">null</td><td style=\"text-align:left\" title=\"0.045\">0.045</td></tr></table><p>Shape: 5 x 11. \n",
       "</p></body></html>"
      ]
     },
     "execution_count": 12,
     "metadata": {},
     "output_type": "execute_result"
    }
   ],
   "source": [
    "sleepData.sortedBy(\"sleep_total\").slice(16..20)"
   ]
  },
  {
   "cell_type": "code",
   "execution_count": 13,
   "id": "d7abbe69",
   "metadata": {},
   "outputs": [
    {
     "data": {
      "text/html": [
       "<html><body><table><tr><th style=\"text-align:left\">name</th><th style=\"text-align:left\">genus</th><th style=\"text-align:left\">vore</th><th style=\"text-align:left\">order</th><th style=\"text-align:left\">conservation</th><th style=\"text-align:left\">sleep_total</th><th style=\"text-align:left\">sleep_rem</th><th style=\"text-align:left\">sleep_cycle</th><th style=\"text-align:left\">awake</th><th style=\"text-align:left\">brainwt</th><th style=\"text-align:left\">bodywt</th></tr><tr><td style=\"text-align:left\" title=\"Giraffe\">Giraffe</td><td style=\"text-align:left\" title=\"Giraffa\">Giraffa</td><td style=\"text-align:left\" title=\"herbi\">herbi</td><td style=\"text-align:left\" title=\"Artiodactyla\">Artiodactyla</td><td style=\"text-align:left\" title=\"cd\">cd</td><td style=\"text-align:left\" title=\"1.9\">1.9</td><td style=\"text-align:left\" title=\"0.4\">0.4</td><td style=\"text-align:left\" title=\"null\">null</td><td style=\"text-align:left\" title=\"22.1\">22.1</td><td style=\"text-align:left\" title=\"null\">null</td><td style=\"text-align:left\" title=\"899.995\">899.995</td></tr><tr><td style=\"text-align:left\" title=\"Pilot whale\">Pilot whale</td><td style=\"text-align:left\" title=\"Globicephalus\">Globicephalus</td><td style=\"text-align:left\" title=\"carni\">carni</td><td style=\"text-align:left\" title=\"Cetacea\">Cetacea</td><td style=\"text-align:left\" title=\"cd\">cd</td><td style=\"text-align:left\" title=\"2.7\">2.7</td><td style=\"text-align:left\" title=\"0.1\">0.1</td><td style=\"text-align:left\" title=\"null\">null</td><td style=\"text-align:left\" title=\"21.35\">21.35</td><td style=\"text-align:left\" title=\"null\">null</td><td style=\"text-align:left\" title=\"800.0\">800.0</td></tr><tr><td style=\"text-align:left\" title=\"Horse\">Horse</td><td style=\"text-align:left\" title=\"Equus\">Equus</td><td style=\"text-align:left\" title=\"herbi\">herbi</td><td style=\"text-align:left\" title=\"Perissodactyla\">Perissodactyla</td><td style=\"text-align:left\" title=\"domesticated\">domesticated</td><td style=\"text-align:left\" title=\"2.9\">2.9</td><td style=\"text-align:left\" title=\"0.6\">0.6</td><td style=\"text-align:left\" title=\"1.0\">1.0</td><td style=\"text-align:left\" title=\"21.1\">21.1</td><td style=\"text-align:left\" title=\"0.655\">0.655</td><td style=\"text-align:left\" title=\"521.0\">521.0</td></tr><tr><td style=\"text-align:left\" title=\"Roe deer\">Roe deer</td><td style=\"text-align:left\" title=\"Capreolus\">Capreolus</td><td style=\"text-align:left\" title=\"herbi\">herbi</td><td style=\"text-align:left\" title=\"Artiodactyla\">Artiodactyla</td><td style=\"text-align:left\" title=\"lc\">lc</td><td style=\"text-align:left\" title=\"3.0\">3.0</td><td style=\"text-align:left\" title=\"null\">null</td><td style=\"text-align:left\" title=\"null\">null</td><td style=\"text-align:left\" title=\"21.0\">21.0</td><td style=\"text-align:left\" title=\"0.0982\">0.0982</td><td style=\"text-align:left\" title=\"14.8\">14.8</td></tr><tr><td style=\"text-align:left\" title=\"Donkey\">Donkey</td><td style=\"text-align:left\" title=\"Equus\">Equus</td><td style=\"text-align:left\" title=\"herbi\">herbi</td><td style=\"text-align:left\" title=\"Perissodactyla\">Perissodactyla</td><td style=\"text-align:left\" title=\"domesticated\">domesticated</td><td style=\"text-align:left\" title=\"3.1\">3.1</td><td style=\"text-align:left\" title=\"0.4\">0.4</td><td style=\"text-align:left\" title=\"null\">null</td><td style=\"text-align:left\" title=\"20.9\">20.9</td><td style=\"text-align:left\" title=\"0.419\">0.419</td><td style=\"text-align:left\" title=\"187.0\">187.0</td></tr><tr><td style=\"text-align:left\" title=\"African elephant\">African elephant</td><td style=\"text-align:left\" title=\"Loxodonta\">Loxodonta</td><td style=\"text-align:left\" title=\"herbi\">herbi</td><td style=\"text-align:left\" title=\"Proboscidea\">Proboscidea</td><td style=\"text-align:left\" title=\"vu\">vu</td><td style=\"text-align:left\" title=\"3.3\">3.3</td><td style=\"text-align:left\" title=\"null\">null</td><td style=\"text-align:left\" title=\"null\">null</td><td style=\"text-align:left\" title=\"20.7\">20.7</td><td style=\"text-align:left\" title=\"5.712\">5.712</td><td style=\"text-align:left\" title=\"6654.0\">6654.0</td></tr></table><p>... with 77 more rows. Shape: 83 x 11. \n",
       "</p></body></html>"
      ]
     },
     "execution_count": 13,
     "metadata": {},
     "output_type": "execute_result"
    }
   ],
   "source": [
    "sleepData.sortedBy(\"sleep_total\", \"bodywt\")"
   ]
  },
  {
   "cell_type": "code",
   "execution_count": 14,
   "id": "13e33933",
   "metadata": {},
   "outputs": [
    {
     "data": {
      "text/html": [
       "<html><body><table><tr><th style=\"text-align:left\">name</th><th style=\"text-align:left\">genus</th><th style=\"text-align:left\">vore</th><th style=\"text-align:left\">order</th><th style=\"text-align:left\">conservation</th><th style=\"text-align:left\">sleep_total</th><th style=\"text-align:left\">sleep_rem</th><th style=\"text-align:left\">sleep_cycle</th><th style=\"text-align:left\">awake</th><th style=\"text-align:left\">brainwt</th><th style=\"text-align:left\">bodywt</th></tr><tr><td style=\"text-align:left\" title=\"Little brown bat\">Little brown bat</td><td style=\"text-align:left\" title=\"Myotis\">Myotis</td><td style=\"text-align:left\" title=\"insecti\">insecti</td><td style=\"text-align:left\" title=\"Chiroptera\">Chiroptera</td><td style=\"text-align:left\" title=\"null\">null</td><td style=\"text-align:left\" title=\"19.9\">19.9</td><td style=\"text-align:left\" title=\"2.0\">2.0</td><td style=\"text-align:left\" title=\"0.2\">0.2</td><td style=\"text-align:left\" title=\"4.1\">4.1</td><td style=\"text-align:left\" title=\"2.5E-4\">2.5E-4</td><td style=\"text-align:left\" title=\"0.01\">0.01</td></tr><tr><td style=\"text-align:left\" title=\"Big brown bat\">Big brown bat</td><td style=\"text-align:left\" title=\"Eptesicus\">Eptesicus</td><td style=\"text-align:left\" title=\"insecti\">insecti</td><td style=\"text-align:left\" title=\"Chiroptera\">Chiroptera</td><td style=\"text-align:left\" title=\"lc\">lc</td><td style=\"text-align:left\" title=\"19.7\">19.7</td><td style=\"text-align:left\" title=\"3.9\">3.9</td><td style=\"text-align:left\" title=\"0.116666667\">0.116666667</td><td style=\"text-align:left\" title=\"4.3\">4.3</td><td style=\"text-align:left\" title=\"3.0E-4\">3.0E-4</td><td style=\"text-align:left\" title=\"0.023\">0.023</td></tr><tr><td style=\"text-align:left\" title=\"Thick-tailed opposum\">Thick-tailed opposum</td><td style=\"text-align:left\" title=\"Lutreolina\">Lutreolina</td><td style=\"text-align:left\" title=\"carni\">carni</td><td style=\"text-align:left\" title=\"Didelphimorphia\">Didelphimorphia</td><td style=\"text-align:left\" title=\"lc\">lc</td><td style=\"text-align:left\" title=\"19.4\">19.4</td><td style=\"text-align:left\" title=\"6.6\">6.6</td><td style=\"text-align:left\" title=\"null\">null</td><td style=\"text-align:left\" title=\"4.6\">4.6</td><td style=\"text-align:left\" title=\"null\">null</td><td style=\"text-align:left\" title=\"0.37\">0.37</td></tr><tr><td style=\"text-align:left\" title=\"Giant armadillo\">Giant armadillo</td><td style=\"text-align:left\" title=\"Priodontes\">Priodontes</td><td style=\"text-align:left\" title=\"insecti\">insecti</td><td style=\"text-align:left\" title=\"Cingulata\">Cingulata</td><td style=\"text-align:left\" title=\"en\">en</td><td style=\"text-align:left\" title=\"18.1\">18.1</td><td style=\"text-align:left\" title=\"6.1\">6.1</td><td style=\"text-align:left\" title=\"null\">null</td><td style=\"text-align:left\" title=\"5.9\">5.9</td><td style=\"text-align:left\" title=\"0.081\">0.081</td><td style=\"text-align:left\" title=\"60.0\">60.0</td></tr><tr><td style=\"text-align:left\" title=\"North American Opossum\">North American Opossum</td><td style=\"text-align:left\" title=\"Didelphis\">Didelphis</td><td style=\"text-align:left\" title=\"omni\">omni</td><td style=\"text-align:left\" title=\"Didelphimorphia\">Didelphimorphia</td><td style=\"text-align:left\" title=\"lc\">lc</td><td style=\"text-align:left\" title=\"18.0\">18.0</td><td style=\"text-align:left\" title=\"4.9\">4.9</td><td style=\"text-align:left\" title=\"0.333333333\">0.333333333</td><td style=\"text-align:left\" title=\"6.0\">6.0</td><td style=\"text-align:left\" title=\"0.0063\">0.0063</td><td style=\"text-align:left\" title=\"1.7\">1.7</td></tr><tr><td style=\"text-align:left\" title=\"Long-nosed armadillo\">Long-nosed armadillo</td><td style=\"text-align:left\" title=\"Dasypus\">Dasypus</td><td style=\"text-align:left\" title=\"carni\">carni</td><td style=\"text-align:left\" title=\"Cingulata\">Cingulata</td><td style=\"text-align:left\" title=\"lc\">lc</td><td style=\"text-align:left\" title=\"17.4\">17.4</td><td style=\"text-align:left\" title=\"3.1\">3.1</td><td style=\"text-align:left\" title=\"0.383333333\">0.383333333</td><td style=\"text-align:left\" title=\"6.6\">6.6</td><td style=\"text-align:left\" title=\"0.0108\">0.0108</td><td style=\"text-align:left\" title=\"3.5\">3.5</td></tr></table><p>... with 77 more rows. Shape: 83 x 11. \n",
       "</p></body></html>"
      ]
     },
     "execution_count": 14,
     "metadata": {},
     "output_type": "execute_result"
    }
   ],
   "source": [
    "sleepData.sortedByDescending(\"sleep_total\")"
   ]
  },
  {
   "cell_type": "code",
   "execution_count": 15,
   "id": "85e4184a",
   "metadata": {},
   "outputs": [
    {
     "name": "stdout",
     "output_type": "stream",
     "text": [
      "This dataset has 32 herbivores.\n"
     ]
    },
    {
     "data": {
      "text/html": [
       "<html><body><table><tr><th style=\"text-align:left\">name</th><th style=\"text-align:left\">genus</th><th style=\"text-align:left\">vore</th><th style=\"text-align:left\">order</th><th style=\"text-align:left\">conservation</th><th style=\"text-align:left\">sleep_total</th><th style=\"text-align:left\">sleep_rem</th><th style=\"text-align:left\">sleep_cycle</th><th style=\"text-align:left\">awake</th><th style=\"text-align:left\">brainwt</th><th style=\"text-align:left\">bodywt</th></tr><tr><td style=\"text-align:left\" title=\"Mountain beaver\">Mountain beaver</td><td style=\"text-align:left\" title=\"Aplodontia\">Aplodontia</td><td style=\"text-align:left\" title=\"herbi\">herbi</td><td style=\"text-align:left\" title=\"Rodentia\">Rodentia</td><td style=\"text-align:left\" title=\"nt\">nt</td><td style=\"text-align:left\" title=\"14.4\">14.4</td><td style=\"text-align:left\" title=\"2.4\">2.4</td><td style=\"text-align:left\" title=\"null\">null</td><td style=\"text-align:left\" title=\"9.6\">9.6</td><td style=\"text-align:left\" title=\"null\">null</td><td style=\"text-align:left\" title=\"1.35\">1.35</td></tr><tr><td style=\"text-align:left\" title=\"Cow\">Cow</td><td style=\"text-align:left\" title=\"Bos\">Bos</td><td style=\"text-align:left\" title=\"herbi\">herbi</td><td style=\"text-align:left\" title=\"Artiodactyla\">Artiodactyla</td><td style=\"text-align:left\" title=\"domesticated\">domesticated</td><td style=\"text-align:left\" title=\"4.0\">4.0</td><td style=\"text-align:left\" title=\"0.7\">0.7</td><td style=\"text-align:left\" title=\"0.666666667\">0.666666667</td><td style=\"text-align:left\" title=\"20.0\">20.0</td><td style=\"text-align:left\" title=\"0.423\">0.423</td><td style=\"text-align:left\" title=\"600.0\">600.0</td></tr><tr><td style=\"text-align:left\" title=\"Three-toed sloth\">Three-toed sloth</td><td style=\"text-align:left\" title=\"Bradypus\">Bradypus</td><td style=\"text-align:left\" title=\"herbi\">herbi</td><td style=\"text-align:left\" title=\"Pilosa\">Pilosa</td><td style=\"text-align:left\" title=\"null\">null</td><td style=\"text-align:left\" title=\"14.4\">14.4</td><td style=\"text-align:left\" title=\"2.2\">2.2</td><td style=\"text-align:left\" title=\"0.766666667\">0.766666667</td><td style=\"text-align:left\" title=\"9.6\">9.6</td><td style=\"text-align:left\" title=\"null\">null</td><td style=\"text-align:left\" title=\"3.85\">3.85</td></tr><tr><td style=\"text-align:left\" title=\"Roe deer\">Roe deer</td><td style=\"text-align:left\" title=\"Capreolus\">Capreolus</td><td style=\"text-align:left\" title=\"herbi\">herbi</td><td style=\"text-align:left\" title=\"Artiodactyla\">Artiodactyla</td><td style=\"text-align:left\" title=\"lc\">lc</td><td style=\"text-align:left\" title=\"3.0\">3.0</td><td style=\"text-align:left\" title=\"null\">null</td><td style=\"text-align:left\" title=\"null\">null</td><td style=\"text-align:left\" title=\"21.0\">21.0</td><td style=\"text-align:left\" title=\"0.0982\">0.0982</td><td style=\"text-align:left\" title=\"14.8\">14.8</td></tr><tr><td style=\"text-align:left\" title=\"Goat\">Goat</td><td style=\"text-align:left\" title=\"Capri\">Capri</td><td style=\"text-align:left\" title=\"herbi\">herbi</td><td style=\"text-align:left\" title=\"Artiodactyla\">Artiodactyla</td><td style=\"text-align:left\" title=\"lc\">lc</td><td style=\"text-align:left\" title=\"5.3\">5.3</td><td style=\"text-align:left\" title=\"0.6\">0.6</td><td style=\"text-align:left\" title=\"null\">null</td><td style=\"text-align:left\" title=\"18.7\">18.7</td><td style=\"text-align:left\" title=\"0.115\">0.115</td><td style=\"text-align:left\" title=\"33.5\">33.5</td></tr><tr><td style=\"text-align:left\" title=\"Guinea pig\">Guinea pig</td><td style=\"text-align:left\" title=\"Cavis\">Cavis</td><td style=\"text-align:left\" title=\"herbi\">herbi</td><td style=\"text-align:left\" title=\"Rodentia\">Rodentia</td><td style=\"text-align:left\" title=\"domesticated\">domesticated</td><td style=\"text-align:left\" title=\"9.4\">9.4</td><td style=\"text-align:left\" title=\"0.8\">0.8</td><td style=\"text-align:left\" title=\"0.216666667\">0.216666667</td><td style=\"text-align:left\" title=\"14.6\">14.6</td><td style=\"text-align:left\" title=\"0.0055\">0.0055</td><td style=\"text-align:left\" title=\"0.728\">0.728</td></tr></table><p>... with 26 more rows. Shape: 32 x 11. \n",
       "</p></body></html>"
      ]
     },
     "execution_count": 15,
     "metadata": {},
     "output_type": "execute_result"
    }
   ],
   "source": [
    "val herbivores = sleepData.filter { it[\"vore\"] isEqualTo \"herbi\" }\n",
    "println(\"This dataset has ${herbivores.nrow} herbivores.\")\n",
    "herbivores"
   ]
  },
  {
   "cell_type": "code",
   "execution_count": 16,
   "id": "0a4c6705",
   "metadata": {},
   "outputs": [
    {
     "data": {
      "text/html": [
       "<html><body><table><tr><th style=\"text-align:left\">name</th><th style=\"text-align:left\">genus</th><th style=\"text-align:left\">vore</th><th style=\"text-align:left\">order</th><th style=\"text-align:left\">conservation</th><th style=\"text-align:left\">sleep_total</th><th style=\"text-align:left\">sleep_rem</th><th style=\"text-align:left\">sleep_cycle</th><th style=\"text-align:left\">awake</th><th style=\"text-align:left\">brainwt</th><th style=\"text-align:left\">bodywt</th></tr><tr><td style=\"text-align:left\" title=\"Cow\">Cow</td><td style=\"text-align:left\" title=\"Bos\">Bos</td><td style=\"text-align:left\" title=\"herbi\">herbi</td><td style=\"text-align:left\" title=\"Artiodactyla\">Artiodactyla</td><td style=\"text-align:left\" title=\"domesticated\">domesticated</td><td style=\"text-align:left\" title=\"4.0\">4.0</td><td style=\"text-align:left\" title=\"0.7\">0.7</td><td style=\"text-align:left\" title=\"0.666666667\">0.666666667</td><td style=\"text-align:left\" title=\"20.0\">20.0</td><td style=\"text-align:left\" title=\"0.423\">0.423</td><td style=\"text-align:left\" title=\"600.0\">600.0</td></tr><tr><td style=\"text-align:left\" title=\"Asian elephant\">Asian elephant</td><td style=\"text-align:left\" title=\"Elephas\">Elephas</td><td style=\"text-align:left\" title=\"herbi\">herbi</td><td style=\"text-align:left\" title=\"Proboscidea\">Proboscidea</td><td style=\"text-align:left\" title=\"en\">en</td><td style=\"text-align:left\" title=\"3.9\">3.9</td><td style=\"text-align:left\" title=\"null\">null</td><td style=\"text-align:left\" title=\"null\">null</td><td style=\"text-align:left\" title=\"20.1\">20.1</td><td style=\"text-align:left\" title=\"4.603\">4.603</td><td style=\"text-align:left\" title=\"2547.0\">2547.0</td></tr><tr><td style=\"text-align:left\" title=\"Horse\">Horse</td><td style=\"text-align:left\" title=\"Equus\">Equus</td><td style=\"text-align:left\" title=\"herbi\">herbi</td><td style=\"text-align:left\" title=\"Perissodactyla\">Perissodactyla</td><td style=\"text-align:left\" title=\"domesticated\">domesticated</td><td style=\"text-align:left\" title=\"2.9\">2.9</td><td style=\"text-align:left\" title=\"0.6\">0.6</td><td style=\"text-align:left\" title=\"1.0\">1.0</td><td style=\"text-align:left\" title=\"21.1\">21.1</td><td style=\"text-align:left\" title=\"0.655\">0.655</td><td style=\"text-align:left\" title=\"521.0\">521.0</td></tr><tr><td style=\"text-align:left\" title=\"Giraffe\">Giraffe</td><td style=\"text-align:left\" title=\"Giraffa\">Giraffa</td><td style=\"text-align:left\" title=\"herbi\">herbi</td><td style=\"text-align:left\" title=\"Artiodactyla\">Artiodactyla</td><td style=\"text-align:left\" title=\"cd\">cd</td><td style=\"text-align:left\" title=\"1.9\">1.9</td><td style=\"text-align:left\" title=\"0.4\">0.4</td><td style=\"text-align:left\" title=\"null\">null</td><td style=\"text-align:left\" title=\"22.1\">22.1</td><td style=\"text-align:left\" title=\"null\">null</td><td style=\"text-align:left\" title=\"899.995\">899.995</td></tr><tr><td style=\"text-align:left\" title=\"African elephant\">African elephant</td><td style=\"text-align:left\" title=\"Loxodonta\">Loxodonta</td><td style=\"text-align:left\" title=\"herbi\">herbi</td><td style=\"text-align:left\" title=\"Proboscidea\">Proboscidea</td><td style=\"text-align:left\" title=\"vu\">vu</td><td style=\"text-align:left\" title=\"3.3\">3.3</td><td style=\"text-align:left\" title=\"null\">null</td><td style=\"text-align:left\" title=\"null\">null</td><td style=\"text-align:left\" title=\"20.7\">20.7</td><td style=\"text-align:left\" title=\"5.712\">5.712</td><td style=\"text-align:left\" title=\"6654.0\">6654.0</td></tr><tr><td style=\"text-align:left\" title=\"Brazilian tapir\">Brazilian tapir</td><td style=\"text-align:left\" title=\"Tapirus\">Tapirus</td><td style=\"text-align:left\" title=\"herbi\">herbi</td><td style=\"text-align:left\" title=\"Perissodactyla\">Perissodactyla</td><td style=\"text-align:left\" title=\"vu\">vu</td><td style=\"text-align:left\" title=\"4.4\">4.4</td><td style=\"text-align:left\" title=\"1.0\">1.0</td><td style=\"text-align:left\" title=\"0.9\">0.9</td><td style=\"text-align:left\" title=\"19.6\">19.6</td><td style=\"text-align:left\" title=\"0.169\">0.169</td><td style=\"text-align:left\" title=\"207.501\">207.501</td></tr></table><p>Shape: 6 x 11. \n",
       "</p></body></html>"
      ]
     },
     "execution_count": 16,
     "metadata": {},
     "output_type": "execute_result"
    }
   ],
   "source": [
    "val heavyHerbivores = herbivores.filter { it[\"bodywt\"] ge 200 }\n",
    "heavyHerbivores"
   ]
  },
  {
   "cell_type": "code",
   "execution_count": 17,
   "id": "4e5bf588",
   "metadata": {},
   "outputs": [
    {
     "data": {
      "text/html": [
       "<html><body><table><tr><th style=\"text-align:left\">name</th><th style=\"text-align:left\">genus</th><th style=\"text-align:left\">vore</th><th style=\"text-align:left\">order</th><th style=\"text-align:left\">conservation</th><th style=\"text-align:left\">sleep_total</th><th style=\"text-align:left\">sleep_rem</th><th style=\"text-align:left\">sleep_cycle</th><th style=\"text-align:left\">awake</th><th style=\"text-align:left\">brainwt</th><th style=\"text-align:left\">bodywt</th></tr><tr><td style=\"text-align:left\" title=\"Cheetah\">Cheetah</td><td style=\"text-align:left\" title=\"Acinonyx\">Acinonyx</td><td style=\"text-align:left\" title=\"carni\">carni</td><td style=\"text-align:left\" title=\"Carnivora\">Carnivora</td><td style=\"text-align:left\" title=\"lc\">lc</td><td style=\"text-align:left\" title=\"12.1\">12.1</td><td style=\"text-align:left\" title=\"null\">null</td><td style=\"text-align:left\" title=\"null\">null</td><td style=\"text-align:left\" title=\"11.9\">11.9</td><td style=\"text-align:left\" title=\"null\">null</td><td style=\"text-align:left\" title=\"50.0\">50.0</td></tr><tr><td style=\"text-align:left\" title=\"Owl monkey\">Owl monkey</td><td style=\"text-align:left\" title=\"Aotus\">Aotus</td><td style=\"text-align:left\" title=\"omni\">omni</td><td style=\"text-align:left\" title=\"Primates\">Primates</td><td style=\"text-align:left\" title=\"null\">null</td><td style=\"text-align:left\" title=\"17.0\">17.0</td><td style=\"text-align:left\" title=\"1.8\">1.8</td><td style=\"text-align:left\" title=\"null\">null</td><td style=\"text-align:left\" title=\"7.0\">7.0</td><td style=\"text-align:left\" title=\"0.0155\">0.0155</td><td style=\"text-align:left\" title=\"0.48\">0.48</td></tr><tr><td style=\"text-align:left\" title=\"Greater short-tailed shrew\">Greater short-tailed shrew</td><td style=\"text-align:left\" title=\"Blarina\">Blarina</td><td style=\"text-align:left\" title=\"omni\">omni</td><td style=\"text-align:left\" title=\"Soricomorpha\">Soricomorpha</td><td style=\"text-align:left\" title=\"lc\">lc</td><td style=\"text-align:left\" title=\"14.9\">14.9</td><td style=\"text-align:left\" title=\"2.3\">2.3</td><td style=\"text-align:left\" title=\"0.133333333\">0.133333333</td><td style=\"text-align:left\" title=\"9.1\">9.1</td><td style=\"text-align:left\" title=\"2.9E-4\">2.9E-4</td><td style=\"text-align:left\" title=\"0.019\">0.019</td></tr><tr><td style=\"text-align:left\" title=\"Northern fur seal\">Northern fur seal</td><td style=\"text-align:left\" title=\"Callorhinus\">Callorhinus</td><td style=\"text-align:left\" title=\"carni\">carni</td><td style=\"text-align:left\" title=\"Carnivora\">Carnivora</td><td style=\"text-align:left\" title=\"vu\">vu</td><td style=\"text-align:left\" title=\"8.7\">8.7</td><td style=\"text-align:left\" title=\"1.4\">1.4</td><td style=\"text-align:left\" title=\"0.383333333\">0.383333333</td><td style=\"text-align:left\" title=\"15.3\">15.3</td><td style=\"text-align:left\" title=\"null\">null</td><td style=\"text-align:left\" title=\"20.49\">20.49</td></tr><tr><td style=\"text-align:left\" title=\"Vesper mouse\">Vesper mouse</td><td style=\"text-align:left\" title=\"Calomys\">Calomys</td><td style=\"text-align:left\" title=\"null\">null</td><td style=\"text-align:left\" title=\"Rodentia\">Rodentia</td><td style=\"text-align:left\" title=\"null\">null</td><td style=\"text-align:left\" title=\"7.0\">7.0</td><td style=\"text-align:left\" title=\"null\">null</td><td style=\"text-align:left\" title=\"null\">null</td><td style=\"text-align:left\" title=\"17.0\">17.0</td><td style=\"text-align:left\" title=\"null\">null</td><td style=\"text-align:left\" title=\"0.045\">0.045</td></tr><tr><td style=\"text-align:left\" title=\"Dog\">Dog</td><td style=\"text-align:left\" title=\"Canis\">Canis</td><td style=\"text-align:left\" title=\"carni\">carni</td><td style=\"text-align:left\" title=\"Carnivora\">Carnivora</td><td style=\"text-align:left\" title=\"domesticated\">domesticated</td><td style=\"text-align:left\" title=\"10.1\">10.1</td><td style=\"text-align:left\" title=\"2.9\">2.9</td><td style=\"text-align:left\" title=\"0.333333333\">0.333333333</td><td style=\"text-align:left\" title=\"13.9\">13.9</td><td style=\"text-align:left\" title=\"0.07\">0.07</td><td style=\"text-align:left\" title=\"14.0\">14.0</td></tr></table><p>... with 45 more rows. Shape: 51 x 11. \n",
       "</p></body></html>"
      ]
     },
     "execution_count": 17,
     "metadata": {},
     "output_type": "execute_result"
    }
   ],
   "source": [
    "val nonHerbivores = sleepData.filter { (it[\"vore\"] eq \"herbi\").not() }\n",
    "nonHerbivores"
   ]
  },
  {
   "cell_type": "code",
   "execution_count": 18,
   "id": "15e0c2da",
   "metadata": {},
   "outputs": [
    {
     "data": {
      "text/html": [
       "<html><body><table><tr><th style=\"text-align:left\">name</th><th style=\"text-align:left\">genus</th><th style=\"text-align:left\">vore</th><th style=\"text-align:left\">order</th><th style=\"text-align:left\">conservation</th><th style=\"text-align:left\">sleep_total</th><th style=\"text-align:left\">sleep_rem</th><th style=\"text-align:left\">sleep_cycle</th><th style=\"text-align:left\">awake</th><th style=\"text-align:left\">brainwt</th><th style=\"text-align:left\">bodywt</th></tr><tr><td style=\"text-align:left\" title=\"Cow\">Cow</td><td style=\"text-align:left\" title=\"Bos\">Bos</td><td style=\"text-align:left\" title=\"herbi\">herbi</td><td style=\"text-align:left\" title=\"Artiodactyla\">Artiodactyla</td><td style=\"text-align:left\" title=\"domesticated\">domesticated</td><td style=\"text-align:left\" title=\"4.0\">4.0</td><td style=\"text-align:left\" title=\"0.7\">0.7</td><td style=\"text-align:left\" title=\"0.666666667\">0.666666667</td><td style=\"text-align:left\" title=\"20.0\">20.0</td><td style=\"text-align:left\" title=\"0.423\">0.423</td><td style=\"text-align:left\" title=\"600.0\">600.0</td></tr><tr><td style=\"text-align:left\" title=\"Goat\">Goat</td><td style=\"text-align:left\" title=\"Capri\">Capri</td><td style=\"text-align:left\" title=\"herbi\">herbi</td><td style=\"text-align:left\" title=\"Artiodactyla\">Artiodactyla</td><td style=\"text-align:left\" title=\"lc\">lc</td><td style=\"text-align:left\" title=\"5.3\">5.3</td><td style=\"text-align:left\" title=\"0.6\">0.6</td><td style=\"text-align:left\" title=\"null\">null</td><td style=\"text-align:left\" title=\"18.7\">18.7</td><td style=\"text-align:left\" title=\"0.115\">0.115</td><td style=\"text-align:left\" title=\"33.5\">33.5</td></tr><tr><td style=\"text-align:left\" title=\"Asian elephant\">Asian elephant</td><td style=\"text-align:left\" title=\"Elephas\">Elephas</td><td style=\"text-align:left\" title=\"herbi\">herbi</td><td style=\"text-align:left\" title=\"Proboscidea\">Proboscidea</td><td style=\"text-align:left\" title=\"en\">en</td><td style=\"text-align:left\" title=\"3.9\">3.9</td><td style=\"text-align:left\" title=\"null\">null</td><td style=\"text-align:left\" title=\"null\">null</td><td style=\"text-align:left\" title=\"20.1\">20.1</td><td style=\"text-align:left\" title=\"4.603\">4.603</td><td style=\"text-align:left\" title=\"2547.0\">2547.0</td></tr><tr><td style=\"text-align:left\" title=\"Horse\">Horse</td><td style=\"text-align:left\" title=\"Equus\">Equus</td><td style=\"text-align:left\" title=\"herbi\">herbi</td><td style=\"text-align:left\" title=\"Perissodactyla\">Perissodactyla</td><td style=\"text-align:left\" title=\"domesticated\">domesticated</td><td style=\"text-align:left\" title=\"2.9\">2.9</td><td style=\"text-align:left\" title=\"0.6\">0.6</td><td style=\"text-align:left\" title=\"1.0\">1.0</td><td style=\"text-align:left\" title=\"21.1\">21.1</td><td style=\"text-align:left\" title=\"0.655\">0.655</td><td style=\"text-align:left\" title=\"521.0\">521.0</td></tr><tr><td style=\"text-align:left\" title=\"Donkey\">Donkey</td><td style=\"text-align:left\" title=\"Equus\">Equus</td><td style=\"text-align:left\" title=\"herbi\">herbi</td><td style=\"text-align:left\" title=\"Perissodactyla\">Perissodactyla</td><td style=\"text-align:left\" title=\"domesticated\">domesticated</td><td style=\"text-align:left\" title=\"3.1\">3.1</td><td style=\"text-align:left\" title=\"0.4\">0.4</td><td style=\"text-align:left\" title=\"null\">null</td><td style=\"text-align:left\" title=\"20.9\">20.9</td><td style=\"text-align:left\" title=\"0.419\">0.419</td><td style=\"text-align:left\" title=\"187.0\">187.0</td></tr><tr><td style=\"text-align:left\" title=\"Giraffe\">Giraffe</td><td style=\"text-align:left\" title=\"Giraffa\">Giraffa</td><td style=\"text-align:left\" title=\"herbi\">herbi</td><td style=\"text-align:left\" title=\"Artiodactyla\">Artiodactyla</td><td style=\"text-align:left\" title=\"cd\">cd</td><td style=\"text-align:left\" title=\"1.9\">1.9</td><td style=\"text-align:left\" title=\"0.4\">0.4</td><td style=\"text-align:left\" title=\"null\">null</td><td style=\"text-align:left\" title=\"22.1\">22.1</td><td style=\"text-align:left\" title=\"null\">null</td><td style=\"text-align:left\" title=\"899.995\">899.995</td></tr></table><p>... with 3 more rows. Shape: 9 x 11. \n",
       "</p></body></html>"
      ]
     },
     "execution_count": 18,
     "metadata": {},
     "output_type": "execute_result"
    }
   ],
   "source": [
    "val alsoHeavyHerbivores = sleepData\n",
    " .filter { \n",
    " (it[\"vore\"] eq \"herbi\") AND \n",
    " (it[\"bodywt\"] gt 30) \n",
    " }\n",
    "alsoHeavyHerbivores"
   ]
  },
  {
   "cell_type": "code",
   "execution_count": 20,
   "id": "90320e70",
   "metadata": {},
   "outputs": [
    {
     "data": {
      "text/html": [
       "<html><body><table><tr><th style=\"text-align:left\">name</th><th style=\"text-align:left\">genus</th><th style=\"text-align:left\">vore</th><th style=\"text-align:left\">order</th><th style=\"text-align:left\">conservation</th><th style=\"text-align:left\">sleep_total</th><th style=\"text-align:left\">sleep_rem</th><th style=\"text-align:left\">sleep_cycle</th><th style=\"text-align:left\">awake</th><th style=\"text-align:left\">brainwt</th><th style=\"text-align:left\">bodywt</th></tr><tr><td style=\"text-align:left\" title=\"Owl monkey\">Owl monkey</td><td style=\"text-align:left\" title=\"Aotus\">Aotus</td><td style=\"text-align:left\" title=\"omni\">omni</td><td style=\"text-align:left\" title=\"Primates\">Primates</td><td style=\"text-align:left\" title=\"null\">null</td><td style=\"text-align:left\" title=\"17.0\">17.0</td><td style=\"text-align:left\" title=\"1.8\">1.8</td><td style=\"text-align:left\" title=\"null\">null</td><td style=\"text-align:left\" title=\"7.0\">7.0</td><td style=\"text-align:left\" title=\"0.0155\">0.0155</td><td style=\"text-align:left\" title=\"0.48\">0.48</td></tr><tr><td style=\"text-align:left\" title=\"Patas monkey\">Patas monkey</td><td style=\"text-align:left\" title=\"Erythrocebus\">Erythrocebus</td><td style=\"text-align:left\" title=\"omni\">omni</td><td style=\"text-align:left\" title=\"Primates\">Primates</td><td style=\"text-align:left\" title=\"lc\">lc</td><td style=\"text-align:left\" title=\"10.9\">10.9</td><td style=\"text-align:left\" title=\"1.1\">1.1</td><td style=\"text-align:left\" title=\"null\">null</td><td style=\"text-align:left\" title=\"13.1\">13.1</td><td style=\"text-align:left\" title=\"0.115\">0.115</td><td style=\"text-align:left\" title=\"10.0\">10.0</td></tr><tr><td style=\"text-align:left\" title=\"Squirrel monkey\">Squirrel monkey</td><td style=\"text-align:left\" title=\"Saimiri\">Saimiri</td><td style=\"text-align:left\" title=\"omni\">omni</td><td style=\"text-align:left\" title=\"Primates\">Primates</td><td style=\"text-align:left\" title=\"null\">null</td><td style=\"text-align:left\" title=\"9.6\">9.6</td><td style=\"text-align:left\" title=\"1.4\">1.4</td><td style=\"text-align:left\" title=\"null\">null</td><td style=\"text-align:left\" title=\"14.4\">14.4</td><td style=\"text-align:left\" title=\"0.02\">0.02</td><td style=\"text-align:left\" title=\"0.743\">0.743</td></tr></table><p>Shape: 3 x 11. \n",
       "</p></body></html>"
      ]
     },
     "execution_count": 20,
     "metadata": {},
     "output_type": "execute_result"
    }
   ],
   "source": [
    "val monkeys = sleepData.filter {it[\"name\"].isMatching<String> { contains(\"monkey\")}}\n",
    "monkeys"
   ]
  },
  {
   "cell_type": "code",
   "execution_count": null,
   "id": "be86c854",
   "metadata": {},
   "outputs": [],
   "source": []
  }
 ],
 "metadata": {
  "kernelspec": {
   "display_name": "Kotlin",
   "language": "kotlin",
   "name": "kotlin"
  },
  "language_info": {
   "codemirror_mode": "text/x-kotlin",
   "file_extension": ".kt",
   "mimetype": "text/x-kotlin",
   "name": "kotlin",
   "nbconvert_exporter": "",
   "pygments_lexer": "kotlin",
   "version": "1.7.0-dev-1825"
  }
 },
 "nbformat": 4,
 "nbformat_minor": 5
}
